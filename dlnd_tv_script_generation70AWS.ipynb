{
 "cells": [
  {
   "cell_type": "markdown",
   "metadata": {
    "deletable": true,
    "editable": true
   },
   "source": [
    "# TV Script Generation\n",
    "In this project, you'll generate your own [Simpsons](https://en.wikipedia.org/wiki/The_Simpsons) TV scripts using RNNs.  You'll be using part of the [Simpsons dataset](https://www.kaggle.com/wcukierski/the-simpsons-by-the-data) of scripts from 27 seasons.  The Neural Network you'll build will generate a new TV script for a scene at [Moe's Tavern](https://simpsonswiki.com/wiki/Moe's_Tavern).\n",
    "## Get the Data\n",
    "The data is already provided for you.  You'll be using a subset of the original dataset.  It consists of only the scenes in Moe's Tavern.  This doesn't include other versions of the tavern, like \"Moe's Cavern\", \"Flaming Moe's\", \"Uncle Moe's Family Feed-Bag\", etc.."
   ]
  },
  {
   "cell_type": "code",
   "execution_count": 1,
   "metadata": {
    "collapsed": false,
    "deletable": true,
    "editable": true
   },
   "outputs": [],
   "source": [
    "\"\"\"\n",
    "DON'T MODIFY ANYTHING IN THIS CELL\n",
    "\"\"\"\n",
    "import helper\n",
    "\n",
    "data_dir = './data/simpsons/moes_tavern_lines.txt'\n",
    "text = helper.load_data(data_dir)\n",
    "# Ignore notice, since we don't use it for analysing the data\n",
    "text = text[81:]"
   ]
  },
  {
   "cell_type": "markdown",
   "metadata": {
    "deletable": true,
    "editable": true
   },
   "source": [
    "## Explore the Data\n",
    "Play around with `view_sentence_range` to view different parts of the data."
   ]
  },
  {
   "cell_type": "code",
   "execution_count": 2,
   "metadata": {
    "collapsed": false,
    "deletable": true,
    "editable": true
   },
   "outputs": [
    {
     "name": "stdout",
     "output_type": "stream",
     "text": [
      "Dataset Stats\n",
      "Roughly the number of unique words: 11492\n",
      "Number of scenes: 262\n",
      "Average number of sentences in each scene: 15.248091603053435\n",
      "Number of lines: 4257\n",
      "Average number of words in each line: 11.50434578341555\n",
      "\n",
      "The sentences 0 to 10:\n",
      "Moe_Szyslak: (INTO PHONE) Moe's Tavern. Where the elite meet to drink.\n",
      "Bart_Simpson: Eh, yeah, hello, is Mike there? Last name, Rotch.\n",
      "Moe_Szyslak: (INTO PHONE) Hold on, I'll check. (TO BARFLIES) Mike Rotch. Mike Rotch. Hey, has anybody seen Mike Rotch, lately?\n",
      "Moe_Szyslak: (INTO PHONE) Listen you little puke. One of these days I'm gonna catch you, and I'm gonna carve my name on your back with an ice pick.\n",
      "Moe_Szyslak: What's the matter Homer? You're not your normal effervescent self.\n",
      "Homer_Simpson: I got my problems, Moe. Give me another one.\n",
      "Moe_Szyslak: Homer, hey, you should not drink to forget your problems.\n",
      "Barney_Gumble: Yeah, you should only drink to enhance your social skills.\n",
      "\n",
      "\n"
     ]
    }
   ],
   "source": [
    "view_sentence_range = (0, 10)\n",
    "\n",
    "\"\"\"\n",
    "DON'T MODIFY ANYTHING IN THIS CELL\n",
    "\"\"\"\n",
    "import numpy as np\n",
    "\n",
    "print('Dataset Stats')\n",
    "print('Roughly the number of unique words: {}'.format(len({word: None for word in text.split()})))\n",
    "scenes = text.split('\\n\\n')\n",
    "print('Number of scenes: {}'.format(len(scenes)))\n",
    "sentence_count_scene = [scene.count('\\n') for scene in scenes]\n",
    "print('Average number of sentences in each scene: {}'.format(np.average(sentence_count_scene)))\n",
    "\n",
    "sentences = [sentence for scene in scenes for sentence in scene.split('\\n')]\n",
    "print('Number of lines: {}'.format(len(sentences)))\n",
    "word_count_sentence = [len(sentence.split()) for sentence in sentences]\n",
    "print('Average number of words in each line: {}'.format(np.average(word_count_sentence)))\n",
    "\n",
    "print()\n",
    "print('The sentences {} to {}:'.format(*view_sentence_range))\n",
    "print('\\n'.join(text.split('\\n')[view_sentence_range[0]:view_sentence_range[1]]))"
   ]
  },
  {
   "cell_type": "markdown",
   "metadata": {
    "deletable": true,
    "editable": true
   },
   "source": [
    "## Implement Preprocessing Functions\n",
    "The first thing to do to any dataset is preprocessing.  Implement the following preprocessing functions below:\n",
    "- Lookup Table\n",
    "- Tokenize Punctuation\n",
    "\n",
    "### Lookup Table\n",
    "To create a word embedding, you first need to transform the words to ids.  In this function, create two dictionaries:\n",
    "- Dictionary to go from the words to an id, we'll call `vocab_to_int`\n",
    "- Dictionary to go from the id to word, we'll call `int_to_vocab`\n",
    "\n",
    "Return these dictionaries in the following tuple `(vocab_to_int, int_to_vocab)`"
   ]
  },
  {
   "cell_type": "code",
   "execution_count": 3,
   "metadata": {
    "collapsed": false,
    "deletable": true,
    "editable": true
   },
   "outputs": [
    {
     "name": "stdout",
     "output_type": "stream",
     "text": [
      "{0: 'moe_szyslak', 1: 'mike', 2: 'rotch', 3: 'you', 4: 'your', 5: 'to', 6: 'drink', 7: 'homer', 8: 'not', 9: 'the', 10: 'should', 11: 'my', 12: 'name', 13: 'gonna', 14: 'problems', 15: 'one', 16: 'on', 17: 'hey', 18: 'yeah', 19: \"i'm\", 20: 'whats', 21: 'anybody', 22: 'effervescent', 23: 'give', 24: 'forget', 25: 'barney_gumble', 26: 'little', 27: 'seen', 28: 'these', 29: 'last', 30: 'and', 31: 'pick', 32: 'has', 33: 'matter', 34: \"i'll\", 35: 'an', 36: 'normal', 37: 'hold', 38: 'catch', 39: 'tavern', 40: 'enhance', 41: 'elite', 42: 'days', 43: 'hello', 44: 'there', 45: 'self', 46: 'homer_simpson', 47: \"you're\", 48: 'eh', 49: 'puke', 50: 'is', 51: 'meet', 52: 'social', 53: 'of', 54: 'bart_simpson', 55: 'with', 56: 'where', 57: 'i', 58: 'another', 59: 'check', 60: 'got', 61: 'back', 62: 'moe', 63: 'lately', 64: 'only', 65: 'carve', 66: 'listen', 67: \"moe's\", 68: 'ice', 69: 'me', 70: 'skills'}\n",
      "{'hello': 43, 'moe_szyslak': 0, 'whats': 20, 'anybody': 21, 'to': 5, 'seen': 27, 'effervescent': 22, 'give': 23, 'listen': 66, 'forget': 24, 'puke': 49, 'check': 59, 'should': 10, 'little': 26, 'not': 8, 'these': 28, 'yeah': 18, 'mike': 1, 'pick': 31, 'has': 32, 'matter': 33, \"i'll\": 34, 'my': 11, 'normal': 36, 'name': 12, 'hold': 37, 'gonna': 13, 'catch': 38, 'rotch': 2, 'tavern': 39, 'enhance': 40, 'carve': 65, 'days': 42, 'drink': 6, 'homer': 7, 'there': 44, 'problems': 14, 'self': 45, 'homer_simpson': 46, \"you're\": 47, 'eh': 48, 'the': 9, 'one': 15, 'is': 50, 'meet': 51, 'social': 52, 'bart_simpson': 54, 'with': 55, 'where': 56, 'i': 57, 'on': 16, 'your': 4, 'moe': 62, 'hey': 17, 'you': 3, 'another': 58, 'of': 53, 'got': 60, 'back': 61, 'barney_gumble': 25, 'last': 29, 'lately': 63, 'only': 64, 'elite': 41, \"i'm\": 19, 'and': 30, \"moe's\": 67, 'ice': 68, 'an': 35, 'me': 69, 'skills': 70}\n",
      "Tests Passed\n"
     ]
    }
   ],
   "source": [
    "import numpy as np\n",
    "import problem_unittests as tests\n",
    "from collections import Counter\n",
    "\n",
    "def create_lookup_tables(text):\n",
    "    \"\"\"\n",
    "    Create lookup tables for vocabulary\n",
    "    :param text: The text of tv scripts split into words\n",
    "    :return: A tuple of dicts (vocab_to_int, int_to_vocab)\n",
    "    \"\"\"\n",
    "    # TODO: Implement Function\n",
    "    word_counts = Counter(text)\n",
    "    sorted_vocab = sorted(word_counts, key=word_counts.get, reverse=True)\n",
    "    int_to_vocab = {ii: word for ii, word in enumerate(sorted_vocab)}\n",
    "    print (int_to_vocab)\n",
    "    vocab_to_int = {word: ii for ii, word in int_to_vocab.items()}\n",
    "    print (vocab_to_int)\n",
    "    return vocab_to_int, int_to_vocab\n",
    "\n",
    "\n",
    "\"\"\"\n",
    "DON'T MODIFY ANYTHING IN THIS CELL THAT IS BELOW THIS LINE\n",
    "\"\"\"\n",
    "tests.test_create_lookup_tables(create_lookup_tables)"
   ]
  },
  {
   "cell_type": "markdown",
   "metadata": {
    "deletable": true,
    "editable": true
   },
   "source": [
    "### Tokenize Punctuation\n",
    "We'll be splitting the script into a word array using spaces as delimiters.  However, punctuations like periods and exclamation marks make it hard for the neural network to distinguish between the word \"bye\" and \"bye!\".\n",
    "\n",
    "Implement the function `token_lookup` to return a dict that will be used to tokenize symbols like \"!\" into \"||Exclamation_Mark||\".  Create a dictionary for the following symbols where the symbol is the key and value is the token:\n",
    "- Period ( . )\n",
    "- Comma ( , )\n",
    "- Quotation Mark ( \" )\n",
    "- Semicolon ( ; )\n",
    "- Exclamation mark ( ! )\n",
    "- Question mark ( ? )\n",
    "- Left Parentheses ( ( )\n",
    "- Right Parentheses ( ) )\n",
    "- Dash ( -- )\n",
    "- Return ( \\n )\n",
    "\n",
    "This dictionary will be used to token the symbols and add the delimiter (space) around it.  This separates the symbols as it's own word, making it easier for the neural network to predict on the next word. Make sure you don't use a token that could be confused as a word. Instead of using the token \"dash\", try using something like \"||dash||\"."
   ]
  },
  {
   "cell_type": "code",
   "execution_count": 4,
   "metadata": {
    "collapsed": false,
    "deletable": true,
    "editable": true
   },
   "outputs": [
    {
     "name": "stdout",
     "output_type": "stream",
     "text": [
      "Tests Passed\n"
     ]
    }
   ],
   "source": [
    "def token_lookup():\n",
    "    \"\"\"\n",
    "    Generate a dict to turn punctuation into a token.\n",
    "    :return: Tokenize dictionary where the key is the punctuation and the value is the token\n",
    "    \"\"\"\n",
    "    tokens = {}\n",
    "    tokens['.'] ='<PERIOD>'\n",
    "    tokens[','] ='<COMMA>'\n",
    "    tokens['\"'] ='<QUOTATION_MARK>'\n",
    "    tokens[';'] ='<SEMICOLON>'\n",
    "    tokens['!'] ='<EXCLAMATION_MARK>'\n",
    "    tokens['?'] ='<QUESTION_MARK>'\n",
    "    tokens['('] ='<LEFT_PAREN>'\n",
    "    tokens[')'] ='<RIGHT_PAREN>'\n",
    "    tokens['--'] ='<HYPHENS>'\n",
    "    tokens['?'] ='<QUESTION_MARK>'\n",
    "#     tokens[':'] ='<COLON>'\n",
    "    tokens['\\n'] ='<NEW_LINE>'\n",
    "\n",
    "    return tokens\n",
    "\n",
    "\"\"\"\n",
    "DON'T MODIFY ANYTHING IN THIS CELL THAT IS BELOW THIS LINE\n",
    "\"\"\"\n",
    "tests.test_tokenize(token_lookup)"
   ]
  },
  {
   "cell_type": "markdown",
   "metadata": {
    "deletable": true,
    "editable": true
   },
   "source": [
    "## Preprocess all the data and save it\n",
    "Running the code cell below will preprocess all the data and save it to file."
   ]
  },
  {
   "cell_type": "code",
   "execution_count": 5,
   "metadata": {
    "collapsed": false,
    "deletable": true,
    "editable": true
   },
   "outputs": [
    {
     "name": "stdout",
     "output_type": "stream",
     "text": [
      "{0: '<period>', 1: '<new_line>', 2: '<comma>', 3: '<left_paren>', 4: '<right_paren>', 5: 'the', 6: 'i', 7: 'you', 8: '<exclamation_mark>', 9: 'moe_szyslak:', 10: '<question_mark>', 11: 'a', 12: 'homer_simpson:', 13: 'to', 14: 'and', 15: 'of', 16: 'my', 17: 'it', 18: 'that', 19: 'in', 20: '<quotation_mark>', 21: 'me', 22: 'is', 23: 'this', 24: \"i'm\", 25: 'for', 26: 'your', 27: 'homer', 28: 'on', 29: 'hey', 30: 'moe', 31: 'oh', 32: 'no', 33: 'lenny_leonard:', 34: 'what', 35: 'with', 36: 'yeah', 37: 'all', 38: 'just', 39: 'like', 40: 'but', 41: 'barney_gumble:', 42: 'so', 43: 'be', 44: 'here', 45: 'carl_carlson:', 46: \"don't\", 47: 'have', 48: \"it's\", 49: 'up', 50: 'well', 51: 'out', 52: 'do', 53: 'was', 54: 'got', 55: 'get', 56: 'are', 57: 'we', 58: \"that's\", 59: 'uh', 60: 'one', 61: \"you're\", 62: 'now', 63: 'not', 64: 'can', 65: 'know', 66: '<hyphens>', 67: 'at', 68: 'right', 69: '/', 70: 'how', 71: 'if', 72: 'back', 73: 'marge_simpson:', 74: 'about', 75: 'he', 76: 'from', 77: 'go', 78: 'gonna', 79: 'they', 80: 'there', 81: 'beer', 82: 'good', 83: 'who', 84: 'an', 85: 'man', 86: 'okay', 87: 'little', 88: 'his', 89: 'as', 90: 'some', 91: 'then', 92: \"can't\", 93: 'never', 94: 'come', 95: 'think', 96: \"i'll\", 97: 'could', 98: 'him', 99: \"i've\", 100: 'want', 101: 'see', 102: 'really', 103: 'look', 104: 'too', 105: 'been', 106: 'guys', 107: 'when', 108: 'make', 109: 'why', 110: 'bar', 111: 'ya', 112: 'her', 113: 'did', 114: 'time', 115: 'say', 116: 'ah', 117: 'gotta', 118: 'marge', 119: 'or', 120: 'take', 121: 'down', 122: 'love', 123: 'into', 124: 'more', 125: 'our', 126: 'off', 127: 'am', 128: 'guy', 129: 'sure', 130: 'barney', 131: 'two', 132: \"there's\", 133: 'thing', 134: 'would', 135: 'lisa_simpson:', 136: \"we're\", 137: 'need', 138: 'where', 139: 'had', 140: 'let', 141: 'big', 142: \"he's\", 143: 'tell', 144: 'money', 145: 'sorry', 146: \"what's\", 147: 'bart_simpson:', 148: 'over', 149: 'us', 150: 'something', 151: 'drink', 152: 'only', 153: 'by', 154: 'ever', 155: 'day', 156: 'way', 157: 'will', 158: 'wait', 159: 'chief_wiggum:', 160: 'she', 161: 'give', 162: 'even', 163: 'huh', 164: \"i'd\", 165: 'god', 166: 'new', 167: \"ain't\", 168: 'those', 169: \"didn't\", 170: 'great', 171: 'people', 172: 'lenny', 173: 'maybe', 174: 'life', 175: 'phone', 176: 'eh', 177: 'much', 178: 'has', 179: 'were', 180: \"moe's\", 181: 'mean', 182: 'going', 183: 'than', 184: 'place', 185: 'should', 186: 'wanna', 187: 'mr', 188: 'better', 189: 'these', 190: 'still', 191: 'around', 192: \"you've\", 193: \"'em\", 194: 'old', 195: 'home', 196: 'help', 197: 'friend', 198: 'noise', 199: 'before', 200: 'night', 201: 'name', 202: 'please', 203: 'aw', 204: 'last', 205: 'whoa', 206: 'seymour_skinner:', 207: 'tv', 208: 'face', 209: 'any', 210: 'boy', 211: 'made', 212: 'put', 213: 'hello', 214: 'drunk', 215: \"'cause\", 216: 'duff', 217: 'three', 218: 'call', 219: 'thanks', 220: 'their', 221: 'listen', 222: 'car', 223: 'again', 224: 'bad', 225: 'looking', 226: 'best', 227: 'very', 228: \"let's\", 229: 'first', 230: 'wow', 231: 'does', 232: 'yes', 233: 'looks', 234: 'another', 235: 'while', 236: 'them', 237: 'every', 238: 'kent_brockman:', 239: 'said', 240: 'ooh', 241: 'apu_nahasapeemapetilon:', 242: 'other', 243: 'wife', 244: 'work', 245: 'guess', 246: 'tonight', 247: 'springfield', 248: 'feel', 249: 'singing', 250: 'dad', 251: \"won't\", 252: 'sweet', 253: 'years', 254: 'play', 255: 'sobs', 256: \"they're\", 257: 'everybody', 258: 'voice', 259: 'dr', 260: 'after', 261: 'thought', 262: 'find', 263: 'buy', 264: 'things', 265: 'might', 266: 'kids', 267: 'nice', 268: 'minute', 269: 'check', 270: 'shut', 271: 'keep', 272: 'world', 273: 'head', 274: 'since', 275: 'show', 276: 'girl', 277: 'happy', 278: 'because', 279: 'beat', 280: 'bart', 281: 'sings', 282: 'sighs', 283: 'always', 284: 'chuckle', 285: 'use', 286: \"who's\", 287: 'friends', 288: 'lisa', 289: 'ow', 290: 'which', 291: 'c', 292: 'kid', 293: 'krusty_the_clown:', 294: 'someone', 295: 'carl', 296: \"isn't\", 297: \"you'll\", 298: 'stupid', 299: 'seen', 300: 'remember', 301: 'talk', 302: 'lot', 303: 'laugh', 304: 'anything', 305: \"here's\", 306: 'hundred', 307: 'thank', 308: 'glass', 309: 'through', 310: 'simpson', 311: 'hell', 312: 'laughs', 313: 'chuckles', 314: 'job', 315: 'next', 316: 'hope', 317: 'house', 318: 'long', 319: 'pretty', 320: 'kind', 321: \"nothin'\", 322: 'happened', 323: 'away', 324: 'woman', 325: 'hear', 326: 'outta', 327: 'lost', 328: 'says', 329: 'believe', 330: 'matter', 331: 'five', 332: 'once', 333: \"c'mon\", 334: 'real', 335: 'fat', 336: 'stop', 337: 'four', 338: 'turn', 339: '_montgomery_burns:', 340: 'ned_flanders:', 341: 'nervous', 342: 'waylon_smithers:', 343: 'family', 344: 'wish', 345: 'book', 346: 'tavern', 347: \"homer's\", 348: 'comes', 349: 'business', 350: 'wants', 351: 'actually', 352: 'idea', 353: \"goin'\", 354: 'grampa_simpson:', 355: 'wrong', 356: 'ask', 357: \"doin'\", 358: 'myself', 359: 'game', 360: 'getting', 361: 'party', 362: 'today', 363: \"she's\", 364: 'used', 365: 'town', 366: 'problem', 367: 'enough', 368: \"wouldn't\", 369: 'done', 370: \"we've\", 371: 'everything', 372: 'must', 373: 'burns', 374: 'nobody', 375: \"comin'\", 376: 'duffman:', 377: 'many', 378: 'loud', 379: 'bucks', 380: 'um', 381: 'hold', 382: 'gee', 383: 'try', 384: 'doing', 385: 'sound', 386: 'took', 387: 'true', 388: 'sounds', 389: 'woo', 390: 'nah', 391: 'free', 392: 'na', 393: 'dollars', 394: 'reading', 395: 'watch', 396: 'maggie', 397: 'thinking', 398: 'being', 399: 'beautiful', 400: 'daughter', 401: 'makes', 402: 'chief', 403: 'everyone', 404: 'stuff', 405: 'edna', 406: 'leave', 407: 'canyonero', 408: 'baby', 409: 'wanted', 410: 'under', 411: 'secret', 412: 'gimme', 413: \"where's\", 414: 'excuse', 415: 'pay', 416: 'kemi:', 417: 'kill', 418: 'pants', 419: 'yourself', 420: 'care', 421: 'sell', 422: 'most', 423: 'tough', 424: 'mouth', 425: 'worry', 426: \"you'd\", 427: 'dinner', 428: 'went', 429: 'tipsy', 430: 'left', 431: 'quickly', 432: 'smithers', 433: 'pal', 434: 'hurt', 435: 'save', 436: 'pick', 437: 'points', 438: 'dead', 439: 'own', 440: 'sad', 441: 'knew', 442: 'eyes', 443: 'hoo', 444: 'heard', 445: 'dog', 446: 'ladies', 447: 'funny', 448: 'gave', 449: 'die', 450: 'hi', 451: 'sign', 452: 'till', 453: 'hate', 454: 'saw', 455: 'tomorrow', 456: 'school', 457: 'told', 458: 'quit', 459: 'camera', 460: 'came', 461: 'skinner', 462: 'feeling', 463: 'booze', 464: 'gets', 465: 'fine', 466: 'break', 467: 'win', 468: 'excited', 469: 'drinking', 470: 'barflies:', 471: 'fire', 472: 'kinda', 473: 'gasp', 474: 'noises', 475: 'jacques:', 476: 'clean', 477: 'seven', 478: 'small', 479: 'cash', 480: 'surprised', 481: 'burn', 482: 'nuts', 483: 'room', 484: 'alcohol', 485: 'mad', 486: 'million', 487: 'artie_ziff:', 488: 'fight', 489: 'sir', 490: 'without', 491: 'krusty', 492: 'gone', 493: 'mom', 494: 'bring', 495: 'easy', 496: 'hands', 497: 'eat', 498: 'hand', 499: 'date', 500: \"couldn't\", 501: 'flaming', 502: 'calling', 503: 'drive', 504: 'kirk_van_houten:', 505: 'super', 506: 'anyone', 507: 'read', 508: 'twenty', 509: \"aren't\", 510: 'loves', 511: 'forget', 512: 'loser', 513: 'happen', 514: \"lookin'\", 515: 'problems', 516: \"drinkin'\", 517: 'already', 518: \"haven't\", 519: 'six', 520: 'geez', 521: 'coming', 522: 'meet', 523: 'trouble', 524: \"somethin'\", 525: \"talkin'\", 526: 'high', 527: 'seymour', 528: 'low', 529: 'turns', 530: 'dear', 531: \"wasn't\", 532: \"doesn't\", 533: 'tape', 534: \"we'll\", 535: \"y'know\", 536: 'gentlemen', 537: 'door', 538: 'cut', 539: 'course', 540: 'sadly', 541: 'behind', 542: 'anyway', 543: 'upset', 544: 'chance', 545: 'professor_jonathan_frink:', 546: 'each', 547: 'bartender', 548: 'called', 549: 'whatever', 550: 'learn', 551: 'close', 552: 'wiggum', 553: 'uh-oh', 554: 'm', 555: 'larry:', 556: 'war', 557: 'end', 558: 'quiet', 559: 'sing', 560: 'crazy', 561: 'works', 562: 'hot', 563: 'bar_rag:', 564: 'snake_jailbird:', 565: 'moan', 566: 'mmmm', 567: 'keys', 568: 'steal', 569: 'hours', 570: 'sigh', 571: 'spend', 572: 'trying', 573: 'talking', 574: 'the_rich_texan:', 575: 'fun', 576: ':', 577: 'stay', 578: 'machine', 579: 'worried', 580: 'blame', 581: 'bottle', 582: 'worse', 583: 'change', 584: 'throat', 585: 'start', 586: 'disgusted', 587: \"it'll\", 588: 'straight', 589: 'stand', 590: 'self', 591: 'watching', 592: \"gettin'\", 593: 'live', 594: 'outside', 595: 'heart', 596: 'eye', 597: 'ugly', 598: 'whole', 599: 'least', 600: 'realizing', 601: 'lady', 602: 'song', 603: 'dump', 604: 'ma', 605: 'police', 606: 'special', 607: 'may', 608: 'poor', 609: 'apu', 610: 'second', 611: 'delete', 612: 'air', 613: 'playing', 614: 'perfect', 615: 'gasps', 616: 'thousand', 617: 'year', 618: 'greatest', 619: 'ten', 620: 'morning', 621: 'alive', 622: 'lousy', 623: 'less', 624: 'mother', 625: 'girls', 626: 'bit', 627: 'probably', 628: 'bowl', 629: 'front', 630: 'late', 631: 'goodbye', 632: 'blue', 633: 'young', 634: 'thinks', 635: 'married', 636: 'learned', 637: 'whip', 638: 'pull', 639: \"shouldn't\", 640: 'shocked', 641: 'either', 642: 'drinks', 643: 'light', 644: 'barflies', 645: 'private', 646: 'person', 647: 'heh', 648: 'far', 649: 'turned', 650: \"'bout\", 651: 'stick', 652: 'point', 653: 'joe', 654: 'anymore', 655: 'soon', 656: 'crowd:', 657: 'else', 658: 'annoyed', 659: 'such', 660: 'tsk', 661: 'butt', 662: 'times', 663: 'marriage', 664: 'buddy', 665: 'agnes_skinner:', 666: 'rev', 667: 'card', 668: 'picture', 669: 'shot', 670: \"how'd\", 671: 'nods', 672: 'miss', 673: 'serious', 674: 'smell', 675: 'anybody', 676: 'ass', 677: 'mayor_joe_quimby:', 678: 'jacques', 679: 'join', 680: 'open', 681: 'moron', 682: 'fifty', 683: 'boxing', 684: 'barn', 685: 'lemme', 686: 'tab', 687: 'youse', 688: 'eight', 689: 'pig', 690: 'beers', 691: 'store', 692: 'goodnight', 693: 'president', 694: 'exactly', 695: 'kick', 696: 'shotgun', 697: 'knows', 698: 'box', 699: 'king', 700: 'yet', 701: 'turning', 702: 'walk', 703: 'feet', 704: 'duffman', 705: 'later', 706: 'couple', 707: 'alone', 708: 'letter', 709: 'ticket', 710: 'throw', 711: 'christmas', 712: 'blood', 713: 'nothing', 714: 'mind', 715: 'lucky', 716: 'arm', 717: 'instead', 718: 'found', 719: 'minutes', 720: 'both', 721: 'patty_bouvier:', 722: 'goes', 723: 'uh-huh', 724: 'american', 725: 'cool', 726: 'taking', 727: 'boys', 728: 'angry', 729: 'street', 730: 'amazed', 731: 'weird', 732: 'wire', 733: 'hide', 734: 'selma_bouvier:', 735: 'dry', 736: 'ha', 737: 'losers', 738: 'glove', 739: 'intrigued', 740: 'using', 741: 'japanese', 742: 'rummy', 743: 'plus', 744: 'damn', 745: 'advice', 746: 'english', 747: 'nine', 748: 'ball', 749: 'ned', 750: \"makin'\", 751: 'himself', 752: 'story', 753: 'o', 754: 'tap', 755: 'warmly', 756: 'words', 757: 'means', 758: 'ready', 759: '<semicolon>', 760: 'number', 761: 'deal', 762: 'telling', 763: 'broke', 764: 'fast', 765: 'etc', 766: 'comic_book_guy:', 767: 'making', 768: 'somebody', 769: 'days', 770: 'huge', 771: 'channel', 772: 'butts', 773: 'human', 774: 'afraid', 775: 'though', 776: 'return', 777: 'forever', 778: 'cold', 779: 'welcome', 780: 'walking', 781: 'proudly', 782: 's', 783: 'dance', 784: 'accident', 785: 'fellas', 786: 'peanuts', 787: \"ol'\", 788: 'warm_female_voice:', 789: 'hmm', 790: 'together', 791: 'terrible', 792: 'top', 793: 'homie', 794: 'kiss', 795: 'sitting', 796: 'mrs', 797: \"kiddin'\", 798: 'seems', 799: 'table', 800: 'ahh', 801: 'happier', 802: 'son', 803: 'hang', 804: 'horrible', 805: 'grampa', 806: 'glad', 807: 'black', 808: 'collette:', 809: 'screw', 810: 'favorite', 811: 'scared', 812: 'round', 813: 'move', 814: 'city', 815: 'paint', 816: 'send', 817: 'seat', 818: \"he'll\", 819: 'lucius:', 820: 'saying', 821: 'plant', 822: 'sotto', 823: 'news', 824: 'la', 825: 'renee:', 826: 'moans', 827: 'run', 828: 'smile', 829: 'word', 830: 'alright', 831: 'inside', 832: 'narrator:', 833: 'finally', 834: 'eggs', 835: 'friendly', 836: 'full', 837: 'food', 838: 'crap', 839: 'pour', 840: 'young_marge:', 841: 'lowers', 842: 'eating', 843: 'thirty', 844: 'numbers', 845: 'star', 846: 'pass', 847: 'ones', 848: 'rat', 849: 'jukebox', 850: 'except', 851: 'bitter', 852: 'fill', 853: 'set', 854: 'plastic', 855: 'belch', 856: \"we'd\", 857: 'admit', 858: 'strong', 859: 'plan', 860: 'invented', 861: 'young_homer:', 862: 'sips', 863: 'shall', 864: 'fall', 865: 'laughing', 866: 'dunno', 867: 'lying', 868: 'omigod', 869: 'dangerous', 870: 'along', 871: 'holds', 872: 'milk', 873: 'truth', 874: 'crack', 875: 'joey', 876: 'hair', 877: 'slap', 878: 'write', 879: 'birthday', 880: \"that'll\", 881: 'touched', 882: 'health_inspector:', 883: 'hard', 884: 'tony', 885: 'impressed', 886: 'tinkle', 887: \"sayin'\", 888: 'fat_tony:', 889: 'state', 890: 'safe', 891: 'normal', 892: 'half', 893: 'honest', 894: 'tip', 895: 'became', 896: 'baseball', 897: 'gold', 898: 'tune', 899: 'charge', 900: 'flanders', 901: 'company', 902: 'mister', 903: '_julius_hibbert:', 904: 'gumbel', 905: 'power', 906: 'bow', 907: 'slow', 908: 'walther_hotenhoffer:', 909: 'kent', 910: 'health', 911: 'princess', 912: 'class', 913: 'same', 914: 'manjula_nahasapeemapetilon:', 915: 'harv:', 916: 'sex', 917: 'principal', 918: 'worst', 919: 'honey', 920: 'bet', 921: 'heaven', 922: 'lou:', 923: 'across', 924: 'smells', 925: 'maya:', 926: 'hit', 927: 'romantic', 928: 'week', 929: 'loved', 930: 'brought', 931: 'giving', 932: 'szyslak', 933: 'nigel_bakerbutcher:', 934: 'group', 935: 'takes', 936: 'dumb', 937: 'men', 938: 'won', 939: 'stool', 940: 'lives', 941: 'treasure', 942: 'football_announcer:', 943: 'ice', 944: 'hank_williams_jr', 945: 'al', 946: 'music', 947: 'gives', 948: 'water', 949: 'holding', 950: 'supposed', 951: 'uncle', 952: 'sick', 953: 'seconds', 954: 'forgot', 955: 'bag', 956: 'desperate', 957: 'quick', 958: 'denver', 959: 'sent', 960: 'early', 961: 'lose', 962: 'mine', 963: 'tree', 964: 'speaking', 965: 'clear', 966: 'window', 967: 'short', 968: 'club', 969: 'p', 970: 'running', 971: 'testing', 972: 'offended', 973: 'bank', 974: 'artie', 975: 'center', 976: 'catch', 977: 'cleaned', 978: 'closed', 979: 'punch', 980: \"world's\", 981: 'tv_wife:', 982: 'during', 983: 'needs', 984: 'women', 985: 'puzzled', 986: 'pity', 987: 'lord', 988: 'rope', 989: 'confused', 990: 'names', 991: 'coaster', 992: 'empty', 993: 'tongue', 994: 'evening', 995: 'cost', 996: 'given', 997: 'bed', 998: 'suddenly', 999: 'daddy', 1000: 'red', 1001: 'nineteen', 1002: 'nuclear', 1003: 'selma', 1004: 'asked', 1005: 'cheer', 1006: 'college', 1007: 'stories', 1008: 'having', 1009: \"one's\", 1010: 'wine', 1011: 'biggest', 1012: \"workin'\", 1013: 'tv_husband:', 1014: 'cop', 1015: \"i'm-so-stupid\", 1016: 'until', 1017: \"how's\", 1018: 'soul', 1019: \"sittin'\", 1020: 'dallas', 1021: 'hopeful', 1022: 'african', 1023: 'pop', 1024: 'children', 1025: 'dying', 1026: 'rest', 1027: \"tryin'\", 1028: 'wrote', 1029: 'sauce', 1030: 'wheel', 1031: 'disappointed', 1032: 'government', 1033: 'ashamed', 1034: 'fingers', 1035: 'treat', 1036: \"he'd\", 1037: 'cutting', 1038: 'act', 1039: 'speech', 1040: \"guy's\", 1041: 'luck', 1042: 'survive', 1043: 'duh', 1044: 'tired', 1045: 'dame', 1046: 'service', 1047: 'troll', 1048: 'joint', 1049: 'mouse', 1050: 'writing', 1051: 'proud', 1052: 'felt', 1053: 'brilliant', 1054: 'few', 1055: 'favor', 1056: 'pipe', 1057: 'sharps', 1058: 'little_man:', 1059: \"smokin'_joe_frazier:\", 1060: 'pool', 1061: 'beloved', 1062: 'represent', 1063: 'chug', 1064: 'nein', 1065: 'local', 1066: 'fish', 1067: 'clown', 1068: 'wallet', 1069: 'truck', 1070: 'deer', 1071: 'lessons', 1072: 'saved', 1073: 'broad', 1074: 'hated', 1075: 'man:', 1076: 'also', 1077: 'hospital', 1078: 'doubt', 1079: 'sober', 1080: 'beach', 1081: 'x', 1082: 'suicide', 1083: 'games', 1084: 'bender:', 1085: 'filthy', 1086: 'french', 1087: 'handsome', 1088: 'detective_homer_simpson:', 1089: 'gay', 1090: 'caught', 1091: 'named', 1092: 'against', 1093: 'hanging', 1094: \"lisa's\", 1095: 'isotopes', 1096: 'i-i', 1097: 'wonder', 1098: 'strap', 1099: 'sunday', 1100: 'jar', 1101: 'changing', 1102: 'ago', 1103: 'third', 1104: 'suit', 1105: 'none', 1106: 'part', 1107: 'ad', 1108: 'speak', 1109: 'shaking', 1110: 'invited', 1111: 'accent', 1112: 'horrified', 1113: 'announcer:', 1114: 'driving', 1115: 'movie', 1116: 'jeez', 1117: 'absolutely', 1118: 'sob', 1119: 'billy_the_kid:', 1120: 'jerks', 1121: '_zander:', 1122: 'park', 1123: 'wha', 1124: 'america', 1125: 'stunned', 1126: 'dude', 1127: 'cow', 1128: 'glasses', 1129: 'side', 1130: 'unless', 1131: \"drivin'\", 1132: \"callin'\", 1133: 'edna_krabappel-flanders:', 1134: 'wall', 1135: 'grand', 1136: 'quietly', 1137: 'adult_bart:', 1138: 'wonderful', 1139: 'mayor', 1140: 'bee', 1141: 'jack', 1142: 'dank', 1143: \"tellin'\", 1144: 'drederick', 1145: 'fellow', 1146: 'owe', 1147: 'lloyd:', 1148: 'mike', 1149: 'longer', 1150: 'yea', 1151: 'designated', 1152: 'boring', 1153: 'yep', 1154: 'counting', 1155: 'piece', 1156: 'shirt', 1157: 'swear', 1158: 'totally', 1159: 'exasperated', 1160: 'calm', 1161: 'clears', 1162: 'brockman', 1163: 'all:', 1164: 'surgery', 1165: 'thumb', 1166: 'glen:', 1167: 'chanting', 1168: '_hooper:', 1169: 'customers', 1170: 'sarcastic', 1171: 'nose', 1172: 'buttons', 1173: 'starts', 1174: 'lotta', 1175: 'pain', 1176: 'blow', 1177: 'pit', 1178: 'rag', 1179: 'mug', 1180: 'ingredient', 1181: 'garbage', 1182: 'island', 1183: 'dan_gillick:', 1184: 'scream', 1185: 'original', 1186: 'deep', 1187: 'sports', 1188: \"dad's\", 1189: 'loaded', 1190: 'twins', 1191: 'whee', 1192: 'cries', 1193: 'selling', 1194: 'clothes', 1195: 'renee', 1196: 'smiling', 1197: 'whiny', 1198: 'pickled', 1199: 'stillwater:', 1200: 'sits', 1201: 'sees', 1202: 'opportunity', 1203: 'declan_desmond:', 1204: 'illegal', 1205: 'rob', 1206: 'sobbing', 1207: 'ruined', 1208: 'senator', 1209: \"moe's_thoughts:\", 1210: 'heavyweight', 1211: 'knock', 1212: 'tatum', 1213: 'sincere', 1214: 'south', 1215: 'wear', 1216: 'books', 1217: 'field', 1218: 'market', 1219: 'monster', 1220: 'eddie:', 1221: \"livin'\", 1222: 'belches', 1223: 'betty:', 1224: 'kidding', 1225: 'breath', 1226: 'fifteen', 1227: \"o'problem\", 1228: \"who'll\", 1229: 'whaddaya', 1230: 'weekly', 1231: 'smooth', 1232: 'follow', 1233: 'woman:', 1234: 'explaining', 1235: 'clearly', 1236: \"what'll\", 1237: \"valentine's\", 1238: \"today's\", 1239: 'sit', 1240: 'professional', 1241: 'dang', 1242: 'distraught', 1243: 'address', 1244: 'arrest', 1245: 'drivers', 1246: 'gotten', 1247: 'case', 1248: 'road', 1249: 'movies', 1250: 'beauty', 1251: 'pulls', 1252: 'meeting', 1253: 'answer', 1254: 'calls', 1255: 'fix', 1256: 'cover', 1257: 'chick', 1258: 'castle', 1259: 'body', 1260: \"watchin'\", 1261: 'drug', 1262: 'u', 1263: 'yard', 1264: 'started', 1265: \"o'clock\", 1266: 'moment', 1267: 'ominous', 1268: 'frustrated', 1269: \"carl's\", 1270: 'partner', 1271: 'fbi', 1272: 'amid', 1273: 'almost', 1274: 'finding', 1275: 'pulled', 1276: 'bald', 1277: 'guns', 1278: 'stirring', 1279: 'burt', 1280: 'situation', 1281: 'question', 1282: 'grim', 1283: 'buffalo', 1284: 'ivana', 1285: 'gas', 1286: 'lie', 1287: 'tail', 1288: 'yellow', 1289: 'eleven', 1290: 'adeleine', 1291: 'band', 1292: 'hero', 1293: 'different', 1294: 'babies', 1295: 'forget-me-shot', 1296: 'test', 1297: 'rich', 1298: 'died', 1299: 'amazing', 1300: 'foibles', 1301: 'new_health_inspector:', 1302: 'stock', 1303: 'busy', 1304: 'ourselves', 1305: 'flowers', 1306: 'domestic', 1307: 'championship', 1308: 'train', 1309: 'awkward', 1310: 'pleased', 1311: 'months', 1312: 'rotch', 1313: 'sheepish', 1314: 'match', 1315: 'bees', 1316: 'stagy', 1317: 'cares', 1318: 'milhouse_van_houten:', 1319: 'character', 1320: 'figured', 1321: 'agent', 1322: 'husband', 1323: 'hungry', 1324: 'twelve', 1325: 'line', 1326: 'neck', 1327: 'jerk', 1328: 'video', 1329: 'enjoy', 1330: 'sold', 1331: 'à', 1332: 'chocolate', 1333: 'furious', 1334: 'hans:', 1335: 'usually', 1336: 'correct', 1337: 'yap', 1338: 'vance', 1339: \"everyone's\", 1340: 'ken:', 1341: 'hoping', 1342: 'pitcher', 1343: 'forty', 1344: 'yesterday', 1345: 'plow', 1346: 'able', 1347: 'teenage_bart:', 1348: 'folks', 1349: 'feels', 1350: 'whisper', 1351: 'dollar', 1352: 'tom', 1353: 'france', 1354: 'wally:', 1355: 'seem', 1356: 'arms', 1357: 'thoughtful', 1358: 'threw', 1359: 'choice', 1360: 'hits', 1361: 'snake', 1362: 'couch', 1363: 'david_byrne:', 1364: 'hugh:', 1365: 'procedure', 1366: 'legs', 1367: 'sister', 1368: 'offer', 1369: 'upbeat', 1370: 'teach', 1371: 'needed', 1372: 'understand', 1373: 'brain', 1374: 'respect', 1375: \"buyin'\", 1376: 'fan', 1377: 'dennis_conroy:', 1378: 'girlfriend', 1379: 'therapy', 1380: 'career', 1381: 'bill', 1382: 'lips', 1383: 'burps', 1384: 'especially', 1385: 'liver', 1386: 'hm', 1387: 'raises', 1388: 'finger', 1389: 'sense', 1390: 'radishes', 1391: 'sexy', 1392: 'ooo', 1393: 're:', 1394: 'quite', 1395: 'flips', 1396: 'sly', 1397: 'embarrassed', 1398: 'meaningful', 1399: 'bars', 1400: 'burp', 1401: 'pipes', 1402: 'secrets', 1403: 'bye', 1404: 'magic', 1405: 'egg', 1406: 'cable', 1407: 'spot', 1408: 'restaurant', 1409: 'keeps', 1410: 'pickle', 1411: 'billboard', 1412: 'polite', 1413: 'flower', 1414: 'closing', 1415: 'bottom', 1416: 'rather', 1417: 'senators', 1418: 'dramatic', 1419: 'ride', 1420: 'ahead', 1421: 'working', 1422: 'pointed', 1423: 'coat', 1424: 'hurry', 1425: 'fridge', 1426: 'huggenkiss', 1427: 'precious', 1428: 'teenage_barney:', 1429: 'gin', 1430: 'trip', 1431: \"bein'\", 1432: 'father', 1433: 'pub', 1434: 'minimum', 1435: 'amanda', 1436: 'computer', 1437: 'boat', 1438: 'shows', 1439: \"they've\", 1440: 'workers', 1441: \"ridin'\", 1442: 'per', 1443: 'panicky', 1444: 'spoken', 1445: 'extra', 1446: 'past', 1447: 'compliment', 1448: 'coffee', 1449: 'pageant', 1450: 'fans', 1451: 'nation', 1452: 'tips', 1453: 'greystash', 1454: 'weeks', 1455: 'walks', 1456: 'gary_chalmers:', 1457: 'incredulous', 1458: 'staying', 1459: 'har', 1460: 'corpses', 1461: 'grunt', 1462: 'saturday', 1463: \"barney's\", 1464: 'wearing', 1465: 'fever', 1466: 'imagine', 1467: 'harv', 1468: 'searching', 1469: 'international', 1470: 'knocked', 1471: \"could've\", 1472: 'lots', 1473: 'then:', 1474: 'serve', 1475: 'backwards', 1476: 'reminds', 1477: '_kissingher:', 1478: 'covers', 1479: \"where'd\", 1480: 'pays', 1481: 'rub', 1482: 'who-o-oa', 1483: 'ring', 1484: 'fly', 1485: 'ohmygod', 1486: 'flatly', 1487: 'cigarette', 1488: 'feed', 1489: 'traffic', 1490: 'heads', 1491: 'snaps', 1492: 'shove', 1493: 'enemy', 1494: 'scene', 1495: 'jamaican', 1496: 'sometime', 1497: 'pissed', 1498: 'entire', 1499: 'perhaps', 1500: 'following', 1501: 'upon', 1502: 'complete', 1503: 'fair', 1504: 'jump', 1505: 'pockets', 1506: \"robbin'\", 1507: 'fault', 1508: 'german', 1509: 'scotch', 1510: 'changed', 1511: 'screams', 1512: 'worked', 1513: 'sexual', 1514: 'summer', 1515: 'ziffcorp', 1516: 'coney', 1517: 'idiot', 1518: 'hmmm', 1519: 'peter', 1520: 'hilarious', 1521: 'palmerston', 1522: 'suppose', 1523: 'rough', 1524: 'powerful', 1525: 'expect', 1526: 'corner', 1527: 'closer', 1528: 'mechanical', 1529: 'moved', 1530: 'troy:', 1531: 'literature', 1532: 'leans', 1533: 'toilet', 1534: 'accurate', 1535: 'sec', 1536: 'invite', 1537: 'sleep', 1538: 'bike', 1539: 'delicious', 1540: 'careful', 1541: 'lindsay_naegle:', 1542: 'floor', 1543: 'moments', 1544: '_timothy_lovejoy:', 1545: 'driver', 1546: 'accept', 1547: 'pocket', 1548: 'size', 1549: 'vomit', 1550: 'order', 1551: \"wife's\", 1552: 'source', 1553: 'ancient', 1554: 'cards', 1555: 'prank', 1556: 'helicopter', 1557: '&', 1558: 'pats', 1559: 'foot', 1560: 'indignant', 1561: 'bought', 1562: 'dive', 1563: 'drunks', 1564: 'burning', 1565: 'sweetly', 1566: 'meant', 1567: 'reason', 1568: 'kwik-e-mart', 1569: \"they'd\", 1570: 'odd', 1571: 'list', 1572: 'stole', 1573: 'despite', 1574: 'fancy', 1575: 'aside', 1576: 'form', 1577: 'coach:', 1578: 'unlike', 1579: 'buying', 1580: 'killed', 1581: 'history', 1582: 'sisters', 1583: 'stools', 1584: 'checks', 1585: 'brother', 1586: 'sadistic_barfly:', 1587: 'parking', 1588: 'keeping', 1589: 'bowling', 1590: 'switch', 1591: 'andy', 1592: 'ridiculous', 1593: 'teenage', 1594: 'yo', 1595: 'finished', 1596: 'toss', 1597: \"c'mere\", 1598: \"they'll\", 1599: 'trust', 1600: 'al_gore:', 1601: 'guest', 1602: 'nards', 1603: 'child', 1604: 'darts', 1605: 'jesus', 1606: 'wayne:', 1607: 'suck', 1608: 'rid', 1609: 'showing', 1610: 'spit', 1611: 'fireball', 1612: 'james', 1613: 'fraud', 1614: 'sniffs', 1615: 'chest', 1616: 'sniffles', 1617: 'feelings', 1618: 'operation', 1619: 'pause', 1620: 'death', 1621: 'roll', 1622: \"'til\", 1623: 'salad', 1624: 'breaking', 1625: 'brains', 1626: 'thankful', 1627: 'attention', 1628: 'share', 1629: 'sec_agent_#1:', 1630: 'nobel', 1631: 'aww', 1632: 'toward', 1633: 'book_club_member:', 1634: 'root', 1635: 'awful', 1636: 'rats', 1637: 'clone', 1638: 'grabbing', 1639: 'button', 1640: 'season', 1641: 'evil', 1642: 'letters', 1643: 'paying', 1644: \"bart's\", 1645: 'crowd', 1646: \"havin'\", 1647: 'scam', 1648: 'crime', 1649: 'british', 1650: 'shoot', 1651: 'singers:', 1652: 'mudflap', 1653: 'subject', 1654: 'chinese', 1655: 'cents', 1656: 'peach', 1657: 'shape', 1658: 'likes', 1659: 'bless', 1660: 'military', 1661: 'puff', 1662: 'crawl', 1663: \"year's\", 1664: 'text', 1665: 'tried', 1666: 'pardon', 1667: 'teeth', 1668: 'unison', 1669: 'vegas', 1670: 'beginning', 1671: 'tells', 1672: 'glen', 1673: 'covering', 1674: 'bunch', 1675: 'fritz:', 1676: 'consider', 1677: 'mel', 1678: 'whose', 1679: 'focus', 1680: 'f', 1681: 'tears', 1682: 'struggling', 1683: \"men's\", 1684: 'threatening', 1685: 'spanish', 1686: 'hiya', 1687: 'fumes', 1688: 'its', 1689: 'glum', 1690: 'innocent', 1691: 'cough', 1692: 'age', 1693: 'pointing', 1694: 'team', 1695: 'ho', 1696: 'puke', 1697: 'pained', 1698: 'opening', 1699: 'directions', 1700: 'natural', 1701: '_babcock:', 1702: 'kept', 1703: 'frankly', 1704: 'concerned', 1705: 'cannot', 1706: 'hug', 1707: 'lonely', 1708: 'twenty-five', 1709: 'program', 1710: 'stopped', 1711: 'cheers', 1712: 'law', 1713: 'looked', 1714: 'unlucky', 1715: 'prime', 1716: 'junior', 1717: 'jolly', 1718: 'toasting', 1719: 'talk-sings', 1720: 'cheap', 1721: 'taken', 1722: 'kermit', 1723: 'exit', 1724: 'edison', 1725: 'defensive', 1726: 'thoughts', 1727: 'jail', 1728: 'tastes', 1729: 'pfft', 1730: 'ran', 1731: 'kissing', 1732: 'severe', 1733: 'dirt', 1734: 'touchdown', 1735: 'endorse', 1736: 'election', 1737: 'inspection', 1738: 'hunter', 1739: 'banks', 1740: 'clientele', 1741: 'hurts', 1742: 'somewhere', 1743: 'gently', 1744: 'above', 1745: 'lately', 1746: \"stinkin'\", 1747: 'uneasy', 1748: 'l', 1749: 'stadium', 1750: 'wiener', 1751: 'dancing', 1752: 'crank', 1753: \"lenny's\", 1754: 'belly', 1755: 'public', 1756: 'reads', 1757: 'oil', 1758: 'grow', 1759: 'drop', 1760: 'spending', 1761: 'marvin', 1762: 'hour', 1763: 'motel', 1764: 'religion', 1765: 'barney-shaped_form:', 1766: 'wipe', 1767: 'met', 1768: 'miserable', 1769: 'yee-haw', 1770: \"i-i'm\", 1771: 'customer', 1772: 'crummy', 1773: 'scum', 1774: 'losing', 1775: 'tv_father:', 1776: 'doors', 1777: 'slip', 1778: 'sadder', 1779: 'mafia', 1780: 'men:', 1781: 'bob', 1782: 'paris', 1783: 'toys', 1784: 'recommend', 1785: 'twenty-two', 1786: 'gary:', 1787: 'alley', 1788: 'enemies', 1789: 'peace', 1790: 'starting', 1791: 'fork', 1792: 'bite', 1793: 'gift', 1794: 'pathetic', 1795: 'general', 1796: 'license', 1797: 'gag', 1798: 'woo-hoo', 1799: 'inspector', 1800: 'register', 1801: 'born', 1802: 'wide', 1803: 'cameras', 1804: 'label', 1805: 'exhaust', 1806: 'cute', 1807: 'wooooo', 1808: 'midnight', 1809: \"kids'\", 1810: 'boo', 1811: 'ground', 1812: 'grabs', 1813: 'k', 1814: 'dressed', 1815: 'cocktail', 1816: 'bret:', 1817: 'comfortable', 1818: 'noticing', 1819: 'step', 1820: 'weak', 1821: \"gentleman's\", 1822: 'gal', 1823: 'stayed', 1824: 'film', 1825: 'hole', 1826: 'grunts', 1827: 'dynamite', 1828: 'challenge', 1829: 'bar-boy', 1830: 'midge', 1831: 'elder', 1832: 'push', 1833: 'bitterly', 1834: 'relax', 1835: 'shares', 1836: 'anguished', 1837: 'double', 1838: 'single', 1839: 'army', 1840: 'higher', 1841: 'become', 1842: 'middle', 1843: 'diet', 1844: 'snort', 1845: 'knowing', 1846: 'future', 1847: 'campaign', 1848: 'popular', 1849: 'turkey', 1850: 'kang:', 1851: 'hall', 1852: 'theater', 1853: 'played', 1854: 'understanding', 1855: 'lottery', 1856: 'tradition', 1857: 'jack_larson:', 1858: 'checking', 1859: 'casual', 1860: \"seein'\", 1861: 'mistake', 1862: 'seeing', 1863: 'afternoon', 1864: 'church', 1865: 'whatcha', 1866: 'hates', 1867: 'milhouse', 1868: 'frink', 1869: 'ruin', 1870: 'anniversary', 1871: 'embarrassing', 1872: 'holiday', 1873: 'image', 1874: 'raising', 1875: 'system', 1876: 'fact', 1877: 'celebrities', 1878: 'mock', 1879: 'fool', 1880: 'fourth', 1881: 'der', 1882: 'ordered', 1883: 'terrified', 1884: 'wasting', 1885: 'spinning', 1886: 'sucked', 1887: 'sixty-nine', 1888: 'afford', 1889: 'loan', 1890: 'bus', 1891: 'bright', 1892: 'happily', 1893: 'r', 1894: 'leg', 1895: 'delighted', 1896: 'uncomfortable', 1897: 'finest', 1898: 'texas', 1899: 'modern', 1900: 'awww', 1901: 'folk', 1902: 'carlson', 1903: 'charity', 1904: 'admiration', 1905: 'blew', 1906: 'steak', 1907: 'coward', 1908: 'force', 1909: 'carl:', 1910: 'achem', 1911: 'queer', 1912: \"bar's\", 1913: 'warily', 1914: 'bears', 1915: 'guide', 1916: 'duty', 1917: 'porn', 1918: 'vacuum', 1919: 'homers', 1920: 'underbridge', 1921: 'decide', 1922: 'pointless', 1923: \"shan't\", 1924: 'princesses', 1925: 'tick', 1926: 'eighty-one', 1927: 'grade', 1928: 'pigs', 1929: 'soap', 1930: \"readin'\", 1931: 'unfortunately', 1932: 'sissy', 1933: 'gifts', 1934: 'chase', 1935: 'proposing', 1936: 'soup', 1937: 'answers', 1938: 'distributor', 1939: 'nigerian', 1940: 'ale', 1941: 'interested', 1942: 'prefer', 1943: 'village', 1944: 'spent', 1945: 'weirded-out', 1946: 'insulted', 1947: 'loss', 1948: 'joined', 1949: 'rounds', 1950: 'bump', 1951: 'listening', 1952: 'atlanta', 1953: 'magazine', 1954: 'koholic', 1955: 'sweeter', 1956: 'craphole', 1957: 'cops', 1958: 'pleasant', 1959: 'lucius', 1960: 'elephants', 1961: 'extremely', 1962: 'benefits', 1963: 'placing', 1964: 'boyfriend', 1965: 'aerosmith', 1966: 'patterns', 1967: 'investor', 1968: 'crumble', 1969: 'effervescent', 1970: 'thanksgiving', 1971: 'page', 1972: '100', 1973: 'troy_mcclure:', 1974: 'koi', 1975: 'shutting', 1976: 'recall', 1977: 'satisfaction', 1978: 'gums', 1979: 'plans', 1980: 'oof', 1981: 'pulling', 1982: 'passed', 1983: 'borrow', 1984: 'recently', 1985: 'formico:', 1986: 'sweetheart', 1987: 'jerry', 1988: 'latin', 1989: 'disgrace', 1990: 'snow', 1991: 'helped', 1992: 'eighty-seven', 1993: \"countin'\", 1994: 'louie:', 1995: 'onions', 1996: 'scare', 1997: 'scully', 1998: 'satisfied', 1999: 'aged_moe:', 2000: 'roz:', 2001: 'square', 2002: 'b', 2003: 'neither', 2004: 'prayer', 2005: 'securities', 2006: 'tanked-up', 2007: 'businessman_#1:', 2008: 'fighting', 2009: 'beep', 2010: 'irish', 2011: 'dee-fense', 2012: 'christopher', 2013: 'skeptical', 2014: 'costume', 2015: 'ball-sized', 2016: 'reasonable', 2017: 'remembering', 2018: 'raise', 2019: 'sleeps', 2020: 'shoots', 2021: 'dames', 2022: 'ambrosia', 2023: 'coins', 2024: 'detecting', 2025: 'century', 2026: 'funds', 2027: 'authorized', 2028: 'whenever', 2029: 'snake-handler', 2030: 'golf', 2031: 'disco', 2032: 'syrup', 2033: \"homer's_brain:\", 2034: 'jebediah', 2035: 'amount', 2036: 'shrugs', 2037: 'yell', 2038: 'moe-clone:', 2039: 'price', 2040: 'laws', 2041: 'tv_announcer:', 2042: 'row', 2043: 'european', 2044: 'lenny:', 2045: 'firmly', 2046: 'director', 2047: 'seek', 2048: 'un-sults', 2049: 'aggravated', 2050: 'bedroom', 2051: 'poker', 2052: 'expert', 2053: \"patrick's\", 2054: 'cream', 2055: 'mortgage', 2056: 'helllp', 2057: 'shoo', 2058: 'superhero', 2059: 'rolling', 2060: 'conspiratorial', 2061: 'bride', 2062: 'bret', 2063: 'comedy', 2064: 'paid', 2065: 'trolls', 2066: 'zero', 2067: 'allowed', 2068: 'motorcycle', 2069: 'lighting', 2070: 'heavyset', 2071: 'needy', 2072: 'passion', 2073: 'standing', 2074: \"team's\", 2075: 'wangs', 2076: 'near', 2077: 'tester', 2078: 'tenor:', 2079: 'nudge', 2080: 'badges', 2081: \"waitin'\", 2082: 'lover', 2083: 'teacher', 2084: 'deadly', 2085: 'dress', 2086: \"beer's\", 2087: 'kyoto', 2088: 'fuss', 2089: 'prepared', 2090: 'whether', 2091: 'kindly', 2092: 'gosh', 2093: 'granted', 2094: 'actors', 2095: 'correcting', 2096: 'knees', 2097: \"what'sa\", 2098: 'yawns', 2099: 'results', 2100: 'doreen', 2101: 'eyeball', 2102: 'smurfs', 2103: 'prove', 2104: 'bottles', 2105: \"crawlin'\", 2106: 'measurements', 2107: 'shoulder', 2108: 'stranger:', 2109: 'sector', 2110: 'frog', 2111: 'lush', 2112: '_powers:', 2113: 'slightly', 2114: 'poking', 2115: \"ma'am\", 2116: 'watered-down', 2117: 'manjula', 2118: 'winnings', 2119: 'andalay', 2120: 'nerve', 2121: 'grave', 2122: 'appealing', 2123: 'vampires', 2124: 'formico', 2125: 'dryer', 2126: 'grienke', 2127: 'lowering', 2128: 'suspicious', 2129: 'henry', 2130: 'justice', 2131: 'dearest', 2132: 'trench', 2133: 'marguerite:', 2134: 'freeze', 2135: 'beating', 2136: 'painting', 2137: 'manage', 2138: 'built', 2139: 'successful', 2140: 'blown', 2141: 'apartment', 2142: 'spread', 2143: 'routine', 2144: 'carve', 2145: 'filled', 2146: 'excellent', 2147: 'cars', 2148: 'crew', 2149: 'reynolds', 2150: 'deacon', 2151: 'type', 2152: 'w', 2153: 'disappeared', 2154: 'vulnerable', 2155: 'puts', 2156: 'cozy', 2157: 'don', 2158: 'smoothly', 2159: 'commission', 2160: 'smoke', 2161: 'relationship', 2162: 'stealings', 2163: 'radio', 2164: 'sausage', 2165: 'tentative', 2166: 'duel', 2167: 'brave', 2168: 'jets', 2169: \"'im\", 2170: 'meal', 2171: \"tester's\", 2172: 'cowboys', 2173: 'jailbird', 2174: 'jerky', 2175: \"ladies'\", 2176: 'seats', 2177: 'sack', 2178: 'wash', 2179: 'hibbert', 2180: 'dating', 2181: \"hangin'\", 2182: 'schnapps', 2183: 'i-i-i', 2184: 'diamond', 2185: 'arab_man:', 2186: 'discuss', 2187: 'suspect', 2188: 'charm', 2189: 'stern', 2190: 'all-star', 2191: 'dan', 2192: 'sec_agent_#2:', 2193: \"'tis\", 2194: 'explain', 2195: 'naturally', 2196: 'boozy', 2197: 'pride', 2198: 'available', 2199: 'agreement', 2200: 'fixed', 2201: 'mmm', 2202: 'tang', 2203: 'dismissive', 2204: 'action', 2205: 'camp', 2206: 'grandiose', 2207: 'gentleman:', 2208: 'violations', 2209: 'fritz', 2210: 'priest', 2211: 'hangs', 2212: 'conference', 2213: 'hitler', 2214: 'flying', 2215: 'value', 2216: 'sugar', 2217: 'stinks', 2218: 'wa', 2219: 'lock', 2220: 'missed', 2221: 'ahhh', 2222: 'awesome', 2223: 'seemed', 2224: 'fanciest', 2225: 'express', 2226: 'slice', 2227: 'contest', 2228: 'organ', 2229: 'bully', 2230: 'santa', 2231: 'combine', 2232: \"hasn't\", 2233: 'feast', 2234: 'managing', 2235: 'whistles', 2236: 'devastated', 2237: 'medical', 2238: 'male_inspector:', 2239: 'eyesore', 2240: 'knife', 2241: 'peppy', 2242: 'wooden', 2243: 'crossed', 2244: 'violin', 2245: 'louder', 2246: 'space', 2247: 'roof', 2248: \"springfield's\", 2249: 'chum', 2250: 'neil_gaiman:', 2251: 'attempting', 2252: 'owner', 2253: 'mall', 2254: 'products', 2255: 'saint', 2256: 'vote', 2257: 'bird', 2258: 'roomy', 2259: 'brightening', 2260: 'joey_kramer:', 2261: 'flag', 2262: 'decency', 2263: 'hunting', 2264: 'solo', 2265: 'brassiest', 2266: 'gals', 2267: 'fabulous', 2268: 'warn', 2269: 'medicine', 2270: 'pad', 2271: 'acting', 2272: 'corporation', 2273: 'present', 2274: 'plum', 2275: 'comic', 2276: 'memory', 2277: 'candidate', 2278: 'assistant', 2279: 'karaoke', 2280: 'wedding', 2281: 'david', 2282: 'solid', 2283: 'joking', 2284: 'muttering', 2285: 'memories', 2286: 'mop', 2287: 'prohibit', 2288: 'tries', 2289: 'hail', 2290: 'finishing', 2291: 'hotline', 2292: 'choking', 2293: 'standards', 2294: 'excitement', 2295: 'cent', 2296: 'hobo', 2297: 'stuck', 2298: 'social', 2299: 'relieved', 2300: 'lights', 2301: 'important', 2302: 'so-called', 2303: 'compared', 2304: 'bridge', 2305: 'dials', 2306: 'changes', 2307: 'degradation', 2308: 'reaching', 2309: 'doll', 2310: 'seriously', 2311: '250', 2312: 'familiar', 2313: 'based', 2314: 'began', 2315: 'krabappel', 2316: '6', 2317: 'deliberate', 2318: 'giggles', 2319: 'lurleen', 2320: 'haw', 2321: 'forehead', 2322: 'hollywood', 2323: 'generous', 2324: 'playful', 2325: 'skirt', 2326: 'possibly', 2327: 'isle', 2328: 'punches', 2329: 'wake', 2330: 'obvious', 2331: 'ironed', 2332: 'judge', 2333: 'bedbugs', 2334: 'stir', 2335: 'bums', 2336: 'minister', 2337: 'rap', 2338: \"father's\", 2339: 'reporter:', 2340: 'billion', 2341: 'admitting', 2342: 'judge_snyder:', 2343: 'lovely', 2344: \"buffalo's\", 2345: 'held', 2346: 'bush', 2347: 'padre', 2348: 'brewed', 2349: 'rock', 2350: 'nearly', 2351: 'media', 2352: 'gang', 2353: 'ha-ha', 2354: 'rolled', 2355: 'surprise', 2356: 'aging', 2357: 'partly', 2358: 'woozy', 2359: 'curds', 2360: \"pope's\", 2361: 'bets', 2362: 'sooner', 2363: 'shaggy', 2364: \"meanin'\", 2365: 'd', 2366: 'boneheaded', 2367: 'strategy', 2368: 'curious', 2369: 'prize', 2370: 'torn', 2371: 'color', 2372: 'wrestling', 2373: 'raccoons', 2374: 'cooler', 2375: 'remains', 2376: 'reliable', 2377: \"monroe's\", 2378: 'maya', 2379: 'answering', 2380: 'due', 2381: 'alfred', 2382: \"town's\", 2383: 'someday', 2384: 'professor', 2385: 'ginger', 2386: 'pope', 2387: 'germs', 2388: 'laney_fontaine:', 2389: 'emotional', 2390: 'closes', 2391: 'therapist', 2392: 'suds', 2393: 'harder', 2394: 'forbidden', 2395: 'attack', 2396: '7-year-old_brockman:', 2397: \"weren't\", 2398: 'gorgeous', 2399: 'doug:', 2400: 'smugglers', 2401: 'swill', 2402: 'shock', 2403: 'baritone', 2404: 'complaint', 2405: 'forward', 2406: 'sale', 2407: 'drank', 2408: 'patty', 2409: 'champ', 2410: 'mate', 2411: 'denser', 2412: 'sympathetic', 2413: 'teams', 2414: 'conversation', 2415: 'reviews', 2416: 'umm', 2417: 'quotes', 2418: \"maggie's\", 2419: 'busted', 2420: 'straining', 2421: 'taps', 2422: 'throwing', 2423: 'teenage_homer:', 2424: 't-shirt', 2425: 'carll', 2426: 'celebrity', 2427: 'punk', 2428: 'mcbain', 2429: 'dessert', 2430: 'sports_announcer:', 2431: 'tofu', 2432: 'balls', 2433: 'yup', 2434: 'blues', 2435: 'is:', 2436: 'twin', 2437: \"marge's\", 2438: 'industry', 2439: 'terrific', 2440: 'mail', 2441: 'rumaki', 2442: 'wins', 2443: 'cheese', 2444: 'insightful', 2445: 'grab', 2446: 'candy', 2447: 'snap', 2448: 'trapped', 2449: 'barkeep', 2450: 'beneath', 2451: 'fictional', 2452: 'lurleen_lumpkin:', 2453: 'animals', 2454: 'worth', 2455: 'morose', 2456: 'stevie', 2457: 'ziff', 2458: 'yards', 2459: 'dropped', 2460: 'joke', 2461: 'windex', 2462: 'informant', 2463: 'marmaduke', 2464: 'gum', 2465: 'inspired', 2466: 'ways', 2467: 'troy', 2468: 'cueball', 2469: \"showin'\", 2470: 'witty', 2471: 'neighbor', 2472: 'confidence', 2473: 'grandmother', 2474: 'ringing', 2475: 'planet', 2476: 'jubilant', 2477: 'thru', 2478: 'bathing', 2479: 'ollie', 2480: \"someone's\", 2481: 'cleaner', 2482: 'snorts', 2483: 'thoughtfully', 2484: 'inspire', 2485: 'deserve', 2486: 'increasingly', 2487: 'percent', 2488: 'mm', 2489: 'doreen:', 2490: 'twice', 2491: 'promised', 2492: 'project', 2493: 'conditioner', 2494: 'bread', 2495: 'gun', 2496: 'department', 2497: 'fragile', 2498: 'bugging', 2499: 'falcons', 2500: \"payin'\", 2501: 'effects', 2502: 'fresh', 2503: 'riding', 2504: 'defeated', 2505: 'anarchy', 2506: 'love-matic', 2507: 'sandwich', 2508: 'belt', 2509: 'large', 2510: 'multiple', 2511: 'acquaintance', 2512: 'grimly', 2513: 'alphabet', 2514: 'tie', 2515: 'pirate', 2516: 'hop', 2517: 'begins', 2518: 'fondly', 2519: \"'topes\", 2520: 'bigger', 2521: 'mumbling', 2522: 'sport', 2523: 'difficult', 2524: 'self-esteem', 2525: 'teddy', 2526: 'ye', 2527: 'corporate', 2528: 'pleading', 2529: 'handle', 2530: 'palm', 2531: 'thought_bubble_homer:', 2532: 'studio', 2533: 'complaining', 2534: 'nickels', 2535: 'entirely', 2536: 'vacation', 2537: 'stands', 2538: 'charlie', 2539: 'tommy', 2540: 'yelling', 2541: 'sodas', 2542: 'mess', 2543: 'drown', 2544: 'penny', 2545: 'thesaurus', 2546: 'yourselves', 2547: 'attitude', 2548: 'although', 2549: 'barely', 2550: 'decent', 2551: 'realize', 2552: 'jockey', 2553: 'barf', 2554: 'maman', 2555: 'cake', 2556: 'liar', 2557: \"money's\", 2558: 'highway', 2559: 'awed', 2560: 'sat', 2561: \"it'd\", 2562: 'appointment', 2563: 'bartenders', 2564: 'fausto', 2565: 'effigy', 2566: 'kramer', 2567: 'smug', 2568: 'anywhere', 2569: 'lazy', 2570: 'queen', 2571: 'payments', 2572: 'roses', 2573: 'awe', 2574: 'pouring', 2575: 'crying', 2576: 'bartending', 2577: \"wonderin'\", 2578: 'chilly', 2579: \"other's\", 2580: 'waltz', 2581: \"game's\", 2582: 'self-made', 2583: 'boxer', 2584: 'brothers', 2585: 'scooter', 2586: 'drawing', 2587: 'thighs', 2588: 'continuing', 2589: 'cheat', 2590: 'sabermetrics', 2591: 'hired', 2592: 'bourbon', 2593: 'inspiring', 2594: \"takin'\", 2595: 'greedy', 2596: 'smallest', 2597: 'inflated', 2598: 'disapproving', 2599: 'linda', 2600: 'cotton', 2601: 'underpants', 2602: 'boxing_announcer:', 2603: 'genius', 2604: 'therefore', 2605: 'trusted', 2606: 'ech', 2607: 'fudd', 2608: 'babe', 2609: 'mount', 2610: 'dough', 2611: 'angel', 2612: 'wayne', 2613: 'considering', 2614: \"fallin'\", 2615: 'rage', 2616: 'confident', 2617: 'befouled', 2618: 'abandon', 2619: 'cigarettes', 2620: 'bible', 2621: 'dungeon', 2622: 'involved', 2623: 'murmur', 2624: 'plywood', 2625: 'helen', 2626: 'tax', 2627: 'peanut', 2628: 'calmly', 2629: 'reserve', 2630: 'hats', 2631: 'sudden', 2632: 'dreamed', 2633: 'shrugging', 2634: 'cheery', 2635: 'pond', 2636: 'friendship', 2637: 'cutie', 2638: 'compliments', 2639: 'positive', 2640: 'chicks', 2641: 'pitch', 2642: 'bubble', 2643: 'honor', 2644: 'waylon', 2645: 'ah-ha', 2646: 'impatient', 2647: 'matter-of-fact', 2648: 'slight', 2649: 'bastard', 2650: 'white', 2651: 'darkest', 2652: 'advantage', 2653: 'floated', 2654: 'brow', 2655: 'poem', 2656: 'sinister', 2657: 'sometimes', 2658: 'message', 2659: 'seas', 2660: 'fox', 2661: 'jeff', 2662: 'mcstagger', 2663: 'energy', 2664: 'handing', 2665: \"drawin'\", 2666: 'fevered', 2667: 'grumpy', 2668: 'lib', 2669: 'jumps', 2670: 'margarita', 2671: \"dyin'\", 2672: 'nasa', 2673: 'scrape', 2674: 'nigeria', 2675: \"cat's\", 2676: 'known', 2677: \"what're\", 2678: 'bam', 2679: 'ripcord', 2680: 'ohh', 2681: 'involving', 2682: 'young_moe:', 2683: 'expression', 2684: 'hawking:', 2685: 'murmurs', 2686: 'yours', 2687: 'africa', 2688: 'record', 2689: 'manager', 2690: 'mention', 2691: 'pin', 2692: \"chewin'\", 2693: 'asking', 2694: 'ugliest', 2695: 'served', 2696: 'goods', 2697: 'ayyy', 2698: 'voice:', 2699: 'shower', 2700: 'delivery', 2701: 'gargoyle', 2702: 'heading', 2703: 'frosty', 2704: 'miles', 2705: 'sea', 2706: 'retired', 2707: 'reach', 2708: 'eventually', 2709: 'banquo', 2710: 'somehow', 2711: 'writers', 2712: 'politics', 2713: 'catching', 2714: 'failed', 2715: 'shooting', 2716: 'realized', 2717: 'completing', 2718: 'agree', 2719: 'bubbles', 2720: 'smart', 2721: 'delivery_boy:', 2722: 'cruel', 2723: 'easier', 2724: 'rainier_wolfcastle:', 2725: 'danish', 2726: 'remembered', 2727: 'potato', 2728: 'quality', 2729: 'dreams', 2730: 'purse', 2731: 'certain', 2732: 'morlocks', 2733: 'woman_bystander:', 2734: 'famous', 2735: 'refund', 2736: 'corkscrew', 2737: 'copy', 2738: 'pressure', 2739: 'refresh', 2740: 'broom', 2741: 'rhyme', 2742: 'honored', 2743: 'victory', 2744: 'regulars', 2745: 'railroad', 2746: 'freak', 2747: 'release', 2748: 'talked', 2749: 'suing', 2750: 'churchill', 2751: 'fold', 2752: 'blend', 2753: 'festival', 2754: 'laramie', 2755: 'bold', 2756: 'photo', 2757: 'salt', 2758: 'code', 2759: \"hadn't\", 2760: 'mixed', 2761: 'labels', 2762: 'virtual', 2763: \"children's\", 2764: 'foil', 2765: 'civilization', 2766: 'wolfe', 2767: 'joining', 2768: 'beam', 2769: 'patient', 2770: 'exchange', 2771: 'wang', 2772: 'wondering', 2773: 'thirteen', 2774: 'jobs', 2775: 'prison', 2776: 'written', 2777: \"bartender's\", 2778: 'cat', 2779: 'wings', 2780: 'trick', 2781: 'dennis_kucinich:', 2782: 'astronaut', 2783: 'pretending', 2784: 'outlook', 2785: 'forgive', 2786: 'discussing', 2787: 'wing', 2788: 'utility', 2789: 'advance', 2790: 'pint', 2791: 'shaken', 2792: 'regret', 2793: 'sitar', 2794: 'slyly', 2795: 'putting', 2796: 'stationery', 2797: 'willy', 2798: 'poet', 2799: 'weary', 2800: 'fox_mulder:', 2801: 'bear', 2802: 'reasons', 2803: 'safer', 2804: 'admiring', 2805: 'draw', 2806: 'tale', 2807: 'sneaky', 2808: 'blood-thirsty', 2809: 'airport', 2810: 'bucket', 2811: 'themselves', 2812: 'buried', 2813: \"others'\", 2814: 'yoo', 2815: 'smile:', 2816: 'ragtime', 2817: 'restroom', 2818: 'lap', 2819: 'pian-ee', 2820: 'courage', 2821: 'alfalfa', 2822: 'juice', 2823: 'ocean', 2824: 'reached', 2825: 'wishes', 2826: 'wave', 2827: 'lloyd', 2828: 'tabooger', 2829: 'tiny', 2830: 'museum', 2831: 'nope', 2832: 'skin', 2833: 'bags', 2834: 'vodka', 2835: 'between', 2836: 'voice_on_transmitter:', 2837: 'mic', 2838: 'towed', 2839: 'calculate', 2840: 'weirder', 2841: 'clock', 2842: 'caused', 2843: 'wade_boggs:', 2844: 'rules', 2845: 'greetings', 2846: 'restaurants', 2847: 'spied', 2848: 'civic', 2849: 'naked', 2850: 'belong', 2851: 'monkey', 2852: 'creeps', 2853: 'clinton', 2854: 'rule', 2855: 'cola', 2856: 'superior', 2857: 'neat', 2858: 'cowardly', 2859: 'agent_johnson:', 2860: 'planning', 2861: 'broadway', 2862: 'academy', 2863: 'internet', 2864: 'cookies', 2865: 'spy', 2866: 'freedom', 2867: 'bash', 2868: 'lise:', 2869: 'electronic', 2870: 'alcoholic', 2871: 'beats', 2872: 'kidney', 2873: 'mob', 2874: 'plenty', 2875: 'product', 2876: 'simp-sonnnn', 2877: 'level', 2878: 'steel', 2879: 'mona_simpson:', 2880: 'deeply', 2881: 'scary', 2882: 'yogurt', 2883: 'appear', 2884: 'klingon', 2885: 'gator:', 2886: 'kicked', 2887: 'wordloaf', 2888: 'bathroom', 2889: 'intense', 2890: '1895', 2891: 'bashir', 2892: 'pleasure', 2893: 'website', 2894: 'awwww', 2895: 'shakespeare', 2896: 'farewell', 2897: 'theory', 2898: 'plain', 2899: 'hateful', 2900: 'criminal', 2901: 'thousand-year', 2902: 'countryman', 2903: 'sensible', 2904: 'statistician', 2905: 'shhh', 2906: 'file', 2907: 'soaked', 2908: 'splash', 2909: 'pack', 2910: 'skinheads', 2911: 'sperm', 2912: 'man_at_bar:', 2913: 'approval', 2914: '1979', 2915: 'wh', 2916: 'hibachi', 2917: \"boy's\", 2918: 'happens', 2919: 'souped', 2920: 'offa', 2921: '14', 2922: \"pullin'\", 2923: 'hurting', 2924: 'hugh', 2925: \"summer's\", 2926: 'oh-ho', 2927: 'remodel', 2928: 'abcs', 2929: \"rentin'\", 2930: 'babar', 2931: 'marshmallow', 2932: 'geyser', 2933: 'my-y-y-y-y-y', 2934: 'hosting', 2935: 'philip', 2936: 'swamp', 2937: 'madison', 2938: 'aid', 2939: 'rafters', 2940: 'playoff', 2941: 'mexicans', 2942: 'further', 2943: 'bugs', 2944: 'competing', 2945: 'adult', 2946: 'knowledge', 2947: 'raging', 2948: 'ping-pong', 2949: 'fuzzlepitch', 2950: 'quarry', 2951: 'faded', 2952: 'hardwood', 2953: 'grants', 2954: \"'morning\", 2955: 'dizer', 2956: 'caricature', 2957: 'chuckling', 2958: 'chips', 2959: 'knuckles', 2960: 'barney-guarding', 2961: 'trash', 2962: 'nectar', 2963: 'disguise', 2964: 'burt_reynolds:', 2965: 'guttural', 2966: 'ding-a-ding-ding-a-ding-ding', 2967: 'jam', 2968: 'mmm-hmm', 2969: 'chow', 2970: \"sat's\", 2971: 'stamps', 2972: 'absolut', 2973: 'a-b-', 2974: 'murdoch', 2975: 'remorseful', 2976: 'blimp', 2977: 'shaky', 2978: 'heart-broken', 2979: 'ton', 2980: 'murderously', 2981: \"man's\", 2982: 'fustigate', 2983: 'susie-q', 2984: 'intoxicated', 2985: 'fdic', 2986: 'ruuuule', 2987: 'dingy', 2988: 'thrilled', 2989: \"blowin'\", 2990: 'wistful', 2991: 'ronstadt', 2992: 'four-drink', 2993: 'touches', 2994: 'legally', 2995: 'burg', 2996: 'crony', 2997: 'eco-fraud', 2998: 'unkempt', 2999: 'forget-me-drinks', 3000: 'lookalike', 3001: 'california', 3002: 'germans', 3003: 'totalitarians', 3004: 'refreshing', 3005: 'wars', 3006: 'richard:', 3007: 'handoff', 3008: 'clapping', 3009: 'mini-beret', 3010: 'flew', 3011: 'miss_lois_pennycandy:', 3012: 'cruiser', 3013: 'conspiracy', 3014: 'principles', 3015: 'instrument', 3016: 'wounds', 3017: 'charter', 3018: 'fleabag', 3019: 'quimbys:', 3020: 'warren', 3021: 'brawled', 3022: 'eaten', 3023: 'everywhere', 3024: 'generously', 3025: 'reality', 3026: 'handling', 3027: \"'kay-zugg'\", 3028: 'rub-a-dub', 3029: 'enthusiastically', 3030: 'chin', 3031: 'eyeballs', 3032: 'swell', 3033: 'pee', 3034: 'bronco', 3035: 'distance', 3036: 'badly', 3037: \"heat's\", 3038: 'ratted', 3039: 'recorded', 3040: 'charming', 3041: 'fired', 3042: 'pushing', 3043: 'build', 3044: \"tony's\", 3045: 'banned', 3046: 'wiping', 3047: 'usual', 3048: 'reed', 3049: 'democracy', 3050: 'infor', 3051: 'low-blow', 3052: 'clandestine', 3053: \"'pu\", 3054: 'iddilies', 3055: 'businessman_#2:', 3056: 'suspenders', 3057: 'fifth', 3058: 'ummmmmmmmm', 3059: 'pepto-bismol', 3060: 'benjamin', 3061: 'supermarket', 3062: 'soot', 3063: 'hottest', 3064: 'however', 3065: 'begging', 3066: 'temples', 3067: 'classy', 3068: 'releases', 3069: 'dejected_barfly:', 3070: 'getaway', 3071: 'restless', 3072: 'exchanged', 3073: 'cologne', 3074: \"car's\", 3075: 'breakdown', 3076: 'kegs', 3077: \"i-i'll\", 3078: 'aisle', 3079: 'transfer', 3080: 'anthony_kiedis:', 3081: 'mirror', 3082: 'sixty', 3083: \"g'on\", 3084: 'barkeeps', 3085: 'thrust', 3086: 'recap:', 3087: 'wussy', 3088: 'button-pusher', 3089: 'kadlubowski', 3090: 'over-pronouncing', 3091: 'microwave', 3092: 'whaaaa', 3093: 'luckiest', 3094: 'committee', 3095: 'nooo', 3096: 'hammock', 3097: 'theatrical', 3098: 'ghouls', 3099: 'outs', 3100: 'seething', 3101: 'mariah', 3102: 'world-class', 3103: 'chub', 3104: 'ohhhh', 3105: 'brace', 3106: 'dumb-asses', 3107: 'drop-off', 3108: 'beverage', 3109: 'bono', 3110: 'station', 3111: \"tap-pullin'\", 3112: 'switched', 3113: 'meatpies', 3114: 'mater', 3115: 'lenford', 3116: 'appropriate', 3117: 'forty-two', 3118: 'metal', 3119: 'whistling', 3120: 'script', 3121: 'imaginary', 3122: 'swine', 3123: 'trees', 3124: 'buzz', 3125: 'item', 3126: 'gangrene', 3127: 'combines', 3128: 'wuss', 3129: 'bleak', 3130: 'tribute', 3131: 'golden', 3132: 'sexton', 3133: 'oughta', 3134: 'attractive', 3135: 'separator', 3136: 'wildfever', 3137: 'cosmetics', 3138: 'inanely', 3139: \"football's\", 3140: 'elves:', 3141: 'crunch', 3142: 'whim', 3143: 'ingested', 3144: 'jelly', 3145: 'advertise', 3146: 'manboobs', 3147: 'souvenir', 3148: 'minus', 3149: 'located', 3150: 'navy', 3151: 'half-back', 3152: 'dull', 3153: 'patriotic', 3154: 'cheapskates', 3155: 'issuing', 3156: 'pointy', 3157: 'wolverines', 3158: 'shard', 3159: 'term', 3160: 'au', 3161: \"time's\", 3162: \"y'money's\", 3163: 'drift', 3164: 'stretch', 3165: 'north', 3166: 'healthier', 3167: 'shrieks', 3168: 'exploiter', 3169: 'entering', 3170: 'cage', 3171: 'convenient', 3172: \"tomorrow's\", 3173: 'convinced', 3174: 'hardy', 3175: 'official', 3176: 'investment', 3177: 'pernt', 3178: \"calf's\", 3179: 'fat-free', 3180: 'halvsies', 3181: 'dirge-like', 3182: \"soundin'\", 3183: 'high-definition', 3184: 'pep', 3185: 'squeal', 3186: \"show's\", 3187: 'plane', 3188: \"tootin'\", 3189: 'milks', 3190: 'kennedy', 3191: 'rump', 3192: 'six-barrel', 3193: 'sesame', 3194: 'shipment', 3195: 'legs:', 3196: 'enjoyed', 3197: 'fry', 3198: \"ragin'\", 3199: 'culkin', 3200: 'brakes', 3201: 'widow', 3202: 'a-a-b-b-a', 3203: 'comedies', 3204: 'drove', 3205: 'groan', 3206: 'housing', 3207: 'coms', 3208: 'dumbass', 3209: 'jury', 3210: 'beans', 3211: 'alpha-crow', 3212: 'feld', 3213: 'mm-hmm', 3214: 'gel', 3215: 'necklace', 3216: 'associate', 3217: 'buddies', 3218: 'poster', 3219: 'aunt', 3220: 'conversion', 3221: 'beer-jerks', 3222: 'wad', 3223: 'traditions', 3224: 'africanized', 3225: 'mines', 3226: 'sneak', 3227: 'arrived', 3228: 'scratching', 3229: 'various', 3230: 'philosophical', 3231: \"edna's\", 3232: 'pre-columbian', 3233: 'johnny', 3234: 'badmouths', 3235: 'fortune', 3236: 'anti-crime', 3237: \"pickin'\", 3238: 'anyhow', 3239: 'guts', 3240: 'reserved', 3241: 'tomahto', 3242: 'haikus', 3243: 'clothespins', 3244: 'whup', 3245: 'cap', 3246: 'frat', 3247: \"b-52's:\", 3248: 'crowded', 3249: '50%', 3250: 'profiling', 3251: 'pussycat', 3252: 'nos', 3253: 'credit', 3254: \"cont'd:\", 3255: 'slit', 3256: 'goo', 3257: 'faulkner', 3258: 'exultant', 3259: 'strolled', 3260: 'cuckoo', 3261: 'horses', 3262: 'influence', 3263: 'cesss', 3264: 'absorbent', 3265: 'childless', 3266: 'alls', 3267: 'oooo', 3268: 'ineffective', 3269: 'j', 3270: 'schorr', 3271: 'fad', 3272: \"wino's\", 3273: \"burnin'\", 3274: 'competitive', 3275: 'flanders:', 3276: 'congratulations', 3277: 'curse', 3278: 'hubub', 3279: 'jubilation', 3280: 'lady-free', 3281: 'wally', 3282: 'planned', 3283: 'gabriel:', 3284: 'venture', 3285: 'hygienically', 3286: 'hilton', 3287: 'low-life', 3288: 'mahatma', 3289: 'cause', 3290: 'juke', 3291: 'nervously', 3292: '8', 3293: 'sight', 3294: 'twelve-step', 3295: 'slogan', 3296: 'diets', 3297: 'continued', 3298: 'gamble', 3299: 'reflected', 3300: 'hearing', 3301: 'sweaty', 3302: 'computer_voice_2:', 3303: 'turlet', 3304: 'buffet', 3305: \"rustlin'\", 3306: 'publish', 3307: 'noose', 3308: 'sugar-free', 3309: 'bathed', 3310: 'reopen', 3311: 'solely', 3312: 'squeeze', 3313: 'presses', 3314: 'hourly', 3315: 'network', 3316: 'activity', 3317: 'de-scramble', 3318: 'swan', 3319: 'sangre', 3320: 'laney', 3321: 'blocked', 3322: 'rubbed', 3323: 'surprising', 3324: 'dateline:', 3325: 'researching', 3326: 'studied', 3327: 'obsessive-compulsive', 3328: 'lucinda', 3329: 'victim', 3330: \"somebody's\", 3331: 'zone', 3332: 'othello', 3333: 'cushion', 3334: 'carey', 3335: 'lodge', 3336: 'giggle', 3337: 'kako:', 3338: 'dispenser', 3339: 'position', 3340: 'ivy-covered', 3341: 'chained', 3342: 'kazoo', 3343: 'harm', 3344: 'fit', 3345: 'carpet', 3346: 'hotenhoffer', 3347: 'crowned', 3348: 'perplexed', 3349: 'scientific', 3350: 'composite', 3351: 'encores', 3352: \"aren'tcha\", 3353: 'hootie', 3354: 'jackson', 3355: 'cakes', 3356: 'boisterous', 3357: 'inquiries', 3358: 'shame', 3359: \"mtv's\", 3360: 'jams', 3361: \"tv'll\", 3362: 'mckinley', 3363: 'poetics', 3364: 'aer', 3365: 'walther', 3366: 'tolerable', 3367: 'windelle', 3368: 'lennyy', 3369: 'piling', 3370: 'willing', 3371: 'b-day', 3372: 'trashed', 3373: 'occupancy', 3374: 'cab_driver:', 3375: \"brockman's\", 3376: 'dreamy', 3377: 'dana_scully:', 3378: 'weight', 3379: 'priority', 3380: \"thinkin'\", 3381: 'fury', 3382: 'tease', 3383: 'fbi_agent:', 3384: 'defected', 3385: \"spiffin'\", 3386: 'presto:', 3387: 'slick', 3388: 'chauffeur', 3389: 'manchego', 3390: 'twerpy', 3391: 'launch', 3392: 'disdainful', 3393: 'nordiques', 3394: 'synthesize', 3395: 'cheryl', 3396: 'thanking', 3397: 'cats', 3398: 'aboard', 3399: 'sweetest', 3400: 'idealistic', 3401: 'recent', 3402: 'fat_in_the_hat:', 3403: 'kinderhook', 3404: 'diminish', 3405: 'exciting', 3406: 'coined', 3407: 'causes', 3408: 'skydiving', 3409: 'plotz', 3410: \"don'tcha\", 3411: 'blows', 3412: 'pilsner-pusher', 3413: 'unfamiliar', 3414: 'musketeers', 3415: 'softer', 3416: 'squirrel', 3417: 'theatah', 3418: 'remembers', 3419: 'silent', 3420: 'growing', 3421: 'lotsa', 3422: 'woodchucks', 3423: 'remaining', 3424: 'gotcha', 3425: 'invulnerable', 3426: \"dolph's_dad:\", 3427: 'peeved', 3428: 'choked', 3429: 'geysir', 3430: 'bull', 3431: 'numeral', 3432: 'beached', 3433: 'semi-imported', 3434: 'itself', 3435: 'crushed', 3436: 'ancestors', 3437: 'plucked', 3438: 'personal', 3439: 'offense', 3440: 'voted', 3441: 'rig', 3442: 'jimmy', 3443: 'bothered', 3444: 'illegally', 3445: 'sucks', 3446: 'rife', 3447: 'waitress', 3448: 'ails', 3449: 'lear', 3450: 'edgy', 3451: 'stinky', 3452: 'fluoroscope', 3453: 'grocery', 3454: 'graveyard', 3455: 'escort', 3456: 'decided', 3457: 'reporter', 3458: \"singin'\", 3459: 'cannoli', 3460: 'locked', 3461: 'spamming', 3462: 'forgotten', 3463: 'bulletin', 3464: 'intention', 3465: 'creme', 3466: 'musical', 3467: 'donate', 3468: 'unhappy', 3469: 'mountain', 3470: 'blank', 3471: 'frink-y', 3472: 'tempting', 3473: 'beaumont', 3474: 'serum', 3475: 'ron_howard:', 3476: 'lady_duff:', 3477: 'taylor', 3478: 'lager', 3479: 'count', 3480: 'nuked', 3481: 'gore', 3482: 'lobster-politans', 3483: 'pillows', 3484: 'brick', 3485: 'everyday', 3486: 'occupation', 3487: 'moe-near-now', 3488: 'de', 3489: 'pretends', 3490: 'griffith', 3491: 'two-drink', 3492: 'eighty-six', 3493: 'apply', 3494: 'raggie', 3495: 'burnside', 3496: 'wakede', 3497: 'herself', 3498: 'spirit', 3499: 'writer:', 3500: 'lingus', 3501: 'vengeful', 3502: 'experiments', 3503: 'up-bup-bup', 3504: 'sniffing', 3505: 'undated', 3506: 'kissingher', 3507: 'forgets', 3508: 'colorado', 3509: 'wasted', 3510: 'klown', 3511: 'dice', 3512: 'vigilante', 3513: 'breakfast', 3514: \"poisonin'\", 3515: 'wiggle', 3516: 'limericks', 3517: 'contact', 3518: 'intelligent', 3519: 'officials', 3520: 'perfected', 3521: 'helpful', 3522: 'vermont', 3523: 'prices', 3524: 'poured', 3525: 'halfway', 3526: 'fiction', 3527: 'perón', 3528: 'information', 3529: 'flayvin', 3530: 'bail', 3531: 'corn', 3532: 'peaked', 3533: 'singer', 3534: 'tanking', 3535: 'gunk', 3536: 'natured', 3537: 'nature', 3538: 'affectations', 3539: 'occurred', 3540: 'dogs', 3541: 'portuguese', 3542: 'excavating', 3543: 'shaved', 3544: 'squashing', 3545: 'grandé', 3546: \"brady's\", 3547: 'done:', 3548: 'go-near-', 3549: 'twenty-six', 3550: 'unearth', 3551: 'lift', 3552: 'swigmore', 3553: 'aggie', 3554: 'cell', 3555: 'lame', 3556: 'spite', 3557: 'meaning', 3558: 'demand', 3559: 'driveability', 3560: 'mind-numbing', 3561: 'windshield', 3562: 'kool', 3563: 'index', 3564: 'stirrers', 3565: 'owns', 3566: 'victorious', 3567: 'rug', 3568: 'illustrates', 3569: 'blossoming', 3570: 'courts', 3571: 'problemo', 3572: \"wearin'\", 3573: 'adventure', 3574: 'exquisite', 3575: 'bidet', 3576: 'sinkhole', 3577: 'zeal', 3578: 'sunny', 3579: 'charged', 3580: 'cyrano', 3581: 'choose', 3582: 'vestigial', 3583: \"breakin'\", 3584: 'outrageous', 3585: 'harrowing', 3586: 'skills', 3587: 'sing-song', 3588: 'roz', 3589: 'erasers', 3590: 'peabody', 3591: 'orders', 3592: 'grease', 3593: 'watt', 3594: \"duelin'\", 3595: 'housewife', 3596: 'bachelorette', 3597: 'blurbs', 3598: 'judgments', 3599: 'flush', 3600: 'glorious', 3601: 'voyager', 3602: 'squeezed', 3603: \"murphy's\", 3604: 'mock-up', 3605: 'rutabaga', 3606: 'grin', 3607: 'well-wisher', 3608: 'allowance', 3609: 'furniture', 3610: 'horns', 3611: 'title:', 3612: 'agh', 3613: 'neighbors', 3614: 'menace', 3615: 'slays', 3616: 'newest', 3617: 'smuggled', 3618: 'hunka', 3619: 'handwriting', 3620: 'appendectomy', 3621: 'vengeance', 3622: 'regretful', 3623: 'virility', 3624: 'grace', 3625: 'jacks', 3626: \"nick's\", 3627: 'investigating', 3628: 'argue', 3629: 'laughter', 3630: 'initially', 3631: 'preparation', 3632: 'funeral', 3633: 'temporarily', 3634: 'cricket', 3635: 'fatty', 3636: 'assent', 3637: 'novelty', 3638: 'nominated', 3639: 'irrelevant', 3640: 'videotaped', 3641: \"getting'\", 3642: 'portentous', 3643: \"plaster's\", 3644: 'fiiiiile', 3645: 'collapse', 3646: 'scornfully', 3647: 'knives', 3648: 'innocence', 3649: \"when's\", 3650: \"plank's\", 3651: 'clipped', 3652: 'endorsement', 3653: \"she'll\", 3654: 'short_man:', 3655: 'encouraging', 3656: 'washed', 3657: 'enabling', 3658: 'doctor', 3659: 'streetlights', 3660: 'eyeing', 3661: 'attractive_woman_#1:', 3662: 'bunion', 3663: 'wraps', 3664: 'moe_recording:', 3665: 'snatch', 3666: 'cauliflower', 3667: 'smitty:', 3668: 'bounced', 3669: 'and/or', 3670: 'labor', 3671: 'waking-up', 3672: 'stan', 3673: 'heave-ho', 3674: 'grope', 3675: 'mommy', 3676: 'liven', 3677: 'rubs', 3678: \"feelin's\", 3679: 'temper', 3680: 'forty-nine', 3681: 'william', 3682: 'flophouse', 3683: 'urinal', 3684: 'clenched', 3685: 'mill', 3686: 'kidneys', 3687: 'amends', 3688: 'squirrels', 3689: 'ling', 3690: 'waste', 3691: 'chug-monkeys', 3692: 'cock', 3693: 'bloodiest', 3694: 'calvin', 3695: 'winston', 3696: 'runaway', 3697: 'bachelor', 3698: 'onto', 3699: 'gallon', 3700: \"jimbo's_dad:\", 3701: 'ew', 3702: 'shades', 3703: 'soaking', 3704: 'soir', 3705: 'old-time', 3706: 'cappuccino', 3707: 'fledgling', 3708: 'highball', 3709: 'george', 3710: 'bonfire', 3711: \"o'reilly\", 3712: 'nasty', 3713: 'sweater', 3714: 'listens', 3715: 'lied', 3716: 'winks', 3717: 'oblivious', 3718: 'awake', 3719: 'cooker', 3720: 'surprised/thrilled', 3721: \"games'd\", 3722: 'belly-aching', 3723: 'incognito', 3724: 'volunteer', 3725: 'worldview', 3726: 'nelson', 3727: \"starla's\", 3728: 'pizzicato', 3729: 'sugar-me-do', 3730: 'otherwise', 3731: 'ads', 3732: 'certificate', 3733: 'hanh', 3734: 'uncreeped-out', 3735: \"leavin'\", 3736: 'briefly', 3737: \"something's\", 3738: 'shop', 3739: \"who'da\", 3740: 'heartily', 3741: 'potatoes', 3742: 'salvador', 3743: 'drinking:', 3744: 'including', 3745: 'kings', 3746: 'meditative', 3747: 'pontiff', 3748: 'cajun', 3749: 'daniel', 3750: 'scrutinizes', 3751: 'popped', 3752: '2', 3753: 'hockey-fight', 3754: 'encouraged', 3755: 'alcoholism', 3756: 'headhunters', 3757: 'persia', 3758: 'western', 3759: 'leathery', 3760: 'prayers', 3761: 'according', 3762: 'newsletter', 3763: 'clearing', 3764: 'sickly', 3765: 'leak', 3766: 'lobster-based', 3767: 'flourish', 3768: 'coincidentally', 3769: 'shtick', 3770: 'moving', 3771: 'felony', 3772: 'hitchhike', 3773: 'pantsless', 3774: 'grinch', 3775: 'cadillac', 3776: 'shaker', 3777: 'nevada', 3778: 'syndicate', 3779: 'bono:', 3780: 'suffering', 3781: 'whatchacallit', 3782: 'urine', 3783: 'spotting', 3784: 'sticking', 3785: 'tragedy', 3786: 'kucinich', 3787: \"renee's\", 3788: 'anger', 3789: 'rem', 3790: 'loneliness', 3791: 'fake', 3792: \"daughter's\", 3793: 'exception:', 3794: 'getcha', 3795: 'stairs', 3796: 'benjamin:', 3797: 'ripping', 3798: 'radical', 3799: 'fierce', 3800: 'thrown', 3801: 'notice', 3802: 'wolveriskey', 3803: 'assert', 3804: 'sheets', 3805: 'kicks', 3806: 'kitchen', 3807: 'boozebag', 3808: 'bulked', 3809: 'len-ny', 3810: 'savagely', 3811: 'wienerschnitzel', 3812: 'genuinely', 3813: 'half-beer', 3814: 'upn', 3815: 'leonard', 3816: 'imported-sounding', 3817: 'marvelous', 3818: 'lungs', 3819: 'edner', 3820: 'view', 3821: \"nothin's\", 3822: 'crippling', 3823: 'cruise', 3824: 'reunion', 3825: 'cupid', 3826: 'giant', 3827: 'schedule', 3828: 'scruffy_blogger:', 3829: 'minors', 3830: 'voters', 3831: 'pretend', 3832: 'determined', 3833: 'attractive_woman_#2:', 3834: 'slim', 3835: 'mis-statement', 3836: 'one-hour', 3837: 'resenting', 3838: 'sedaris', 3839: 'monroe', 3840: 'simultaneous', 3841: 'ivanna', 3842: 'candles', 3843: 'hammy', 3844: 'lookalike:', 3845: 'ought', 3846: 'key', 3847: 'sticker', 3848: 'often', 3849: 'safely', 3850: 'trivia', 3851: 'noble', 3852: 'cecil', 3853: 'month', 3854: 'shindig', 3855: 'chic', 3856: 'series', 3857: 'newly-published', 3858: 'chew', 3859: 'glamour', 3860: 'schabadoo', 3861: 'simple', 3862: 'normals', 3863: 'design', 3864: 'strains', 3865: 'consoling', 3866: 'safecracker', 3867: 'bupkus', 3868: 'tar-paper', 3869: 'legal', 3870: 'side:', 3871: 'lumpa', 3872: 'bartholomé:', 3873: 'detail', 3874: 'homeland', 3875: 'sounded', 3876: 'utensils', 3877: 'wheeeee', 3878: 'f-l-a-n-r-d-s', 3879: 'distract', 3880: \"wallet's\", 3881: 'wieners', 3882: 'darkness', 3883: 'apart', 3884: 'digging', 3885: 'branding', 3886: 'column', 3887: 'sturdy', 3888: 'immiggants', 3889: 'moe-lennium', 3890: 'tow-joes', 3891: 'achebe', 3892: 'lis', 3893: 'reckless', 3894: 'logos', 3895: \"hobo's\", 3896: 'refill', 3897: 'wholeheartedly', 3898: 'robbers', 3899: 'pajamas', 3900: 'boxer:', 3901: 'pawed', 3902: \"'ere\", 3903: 'lend', 3904: 'sail', 3905: 'lists', 3906: 'lookalikes', 3907: 'drag', 3908: 'amused', 3909: '_burns_heads:', 3910: 'shelf', 3911: 'all-american', 3912: 'easygoing', 3913: 'endorsed', 3914: 'massage', 3915: 'macbeth', 3916: 'title', 3917: 'stares', 3918: 'ehhhhhhhhh', 3919: 'producers', 3920: 'housework', 3921: 'choked-up', 3922: 'graves', 3923: 'diving', 3924: 'backward', 3925: 'arm-pittish', 3926: 'wind', 3927: 'stolen', 3928: 'nicer', 3929: 'doof', 3930: 'tokens', 3931: 'rapidly', 3932: 'sacrifice', 3933: 'kenny', 3934: \"s'okay\", 3935: 'knocks', 3936: \"s'pose\", 3937: 'hounds', 3938: 'piano', 3939: 'rocks', 3940: 'bottomless', 3941: 'coal', 3942: 'brag', 3943: 'shopping', 3944: \"man'd\", 3945: 'pre-game', 3946: 'promotion', 3947: 'politician', 3948: 'total', 3949: 'disaster', 3950: 'hidden', 3951: 'avalanche', 3952: 'beef', 3953: 'unintelligent', 3954: 'powers', 3955: \"aristotle's\", 3956: 'legoland', 3957: 'congoleum', 3958: 'mayan', 3959: 'moxie', 3960: 'kneeling', 3961: 'backgammon', 3962: \"pressure's\", 3963: 'swimmers', 3964: 'tomatoes', 3965: 'jig', 3966: 'acronyms', 3967: 's-a-u-r-c-e', 3968: 'envy-tations', 3969: 'tree_hoper:', 3970: 'appeals', 3971: 'slender', 3972: 'reentering', 3973: 'addiction', 3974: 'polenta', 3975: 'ees', 3976: 'runt', 3977: 'fastest', 3978: 'woooooo', 3979: 'dumbbell', 3980: 'fainted', 3981: 'boned', 3982: 'killer', 3983: 'birth', 3984: 'ahhhh', 3985: 'h', 3986: 'package', 3987: 'masks', 3988: '2nd_voice_on_transmitter:', 3989: 'firm', 3990: 'showed', 3991: 'forty-seven', 3992: 'starla:', 3993: 'macgregor', 3994: 'ford', 3995: 'rip-off', 3996: 'du', 3997: 'stomach', 3998: 'frenchman', 3999: 'spellbinding', 4000: 'dressing', 4001: 'enforced', 4002: 'throats', 4003: 'land', 4004: 'mary', 4005: 'dark', 4006: 'obese', 4007: 'kissed', 4008: 'dishrag', 4009: 'bid', 4010: 'poorer', 4011: 'scratcher', 4012: 'rude', 4013: \"bettin'\", 4014: 'lipo', 4015: \"clancy's\", 4016: 'weather', 4017: 'deli', 4018: 'uhhhh', 4019: 'race', 4020: 'venom', 4021: 'promise', 4022: 'schmoe', 4023: 'drives', 4024: 'kills', 4025: 'birthplace', 4026: 'lowest', 4027: 'espousing', 4028: 'lump', 4029: 'cheerleaders:', 4030: 'appreciate', 4031: 'tuborg', 4032: 'albeit', 4033: 'nfl_narrator:', 4034: 'cozies', 4035: 'society_matron:', 4036: 'soothing', 4037: 'lobster', 4038: 'byrne', 4039: 'dennis', 4040: 'booking', 4041: 'sued', 4042: 'champs', 4043: 'lighter', 4044: 'batmobile', 4045: 'dumbest', 4046: 'polish', 4047: 'chapter', 4048: 'self-satisfied', 4049: 'waters', 4050: 'pip', 4051: 'wiggle-frowns', 4052: 'settled', 4053: '_marvin_monroe:', 4054: 'stained-glass', 4055: 'wise', 4056: \"sippin'\", 4057: 'die-hard', 4058: 'donuts', 4059: \"soakin's\", 4060: 'easy-going', 4061: 'hooky', 4062: 'malabar', 4063: 'grey', 4064: 'yello', 4065: 'make:', 4066: 'prizefighters', 4067: 'splendid', 4068: 'meaningless', 4069: 'nerd', 4070: 'crooks', 4071: 'bedtime', 4072: 'taunting', 4073: 'regulations', 4074: 'dignified', 4075: 'unbelievably', 4076: 'joy', 4077: 'bindle', 4078: 'novel', 4079: 'easter', 4080: 'simpsons', 4081: 'iranian', 4082: 'progress', 4083: 'support', 4084: \"stayin'\", 4085: 'lainie:', 4086: 'boxcars', 4087: 'muhammad', 4088: 'oh-so-sophisticated', 4089: 'meyerhof', 4090: 'fica', 4091: 'popping', 4092: \"mother's\", 4093: 'mccall', 4094: 'catholic', 4095: 'aristotle:', 4096: 'dictating', 4097: 'committing', 4098: 'mumble', 4099: 'appearance-altering', 4100: 'grain', 4101: 'female_inspector:', 4102: 'whoopi', 4103: \"listenin'\", 4104: 'plastered', 4105: 'habitrail', 4106: 'scarf', 4107: 'stored', 4108: 'eighteen', 4109: \"ya'\", 4110: 'ron', 4111: 'mull', 4112: 'ing', 4113: 'magnanimous', 4114: 'homeless', 4115: 'director:', 4116: 'plaintive', 4117: 'rhode', 4118: 'vampire', 4119: 'looting', 4120: 'perverse', 4121: 'foam', 4122: 'brusque', 4123: 'science', 4124: 'radioactive', 4125: 'executive', 4126: 'partners', 4127: \"what'd\", 4128: 'blinds', 4129: 'expired', 4130: 'fistiana', 4131: 'strangles', 4132: 'inches', 4133: 'superpower', 4134: 'pretzel', 4135: 'jobless', 4136: 'avec', 4137: 'recipe', 4138: '91', 4139: 'disappointing', 4140: \"department's\", 4141: 'predecessor', 4142: 'feminine', 4143: 'injury', 4144: 'hah', 4145: 'dawning', 4146: \"somethin':\", 4147: 'haplessly', 4148: 'night-crawlers', 4149: 'y', 4150: 'cletus_spuckler:', 4151: 'rims', 4152: 'visas', 4153: 'starve', 4154: 'throws', 4155: 'wood', 4156: 'poke', 4157: 'racially-diverse', 4158: 'mindless', 4159: \"'your\", 4160: 'ho-ly', 4161: 'watered', 4162: 'bouquet', 4163: 'mathis', 4164: 'experienced', 4165: 'meals', 4166: 'unfair', 4167: \"man's_voice:\", 4168: '1-800-555-hugs', 4169: 'federal', 4170: 'p-k', 4171: 'chuck', 4172: \"askin'\", 4173: 'lovers', 4174: 'villanova', 4175: 'wisconsin', 4176: 'sideshow', 4177: 'signed', 4178: 'shill', 4179: 'drummer', 4180: 'jeter', 4181: 'astonishment', 4182: 'tigers', 4183: 'sumatran', 4184: \"eatin'\", 4185: 'nickel', 4186: 'harvey', 4187: 'languages', 4188: 'published', 4189: 'soft', 4190: 'owes', 4191: 'provide', 4192: 'settlement', 4193: 'john', 4194: 'pinball', 4195: 'wigs', 4196: 'tooth', 4197: 'improv', 4198: 'einstein', 4199: 'sniper', 4200: 'floating', 4201: 'kirk', 4202: 'abusive', 4203: 'jogging', 4204: \"writin'\", 4205: 'cocks', 4206: 'shakes', 4207: 'sponge:', 4208: 'gambler', 4209: 'reader', 4210: 'figure', 4211: 'cross-country', 4212: 'carny:', 4213: 'snotball', 4214: 'chill', 4215: 'malted', 4216: 'liquor', 4217: 'resist', 4218: 'imitating', 4219: 'ungrateful', 4220: 'shortcomings', 4221: 'furry', 4222: 'decide:', 4223: 'yak', 4224: 'chauffeur:', 4225: 'post-suicide', 4226: 'invisible', 4227: 'lime', 4228: 'st', 4229: 'faiths', 4230: 'tolerance', 4231: 'botanical', 4232: 'smoker', 4233: 'duff_announcer:', 4234: 'incapable', 4235: 'population', 4236: 'rush', 4237: 'typing', 4238: 'hears', 4239: 'whirlybird', 4240: 'skoal', 4241: 'beard', 4242: 'craft', 4243: \"dog's\", 4244: 'crappy', 4245: 'capitalists', 4246: 'ratio', 4247: 'phlegm', 4248: 'entrance', 4249: 'pre-recorded', 4250: 'mystery', 4251: 'bon-bons', 4252: \"table's\", 4253: 'showered', 4254: \"bo's\", 4255: 'sacajawea', 4256: 'rumor', 4257: 'religious', 4258: 'crayon', 4259: 'it:', 4260: \"must've\", 4261: 'wolfcastle', 4262: 'figures', 4263: 'happily:', 4264: 'atari', 4265: 'uniforms', 4266: 'monorails', 4267: 'fulla', 4268: 'mission', 4269: 'hotel', 4270: 'menacing', 4271: 'aquafresh', 4272: 'peeping', 4273: 'cushions', 4274: \"mopin'\", 4275: 'veteran', 4276: 'infiltrate', 4277: 'flames', 4278: 'protesting', 4279: 'authenticity', 4280: 'incredible', 4281: 'espn', 4282: \"mecca's\", 4283: 'a-lug', 4284: 'finish', 4285: 'scoffs', 4286: 'other_player:', 4287: 'catty', 4288: 'braun:', 4289: 'iran', 4290: 'sympathy', 4291: 'whatsit', 4292: 'ehhhhhh', 4293: \"spyin'\", 4294: 'innocuous', 4295: \"elmo's\", 4296: 'declare', 4297: 'ninety-six', 4298: \"i'd'a\", 4299: 'w-a-3-q-i-zed', 4300: 'streetcorner', 4301: 'finale', 4302: 'wore', 4303: 'barber', 4304: \"c'mom\", 4305: 'contemporary', 4306: 'newsies', 4307: '4x4', 4308: \"narratin'\", 4309: 'awareness', 4310: 'wrecking', 4311: 'hellhole', 4312: 'way:', 4313: 'exited', 4314: 'occurrence', 4315: 'gentle', 4316: 'stalking', 4317: 'sucker', 4318: 'dutch', 4319: 'norway', 4320: 'parrot', 4321: 'noooooooooo', 4322: 'territorial', 4323: \"'evening\", 4324: 'tummies', 4325: 'cell-ee', 4326: 'pancakes', 4327: 'womb', 4328: 'salary', 4329: 'error', 4330: 'hub', 4331: 'pulitzer', 4332: \"larry's\", 4333: 'tear', 4334: 'proposition', 4335: 'busiest', 4336: 'maude', 4337: 'administration', 4338: 'conversations', 4339: \"disrobin'\", 4340: 'bits', 4341: 'gus', 4342: 'terrifying', 4343: 'newsweek', 4344: 'unrelated', 4345: 'naively', 4346: 'alma', 4347: \"scammin'\", 4348: 'intervention', 4349: 'uses', 4350: 'acceptance', 4351: \"america's\", 4352: 'connor', 4353: 'other_book_club_member:', 4354: 'papa', 4355: 'dean', 4356: 'maxed', 4357: \"renovatin'\", 4358: 'takeaway', 4359: 'rain', 4360: 'neighborhood', 4361: 'holidays', 4362: 'th', 4363: 'swelling', 4364: 'led', 4365: 'earlier', 4366: 'disguised', 4367: 'selective', 4368: 'kinds', 4369: \"tinklin'\", 4370: 'courthouse', 4371: 'wells', 4372: 'neighboreeno', 4373: 'humiliation', 4374: 'tones', 4375: 'eddie', 4376: 'treehouse', 4377: 'debonair', 4378: 'squadron', 4379: 'annus', 4380: 'shelbyville', 4381: 'thawing', 4382: 'unlocked', 4383: 'britannia', 4384: 'jeff_gordon:', 4385: 'blubberino', 4386: 'break-up', 4387: 'punishment', 4388: 'talkative', 4389: 'truck_driver:', 4390: 'pantry', 4391: 'ignorant', 4392: 'puke-holes', 4393: 'doppler', 4394: 'donor', 4395: \"lady's\", 4396: 'diddilies', 4397: 'toledo', 4398: 'whaddya', 4399: 'fast-paced', 4400: 'tapestry', 4401: 'libraries', 4402: 'good-looking', 4403: 'boozer', 4404: 'diablo', 4405: 'gunter:', 4406: 'bites', 4407: 'el', 4408: 'repeated', 4409: 'complicated', 4410: 'luckily', 4411: \"'round\", 4412: 'goodwill', 4413: 'slapped', 4414: 'ihop', 4415: 'flash', 4416: \"fryer's\", 4417: 'aims', 4418: 'tow-talitarian', 4419: 'handler', 4420: 'royal', 4421: 'sweetie', 4422: 'deny', 4423: 'bellyaching', 4424: 'canoodling', 4425: 'seminar', 4426: 'reaction', 4427: 'sat-is-fac-tion', 4428: 'dumpster', 4429: 'hooch', 4430: 'quadruple-sec', 4431: 'dracula', 4432: 'ralph_wiggum:', 4433: 'doll-baby', 4434: 'brotherhood', 4435: 'mustard', 4436: \"cheerin'\", 4437: 'maximum', 4438: 'delivery_man:', 4439: 'knock-up', 4440: 'abe', 4441: '35', 4442: 'gumbo', 4443: 'pretentious_rat_lover:', 4444: 'forecast', 4445: 'passports', 4446: 'beligerent', 4447: 'kansas', 4448: 'sincerely', 4449: \"washin'\", 4450: 'collateral', 4451: 'groveling', 4452: 'amnesia', 4453: 'basement', 4454: 'knit', 4455: 'cerebral', 4456: 'cheered', 4457: 'flame', 4458: 'ura', 4459: 'brief', 4460: 'befriend', 4461: 'yelp', 4462: 'occurs', 4463: 'fire_inspector:', 4464: 'slurps', 4465: 'groans', 4466: 'appreciated', 4467: 'coupon', 4468: 'damned', 4469: 'liable', 4470: 'repressed', 4471: 'fast-food', 4472: 'billiard', 4473: 'white_rabbit:', 4474: 'mint', 4475: 'ditched', 4476: 'hexa-', 4477: 'tank', 4478: 'loafers', 4479: 'jeers', 4480: 'kisser', 4481: 'gator', 4482: 'snotty', 4483: 'faith', 4484: 'dramatically', 4485: 'janette', 4486: \"kid's\", 4487: \"somethin's\", 4488: 'praise', 4489: 'trustworthy', 4490: 'montrer', 4491: 'sidekick', 4492: 'agent_miller:', 4493: 'fantastic', 4494: 'fruit', 4495: 'accepting', 4496: 'schemes', 4497: 'man_with_tree_hat:', 4498: 'behavior', 4499: 'distaste', 4500: 'jacksons', 4501: 'eww', 4502: 'fresco', 4503: 'sloe', 4504: 'sketching', 4505: 'flea:', 4506: 'installed', 4507: 'karaoke_machine:', 4508: 'wish-meat', 4509: 'gayer', 4510: 'in-in-in', 4511: 'lachrymose', 4512: 'intriguing', 4513: 'madman', 4514: 'paste', 4515: \"hawkin'\", 4516: 'poulet', 4517: 'sacrilicious', 4518: 'limits', 4519: 'delays', 4520: 'treats', 4521: 'stacey', 4522: 'inexorable', 4523: 'jackass', 4524: 'relaxing', 4525: 'devils:', 4526: 'trunk', 4527: 'winces', 4528: 'delightfully', 4529: \"d'ya\", 4530: 'gin-slingers', 4531: 'prettied', 4532: 'steampunk', 4533: 'jay_leno:', 4534: 'fortress', 4535: 'jackpot-thief', 4536: 'knowingly', 4537: 'signal', 4538: 'grind', 4539: 'country-fried', 4540: 'zinged', 4541: 'saga', 4542: 'thirty-three', 4543: 'hydrant', 4544: 'nightmares', 4545: 'wife-swapping', 4546: 'boyhood', 4547: 'femininity', 4548: 'moonlight', 4549: 'flack', 4550: 'tobacky', 4551: 'examines', 4552: 'mike_mills:', 4553: 'u2:', 4554: 'ehhhhhhhh', 4555: 'thunder', 4556: 'pus-bucket', 4557: 'sharing', 4558: 'musses', 4559: 'temple', 4560: 'barbed', 4561: 'indicates', 4562: 'picky', 4563: 'beaumarchais', 4564: '1973', 4565: 'squeals', 4566: 'blobbo', 4567: 'man_with_crazy_beard:', 4568: 'attach', 4569: 'nantucket', 4570: 'infatuation', 4571: 'delicately', 4572: 'burger', 4573: 'compressions', 4574: 'swe-ee-ee-ee-eet', 4575: 'engraved', 4576: 'telegraph', 4577: 'explanation', 4578: 'gift:', 4579: \"collector's\", 4580: 'tracks', 4581: 'hoagie', 4582: 'community', 4583: 'completely', 4584: 'scores', 4585: 'exits', 4586: 'stepped', 4587: 'homunculus', 4588: \"can't-believe-how-bald-he-is\", 4589: 'foodie', 4590: 'fink', 4591: 'yourse', 4592: 'gr-aargh', 4593: 'suspiciously', 4594: 'sustain', 4595: 'hawaii', 4596: 'co-sign', 4597: 'storms', 4598: 'anti-lock', 4599: 'indifference', 4600: 'apology', 4601: 'loathe', 4602: 'symphonies', 4603: 'lovejoy', 4604: 'insensitive', 4605: 'picked', 4606: \"treatin'\", 4607: 'guilt', 4608: 'singing/pushing', 4609: 'partially', 4610: 'eminence', 4611: 'expense', 4612: 'lard', 4613: 'upgrade', 4614: 'insured', 4615: 'admirer', 4616: 'data', 4617: 'eaters', 4618: 'saving', 4619: 'thorough', 4620: 'bookie', 4621: 'refreshingness', 4622: \"bart'd\", 4623: 'expecting', 4624: 'engine', 4625: 'prince', 4626: 'stamp', 4627: 'certainly', 4628: 'bloodball', 4629: 'rickles', 4630: \"'ceptin'\", 4631: 'kl5-4796', 4632: 'tonic', 4633: 'sistine', 4634: 'shores', 4635: \"beggin'\", 4636: 'outstanding', 4637: 'rainforest', 4638: 'fountain', 4639: 'brooklyn', 4640: 'doooown', 4641: 'cab', 4642: 'koji', 4643: 'grub', 4644: 'buzziness', 4645: 'woe:', 4646: 'glummy', 4647: 'dejected', 4648: 'ruint', 4649: 'spouses', 4650: 'liser', 4651: 'lugs', 4652: 'living', 4653: 'agency', 4654: 'wheels', 4655: 'runs', 4656: 'hose', 4657: 'conclusions', 4658: 'chain', 4659: 'zack', 4660: 'steam', 4661: 'mostly', 4662: 'murdered', 4663: 'attraction', 4664: 'chug-a-lug', 4665: 'ear', 4666: 'moe-heads', 4667: \"phone's\", 4668: 'heavens', 4669: 'vicious', 4670: 'foundation', 4671: 'freaky', 4672: 'zoomed', 4673: 'super-genius', 4674: 'rivalry', 4675: 'pews', 4676: 'civil', 4677: 'ehhh', 4678: 'life-extension', 4679: 'burglary', 4680: 'bake', 4681: 'arguing', 4682: 'strips', 4683: 'sieben-gruben', 4684: 'depressant', 4685: 'leftover', 4686: 'so-ng', 4687: 'perking', 4688: 'helps', 4689: 'ears', 4690: \"tree's\", 4691: 'process', 4692: 'anxious', 4693: 'grains', 4694: 'kick-ass', 4695: 'longest', 4696: 'oooh', 4697: 'pas', 4698: 'stripes', 4699: 'pinchpenny', 4700: 'warranty', 4701: 'frightened', 4702: 'broncos', 4703: 'someplace', 4704: 'sagacity', 4705: 'blind', 4706: 'flashing', 4707: 'faced', 4708: 'brandy', 4709: 'eager', 4710: 'cooking', 4711: 'regretted', 4712: 'rabbits', 4713: 'patrons:', 4714: 'enveloped', 4715: 'bust', 4716: 'pumping', 4717: 'legend', 4718: 'remote', 4719: 'fools', 4720: 'sorts', 4721: 'barstools', 4722: 'trail', 4723: 'unexplained', 4724: 'butter', 4725: 'missing', 4726: 'sponsor', 4727: 'tons', 4728: 'commit', 4729: 'tee', 4730: 'reward', 4731: 'korea', 4732: \"england's\", 4733: 'buyer', 4734: 'crab', 4735: 'county', 4736: 'grubby', 4737: \"puttin'\", 4738: 'poetry', 4739: 'bursts', 4740: 'technical', 4741: 'clench', 4742: 'rice', 4743: 'site', 4744: '-ry', 4745: 'rolls', 4746: 'haiti', 4747: 'nightmare', 4748: 'wild', 4749: 'vacations', 4750: 'manatee', 4751: 'beast', 4752: 'failure', 4753: 'filth', 4754: 'waterfront', 4755: 'background', 4756: 'adjourned', 4757: 'kentucky', 4758: 'neanderthal', 4759: 'sweat', 4760: 'grammys', 4761: 'consciousness', 4762: 'nor', 4763: 'three-man', 4764: 'unhook', 4765: 'divine', 4766: 'honeys', 4767: 're-al', 4768: 'hoax', 4769: 'tv-station_announcer:', 4770: 'bannister', 4771: 'drunkenly', 4772: 'hunky', 4773: 'dexterous', 4774: 'dyspeptic', 4775: 'pizza', 4776: 'cuddling', 4777: 'tv_daughter:', 4778: 'lone', 4779: 'mexican_duffman:', 4780: 'alien', 4781: 'methinks', 4782: 'west', 4783: 'larson', 4784: 'massive', 4785: 'cloudy', 4786: 'johnny_carson:', 4787: 'celeste', 4788: 'fishing', 4789: 'smelling', 4790: 'dilemma', 4791: 'chili', 4792: 'michael_stipe:', 4793: 'tapered', 4794: 'scum-sucking', 4795: 'bones', 4796: 'sensitivity', 4797: 'language', 4798: 'heals', 4799: 'friction', 4800: 'duffed', 4801: 'williams', 4802: 'please/', 4803: 'frescas', 4804: \"d'\", 4805: 'micronesian', 4806: 'coin', 4807: 'gunter', 4808: 'specified', 4809: \"how're\", 4810: 'dime', 4811: \"liberty's\", 4812: 'maintenance', 4813: 'fl', 4814: 'homer_', 4815: 'eurotrash', 4816: 'scent', 4817: 'urban', 4818: 'starters', 4819: 'richer', 4820: 'cans', 4821: 'indifferent', 4822: 'trapping', 4823: 'multi-purpose', 4824: 'hoped', 4825: 'offshoot', 4826: 'founded', 4827: 'napkins', 4828: 'prolonged', 4829: 'yuh-huh', 4830: 'menlo', 4831: 'wenceslas', 4832: \"friend's\", 4833: 'hollye', 4834: 'leno', 4835: '_eugene_blatz:', 4836: 'snide', 4837: 'suave', 4838: 'sour', 4839: 'steamed', 4840: 'rosey', 4841: 'sobriety', 4842: 'factor', 4843: 'stalin', 4844: 'fuhgetaboutit', 4845: 'mix', 4846: 'wantcha', 4847: 'pronounce', 4848: 'wagering', 4849: 'mailbox', 4850: 'single-mindedness', 4851: 'ceremony', 4852: 'strategizing', 4853: 'placed', 4854: 'bullet-proof', 4855: \"industry's\", 4856: 'glowers', 4857: 'spender', 4858: 'older', 4859: 'bubbles-in-my-nose-y', 4860: 'jewelry', 4861: 'creature', 4862: 'gregor', 4863: 'chinua', 4864: \"nixon's\", 4865: \"shootin'\", 4866: 'browns', 4867: 'voicemail', 4868: 'glitz', 4869: 'winch', 4870: 'sixteen', 4871: 'kickoff', 4872: 'bliss', 4873: 'sheet', 4874: 'malfeasance', 4875: 'conditioners', 4876: 'kodos:', 4877: 'stones', 4878: 'occasional', 4879: 'belts', 4880: 'nonchalantly', 4881: 'domed', 4882: 'enthusiasm', 4883: 'polls', 4884: 'nucular', 4885: 'grenky', 4886: 'goblins', 4887: 'mozzarella', 4888: 'penmanship', 4889: 'op', 4890: 'nachos', 4891: 'swishkabobs', 4892: 'cronies', 4893: 'tsking', 4894: \"challengin'\", 4895: 'earpiece', 4896: 'pictured', 4897: 'presently', 4898: 'medieval', 4899: 'ram', 4900: 'facebook', 4901: 'brain-switching', 4902: 'rotten', 4903: 'heaving', 4904: 'court', 4905: 'rainbows', 4906: 'depository', 4907: 'looser', 4908: 'breathalyzer', 4909: 'quarter', 4910: 'hooked', 4911: 'lurks', 4912: 'harvard', 4913: 'model', 4914: 'limber', 4915: 'hiring', 4916: 'absentmindedly', 4917: 'flustered', 4918: 'pursue', 4919: 'nauseous', 4920: 'privacy', 4921: 'test-lady', 4922: 'pennies', 4923: 'priceless', 4924: 'mcclure', 4925: 'aghast', 4926: 'junebug', 4927: 'limited', 4928: 'ladder', 4929: \"'now\", 4930: 'stickers', 4931: 'creepy', 4932: 'host', 4933: 'youngsters', 4934: 'ribbon', 4935: 'phasing', 4936: 'dislike', 4937: 'effect', 4938: 'mural', 4939: 'brunch', 4940: 'intoxicants', 4941: 'suits', 4942: 'physical', 4943: 'pronto', 4944: 'assume', 4945: 'rekindle', 4946: 'necessary', 4947: 'stocking', 4948: 'family-owned', 4949: 'stats', 4950: 'hangout', 4951: 'beings', 4952: 'exhibit', 4953: \"city's\", 4954: 'heck', 4955: \"battin'\", 4956: 'jägermeister', 4957: \"'n'\", 4958: 'uninhibited', 4959: 'glitterati', 4960: 'noosey', 4961: 'phrase', 4962: \"lefty's\", 4963: 'yew', 4964: 'holy', 4965: 'mamma', 4966: \"knockin'\", 4967: 'selfish', 4968: 'boston', 4969: 'sickens', 4970: 'manfred', 4971: 'flaking', 4972: 'ugh', 4973: 'lifts', 4974: 'starving', 4975: 'presidents', 4976: 'prep', 4977: 'ralphie', 4978: \"professor's\", 4979: 'links', 4980: 'heartless', 4981: 'photos', 4982: 'bumblebee_man:', 4983: \"bringin'\", 4984: 'cigars', 4985: '10:15', 4986: 'frankenstein', 4987: 'liability', 4988: 'equivalent', 4989: 'followed', 4990: 'relative', 4991: 'kidnaps', 4992: 'recruiter', 4993: 'clincher', 4994: 'connection', 4995: 'donated', 4996: 'cocoa', 4997: 'capitol', 4998: 'martini', 4999: 'eight-year-old', 5000: 'miracle', 5001: 'brainiac', 5002: 'photographer', 5003: 'dishonor', 5004: 'pills', 5005: 'diapers', 5006: 'attached', 5007: 'pro', 5008: 'anonymous', 5009: 'betcha', 5010: \"yesterday's\", 5011: 'düff', 5012: 'mitts', 5013: 'tornado', 5014: 'boxcar', 5015: 'thirty-nine', 5016: 'alky', 5017: 'lorre', 5018: 'guff', 5019: 'amber', 5020: 'compadre', 5021: 'x-men', 5022: 'mickey', 5023: 'er', 5024: 'store-bought', 5025: 'falling', 5026: 'stupidly', 5027: 'mushy', 5028: 'extended', 5029: 'simon', 5030: 'dictator', 5031: 'affection', 5032: 'pregnancy', 5033: 'y-you', 5034: 'irs', 5035: 'crinkly', 5036: 'nick', 5037: 'tha', 5038: 'pointedly', 5039: 'winning', 5040: 'sledge-hammer', 5041: 'listened', 5042: 'hot-rod', 5043: 'warned', 5044: 'composer', 5045: 'amber_dempsey:', 5046: 'paintings', 5047: 'student', 5048: 'choke', 5049: 'wudgy', 5050: 'gees', 5051: 'texan', 5052: 'obama', 5053: 'annie', 5054: 'phase', 5055: 'modestly', 5056: 'compromise:', 5057: 'cockroach', 5058: 'terror', 5059: 'puke-pail', 5060: 'believer', 5061: 'insist', 5062: 'peppers', 5063: 'counter', 5064: 'mice', 5065: 'blob', 5066: 'nap', 5067: 'contemptuous', 5068: \"high-falutin'\", 5069: 'painless', 5070: 'quimby_#2:', 5071: 'cup', 5072: 'aerospace', 5073: 'underwear', 5074: \"tatum'll\", 5075: 'badge', 5076: 'whoever', 5077: 'deeper', 5078: 'gasoline', 5079: 'ecru', 5080: 'brown', 5081: 'lifters', 5082: 'lushmore', 5083: \"jackpot's\", 5084: 'whoops', 5085: 'pepsi', 5086: 'handshake', 5087: 'milhouses', 5088: 'valuable', 5089: 'conclude', 5090: 'beer:', 5091: 'gulps', 5092: 'hangover', 5093: 'unbelievable', 5094: 'chipped', 5095: 'whale', 5096: \"depressin'\", 5097: \"number's\", 5098: 'hardhat', 5099: \"fun's\", 5100: 'rent', 5101: 'eye-gouger', 5102: 'kirk_voice_milhouse:', 5103: 'hers', 5104: 'cleaning', 5105: 'carney', 5106: 'thomas', 5107: 'tender', 5108: 'enhance', 5109: \"neighbor's\", 5110: 'frontrunner', 5111: 'mimes', 5112: 'maiden', 5113: 'nurse', 5114: 'gear-head', 5115: 'smelly', 5116: 'breaks', 5117: 'hooters', 5118: 'huddle', 5119: 'elmer', 5120: 'overstressed', 5121: 'tomato', 5122: 'teen', 5123: 'nonsense', 5124: 'relaxed', 5125: \"dimwit's\", 5126: 'recreate', 5127: 'hemoglobin', 5128: 'stiffening', 5129: 'paparazzo', 5130: 'versus', 5131: 'hampstead-on-cecil-cecil', 5132: 'trade', 5133: 'screws', 5134: 'stalwart', 5135: 'dregs', 5136: 'nameless', 5137: 'resolution', 5138: 'arrested:', 5139: 'rebuttal', 5140: 'carb', 5141: 'diaper', 5142: 'dazed', 5143: 'jay', 5144: 'militia', 5145: 'citizens', 5146: 'oww', 5147: 'quimby', 5148: 'marry', 5149: 'plug', 5150: 'swooning', 5151: 'selection', 5152: 'lifetime', 5153: 'refiero', 5154: 'flush-town', 5155: 'crowbar', 5156: 'gentles', 5157: 'dozen', 5158: 'duke', 5159: 'control', 5160: 'divorced', 5161: 'richard', 5162: 'jokes', 5163: 'adopted', 5164: 'banquet', 5165: 'itchy', 5166: 'the_edge:', 5167: 'issues', 5168: 'samples', 5169: 'allegiance', 5170: 'shush', 5171: 'notorious', 5172: 'frozen', 5173: 'arse', 5174: 'rash', 5175: \"bladder's\", 5176: 'massachusetts', 5177: 'patented', 5178: 'east', 5179: 'cherry', 5180: 'homesick', 5181: 'mason', 5182: 'eva', 5183: 'jernt', 5184: \"president's\", 5185: 'shoes', 5186: 'species', 5187: 'buttocks', 5188: 'eve', 5189: 'finance', 5190: 'jazz', 5191: 'non-losers', 5192: 'here-here-here', 5193: 'examples', 5194: 'little_hibbert_girl:', 5195: 'mild', 5196: 'access', 5197: \"kearney's_dad:\", 5198: 'youth', 5199: 'windowshade', 5200: 'tubman', 5201: 'choices', 5202: 'hundreds', 5203: 'laid', 5204: 'jovial', 5205: 'grumbling', 5206: \"usin'\", 5207: 'carnival', 5208: 'comeback', 5209: 'comment', 5210: 'winner', 5211: 'proper', 5212: 'weekend', 5213: 'telephone', 5214: 'device', 5215: 'declan', 5216: 'fireworks', 5217: 'neon', 5218: 'rings', 5219: 'hafta', 5220: 'unsanitary', 5221: 'cliff', 5222: 'hillary', 5223: 'snackie', 5224: 'wipes', 5225: 'unfresh', 5226: 'sponsoring', 5227: 'whoa-ho', 5228: 'asses', 5229: \"secret's\", 5230: 'loyal', 5231: 'uglier', 5232: 'wok', 5233: 'bottoms', 5234: 'automobiles', 5235: 'haws', 5236: \"tab's\", 5237: 'chorus:', 5238: 'permitting', 5239: 'celebrate', 5240: 'bleacher', 5241: 'repairman', 5242: 'rip', 5243: 'naval', 5244: 'wham', 5245: 'drunkening', 5246: 'parenting', 5247: 'dum-dum', 5248: 'jerking', 5249: 'crystal', 5250: 'disturbing', 5251: 'snapping', 5252: \"duff's\", 5253: 'tire', 5254: 'hmf', 5255: 'hustle', 5256: 'vincent', 5257: '70', 5258: 'settles', 5259: 'indecipherable', 5260: 'rewound', 5261: 'mugs', 5262: 'four-star', 5263: 'linda_ronstadt:', 5264: 'quarterback', 5265: 'catch-phrase', 5266: \"stabbin'\", 5267: 'interesting', 5268: 'sap', 5269: 'open-casket', 5270: 'statesmanlike', 5271: 'offensive', 5272: 'wreck', 5273: \"lovers'\", 5274: 'terrorizing', 5275: 'boozehound', 5276: 'goldarnit', 5277: 'insulin', 5278: \"fendin'\", 5279: 'tremendous', 5280: 'drawer', 5281: 'gig', 5282: 'warning', 5283: 'backbone', 5284: 'beanbag', 5285: 'shells', 5286: 'shark', 5287: 'aah', 5288: 'fund', 5289: 'feisty', 5290: 'owned', 5291: \"grandmother's\", 5292: 'muscles', 5293: 'landfill', 5294: 'billingsley', 5295: 'slaves', 5296: 'afterglow', 5297: 'contemplated', 5298: 'punkin', 5299: 'weapon', 5300: 'result', 5301: 'thought_bubble_lenny:', 5302: 'shutup', 5303: 'moustache', 5304: 'replace', 5305: 'sleigh-horses', 5306: 'purveyor', 5307: 'right-handed', 5308: 'chubby', 5309: 'dentist', 5310: 'swings', 5311: 'wobble', 5312: 'crisis', 5313: 'frogs', 5314: \"'\", 5315: 'difference', 5316: 'stood', 5317: 'plums', 5318: 'cummerbund', 5319: 'march', 5320: 'muscle', 5321: 'heroism', 5322: 'motor', 5323: \"mo'\", 5324: 'ninety-eight', 5325: 'beatings', 5326: 'drinker', 5327: 'merchants', 5328: 'emporium', 5329: 'sam:', 5330: 'rationalizing', 5331: 'bowled', 5332: 'swig', 5333: 'bide', 5334: 'sanitation', 5335: 'squishee', 5336: 'nitwit', 5337: 'mouths', 5338: 'rainier', 5339: 'ideas', 5340: 'reactions', 5341: 'robot', 5342: 'oils', 5343: 'take-back', 5344: 'starla', 5345: 'triple-sec', 5346: \"speakin'\", 5347: 'grrrreetings', 5348: 'gabriel', 5349: 'orgasmville', 5350: 'dash', 5351: 'odor', 5352: 'lessee', 5353: 'pine', 5354: 'england', 5355: 'flash-fry', 5356: 'stay-puft', 5357: 'falsetto', 5358: 'disgraceful', 5359: 'killarney', 5360: 'ebullient', 5361: 'jerk-ass', 5362: 'slot', 5363: 'items', 5364: 'correction', 5365: \"coffee'll\", 5366: 'chairman', 5367: 'las', 5368: 'jukebox_record:', 5369: 'strawberry', 5370: 'fonzie', 5371: 'champignons', 5372: 'eats', 5373: 'impeach', 5374: 'punching', 5375: 'grudgingly', 5376: 'lifestyle', 5377: 'slobs', 5378: \"floatin'\", 5379: 'opens', 5380: 'reluctant', 5381: 'layer', 5382: 'mulder', 5383: 'consulting', 5384: 'octa-', 5385: 'passenger', 5386: 'whatchamacallit', 5387: 'sub-monkeys', 5388: 'attracted', 5389: 'ballclub', 5390: 'sister-in-law', 5391: 'slobbo', 5392: 'habit', 5393: \"fans'll\", 5394: 'bleeding', 5395: 'hollowed-out', 5396: 'effervescence', 5397: 'tuna', 5398: 'irishman', 5399: 'lovelorn', 5400: 'julienne', 5401: 'perfunctory', 5402: 'tow', 5403: 'theme', 5404: 'blamed', 5405: 'cavern', 5406: 'dies', 5407: 'disillusioned', 5408: 'repeating', 5409: 'ingrates', 5410: 'italian', 5411: 'lily-pond', 5412: 'los', 5413: 'mansions', 5414: 'damage', 5415: \"smokin'\", 5416: 'contract', 5417: \"g'ahead\", 5418: 'ding-a-ding-ding-ding-ding-ding-ding', 5419: 'sending', 5420: \"donatin'\", 5421: 'delightful', 5422: 'old_jewish_man:', 5423: 'guzzles', 5424: 'lofty', 5425: 'kisses', 5426: 'earth', 5427: 'helping', 5428: 'dashes', 5429: 'connor-politan', 5430: 'asleep', 5431: 'suburban', 5432: 'chosen', 5433: 'disposal', 5434: 'intruding', 5435: 'ugliness', 5436: 'elect', 5437: 'besides', 5438: 'dropping', 5439: 'defiantly', 5440: 'butterball', 5441: 'mole', 5442: 'instantly', 5443: 'startled', 5444: 'rupert_murdoch:', 5445: 'ideal', 5446: 'spooky', 5447: 'sampler', 5448: 'ore', 5449: 'freaking', 5450: 'generosity', 5451: 'presentable', 5452: 'platinum', 5453: 'cheering', 5454: 'compare', 5455: 'mexican', 5456: 'sanctuary', 5457: 'clubs', 5458: 'decision', 5459: 'occupied', 5460: 'fortensky', 5461: 'pudgy', 5462: 'taxi', 5463: 'half-day', 5464: 'hops', 5465: 'fonda', 5466: 'elocution', 5467: 'frazier', 5468: \"hole'\", 5469: 'judges', 5470: 'renovations', 5471: 'detective', 5472: 'vehicle', 5473: 'wound', 5474: 'bushes', 5475: \"homer'll\", 5476: 'presided', 5477: 'caper', 5478: 'eightball', 5479: 'wishing', 5480: 'lead', 5481: 'shack', 5482: 'statue', 5483: 'arise', 5484: 'choices:', 5485: 'accelerating', 5486: 'sharity', 5487: 'spine', 5488: 'aggravazes', 5489: 'employees', 5490: 'awkwardly', 5491: 'scientists', 5492: 'pile', 5493: 'wikipedia', 5494: 'freely', 5495: 'indeedy', 5496: 'stingy', 5497: 'monday', 5498: 'heh-heh', 5499: 'stagehand:', 5500: 'bonding', 5501: 'log', 5502: 'bumped', 5503: 'blade', 5504: 'jane', 5505: 'caholic', 5506: 'icelandic', 5507: 'boxers', 5508: 'carmichael', 5509: 'voodoo', 5510: 'dizzy', 5511: 'pretzels', 5512: 'mistresses', 5513: 'squabbled', 5514: 'oak', 5515: 'notices', 5516: 'sight-unseen', 5517: 'loboto-moth', 5518: 'hems', 5519: 'extreme', 5520: 'blessing', 5521: 'sunk', 5522: 'freshened', 5523: 'loudly', 5524: 'enthused', 5525: 'sassy', 5526: 'hearts', 5527: \"thing's\", 5528: 'tense', 5529: 'patting', 5530: 'lighten', 5531: 'unsourced', 5532: 'refinanced', 5533: 'fixes', 5534: 'backing', 5535: 'feedbag', 5536: 'notch', 5537: 'bauer', 5538: \"bashir's\", 5539: 'gordon', 5540: 'pugilist', 5541: 'statues', 5542: 'unattractive', 5543: 'washer', 5544: 'choice:', 5545: 'germany', 5546: 'brunswick', 5547: 'gestated', 5548: 'scout', 5549: 'naegle', 5550: 'cheesecake', 5551: 'chair', 5552: 'parked', 5553: 'strokkur', 5554: 'tropical', 5555: 'mortal', 5556: 'delicate', 5557: 'ventriloquism', 5558: 'badmouth', 5559: 'terminated', 5560: 'football', 5561: 'united', 5562: 'enlightened', 5563: 'assumed', 5564: 'continuum', 5565: 'sang', 5566: 'talkers', 5567: 'urge', 5568: 'jewish', 5569: 'dory', 5570: 'forgiven', 5571: 'spare', 5572: 'tied', 5573: 'beyond', 5574: 'michael', 5575: 'grieving', 5576: 'ignoring', 5577: 'sets', 5578: 'gardens', 5579: 'perverted', 5580: 'bar:', 5581: 'clothespins:', 5582: 'hearse', 5583: 'soaps', 5584: 'tyson/secretariat', 5585: 'moon-bounce', 5586: \"santa's\", 5587: 'spiritual', 5588: 'hostages', 5589: 'deliberately', 5590: 'extract', 5591: 'fears', 5592: 'tin', 5593: 'lance', 5594: 'pasta', 5595: 'sneering', 5596: 'thoughtless', 5597: 'gruff', 5598: 'sen', 5599: 'yee-ha', 5600: 'fence', 5601: 'lanes', 5602: 'togetherness', 5603: 'spews', 5604: 'disgracefully', 5605: 'adequate', 5606: 'oblongata', 5607: \"tramp's\", 5608: 'publishers', 5609: 'putty', 5610: 'fourteen:', 5611: 'flashbacks', 5612: 'yoink', 5613: 'sidelines', 5614: 'sponge', 5615: 'albert', 5616: 'eliminate', 5617: 'romance', 5618: \"cuckold's\", 5619: 'self-centered', 5620: 'lou', 5621: 'verdict', 5622: 'enterprising', 5623: 'sizes', 5624: 'hero-phobia', 5625: 'panties', 5626: 'democrats', 5627: 'recorder', 5628: 'retain', 5629: 'je', 5630: 'swimming', 5631: 'idioms', 5632: 'supports', 5633: 'bathtub', 5634: 'compels', 5635: 'bad-mouth', 5636: 'eggshell', 5637: 'gibson', 5638: 'spoon', 5639: 'subscriptions', 5640: 'risqué', 5641: 'though:', 5642: 'crowds', 5643: 'suru', 5644: 'desperately', 5645: 'propose', 5646: 'socratic', 5647: 'sideshow_mel:', 5648: 'dea-d-d-dead', 5649: 'ambrose', 5650: 'managed', 5651: 'harmony', 5652: 'sympathizer', 5653: 'office', 5654: 'balloon', 5655: 'cuz', 5656: 'runners', 5657: 'supermodel', 5658: \"school's\", 5659: 'moolah-stealing', 5660: 'scornful', 5661: 'ab', 5662: 'enter', 5663: 'feat', 5664: 'southern', 5665: 'bowie', 5666: 'handed', 5667: 'ruled', 5668: 'poplar', 5669: 'supplying', 5670: 'tenuous', 5671: 'th-th-th-the', 5672: \"stealin'\", 5673: 'focused', 5674: 'beer-dorf', 5675: 'mither', 5676: 'rafter', 5677: 'be-stainèd', 5678: 'jer', 5679: 'what-for', 5680: 'negative', 5681: 'mac-who', 5682: 'ignorance', 5683: 'tearfully', 5684: 'alva', 5685: 'wacky', 5686: 'brine', 5687: 'twenty-nine', 5688: 'shareholder', 5689: 'chicken', 5690: 'shag', 5691: '3rd_voice:', 5692: 'sooo', 5693: 'stooges', 5694: 'skins', 5695: 'hat', 5696: 'add', 5697: 'states', 5698: 'deals', 5699: 'upsetting', 5700: 'contractors', 5701: 'sells', 5702: \"stallin'\", 5703: '/mr', 5704: 'twenty-four', 5705: 'trucks', 5706: 'wage', 5707: '7g', 5708: 'travel', 5709: 'alternative', 5710: 'stretches', 5711: 'quebec', 5712: 'heather', 5713: 'spits', 5714: 'poison', 5715: 'stab', 5716: 'hike', 5717: 'maitre', 5718: 'annual', 5719: 'brainheaded', 5720: 'dealie', 5721: 'bedridden', 5722: 'wildest', 5723: 'gloop', 5724: 'madonna', 5725: 'sealed', 5726: 'ducked', 5727: 'louse', 5728: 'rented', 5729: 'chumbawamba', 5730: 'insults', 5731: 'schizophrenia', 5732: 'toe', 5733: 'corkscrews', 5734: 'exact', 5735: 'barney-type', 5736: 'rector', 5737: 'intakes', 5738: 'thirty-five', 5739: 'today/', 5740: 'excuses', 5741: 'meaningfully', 5742: 'ultimate', 5743: 'fella', 5744: 'sudoku', 5745: \"foolin'\", 5746: 'slaps', 5747: 'walked', 5748: 'touch', 5749: 'son-of-a', 5750: 'blokes', 5751: 'email', 5752: 'sagely', 5753: 'sleeping', 5754: 'tasty', 5755: 'fayed', 5756: 'hunger', 5757: 'seductive', 5758: 'nursemaid', 5759: 'transmission', 5760: 'dateline', 5761: 'superdad', 5762: 'undermine', 5763: 'louisiana', 5764: 'literary', 5765: 'boggs', 5766: 'kim_basinger:', 5767: 'aiden', 5768: 'latour', 5769: 'unusually', 5770: 'stores', 5771: 'actor', 5772: 'sink', 5773: 'permanent', 5774: 'forced', 5775: 'rom', 5776: 'almond', 5777: 'lay', 5778: 'sternly', 5779: 'test-', 5780: 'cleveland', 5781: 'si-lent', 5782: 'forbids', 5783: 'ahem', 5784: 'breathtaking', 5785: 'flexible', 5786: 'moe-ron', 5787: '50-60', 5788: 'sun', 5789: 'crow', 5790: '$42', 5791: 'ate', 5792: 'country', 5793: 'patrons', 5794: 'specials', 5795: 'ticks', 5796: 'press', 5797: 'dreamily', 5798: 'aged', 5799: 'grammy', 5800: 'moonnnnnnnn', 5801: 'lincoln', 5802: 'applesauce', 5803: 'bumpy-like', 5804: 'rueful', 5805: 'pharmaceutical', 5806: \"coaster's\", 5807: 'dae', 5808: 'soul-crushing', 5809: 'officer', 5810: 'incarcerated', 5811: 'barbara', 5812: 'space-time', 5813: 'optimistic', 5814: 'clammy', 5815: 'stagey', 5816: 'eu', 5817: 'cobra', 5818: 'life-partner', 5819: 'hare-brained', 5820: 'steinbrenner', 5821: 'friend:', 5822: 'heliotrope', 5823: \"can'tcha\", 5824: 'twentieth', 5825: 'betrayed', 5826: 'counterfeit', 5827: 'sky', 5828: 'abolish', 5829: 'represents', 5830: 'brother-in-law', 5831: 'scanning', 5832: 'event', 5833: 'frankie', 5834: 'lenses', 5835: 'fatso', 5836: 'unavailable', 5837: \"'roids\", 5838: 'sheriff', 5839: 'e', 5840: 'hyper-credits', 5841: 'delts', 5842: 'freed', 5843: 'encore', 5844: 'powered', 5845: 'fantasy', 5846: 'drapes', 5847: 'confession', 5848: 'railroads', 5849: 'generally', 5850: 'dimly', 5851: 'michelin', 5852: 'gheet', 5853: 'presidential', 5854: 'playhouse', 5855: 'updated', 5856: 'van', 5857: 'caveman', 5858: 'fwooof', 5859: 'poisoning', 5860: 'shoe', 5861: 'asks', 5862: 'não', 5863: 'sunglasses', 5864: 'impending', 5865: 'canyoner-oooo', 5866: 'average-looking', 5867: 'oddest', 5868: 'fletcherism', 5869: 'eyed', 5870: 'pepper', 5871: 'wealthy', 5872: 'peter_buck:', 5873: 'macaulay', 5874: 'agents', 5875: 'e-z', 5876: 'darn', 5877: 'players', 5878: 'aidens', 5879: 'protecting', 5880: 'fondest', 5881: 'abercrombie', 5882: 'phony', 5883: 'movement', 5884: 'full-bodied', 5885: 'appalled', 5886: 'americans', 5887: 'show-off', 5888: 'universe', 5889: 'ivory', 5890: 'direction', 5891: 'sloppy', 5892: \"drexel's\", 5893: 'cowboy', 5894: 'clips', 5895: 'ireland', 5896: 'idiots', 5897: 'gutenberg', 5898: 'alter', 5899: 'shesh', 5900: 'jumping', 5901: 'disturbance', 5902: 'absentminded', 5903: 'moon', 5904: 'bragging', 5905: 'releasing', 5906: 'chastity', 5907: 'patron_#1:', 5908: 'specializes', 5909: 'creates', 5910: 'captain:', 5911: 'getup', 5912: 'stu', 5913: 'toms', 5914: 'allow', 5915: 'doom', 5916: \"startin'\", 5917: 'small_boy:', 5918: 'presumir', 5919: \"wait'll\", 5920: 'dignity', 5921: 'aziz', 5922: 'certified', 5923: 'considers', 5924: 'timbuk-tee', 5925: 'roller', 5926: 'howya', 5927: 'polygon', 5928: 'crapmore', 5929: 'slugger', 5930: 'depending', 5931: 'solved', 5932: 'measure', 5933: 'juan', 5934: 'cheaped', 5935: 'specialists', 5936: 'archaeologist', 5937: 'displeased', 5938: 'yammering', 5939: 'ashtray', 5940: 'riveting', 5941: 'alec_baldwin:', 5942: 'carlotta:', 5943: 'politicians', 5944: 'dirty', 5945: 'nahasapeemapetilon', 5946: 'blissful', 5947: 'fights', 5948: 'hispanic_crowd:', 5949: 'tidy', 5950: 'beeps', 5951: 'created', 5952: 'thousands', 5953: 'stumble', 5954: 'extinguishers', 5955: 'rusty', 5956: 'tourist', 5957: 'score', 5958: \"yieldin'\", 5959: 'inherent', 5960: 'we-we-we', 5961: 'actress', 5962: 'veux', 5963: 'colossal', 5964: 'you-need-man', 5965: 'expose', 5966: 'guinea', 5967: \"choosin'\", 5968: 'oopsie', 5969: \"rasputin's\", 5970: 'full-time', 5971: 'scatter', 5972: 'chinese_restaurateur:', 5973: 'strain', 5974: 'beards', 5975: 'skinny', 5976: 'horrors', 5977: 'lecture', 5978: \"handwriting's\", 5979: 'noggin', 5980: 'drains', 5981: 'onassis', 5982: 'tapping', 5983: 'option', 5984: 'pusillanimous', 5985: 'kemi', 5986: 'sue', 5987: 'replaced', 5988: 'said:', 5989: 'celebration', 5990: 'ninety-nine', 5991: 'binoculars', 5992: 'malibu', 5993: 'icy', 5994: \"hell's\", 5995: 'mistakes', 5996: 'feminist', 5997: 'lee', 5998: 'elite', 5999: 'earrings', 6000: 'buds', 6001: 'alibi', 6002: 'sass', 6003: 'super-nice', 6004: 'raking', 6005: 'viva', 6006: 'pridesters:', 6007: 'filed', 6008: 'characteristic', 6009: 'knuckle-dragging', 6010: 'ripped', 6011: \"changin'\", 6012: '21', 6013: 'wittgenstein', 6014: 'marquee', 6015: 'depressing', 6016: 'acquitted', 6017: 'champion', 6018: \"playin'\", 6019: 'flat', 6020: 'pledge', 6021: 'pink', 6022: 'guessing', 6023: 'ga', 6024: 'transylvania', 6025: 'sobo', 6026: 'shoulda', 6027: 'calendars', 6028: 'depression', 6029: 'watashi', 6030: 'glee', 6031: 'scram', 6032: 'without:', 6033: 'donut', 6034: 'bumbling', 6035: 'carolina', 6036: 'coyly', 6037: 'whoo', 6038: 'k-zug', 6039: 'microbrew', 6040: 'doy', 6041: 'mags', 6042: 'cartoons', 6043: 'eighty-three', 6044: 'easily', 6045: \"mcstagger's\", 6046: 'taught', 6047: 'reciting', 6048: \"swishifyin'\", 6049: 'verticality', 6050: 'stink', 6051: 'conditioning', 6052: 'manipulation', 6053: 'hyahh', 6054: 'afloat', 6055: 'bon', 6056: 'renew', 6057: 'edge', 6058: 'furiously', 6059: 'smiles', 6060: 'bobo', 6061: 'reluctantly', 6062: 'bagged', 6063: 'accusing', 6064: 'refreshment', 6065: 'captain', 6066: 'parasol', 6067: 'prettiest', 6068: 'shout', 6069: 'journey', 6070: 'horror', 6071: 'dammit', 6072: 'shred', 6073: 'glyco-load', 6074: 'ape-like', 6075: 'ralph', 6076: \"round's\", 6077: 'sucking', 6078: 'robin', 6079: 'shreda', 6080: 'average', 6081: \"messin'\", 6082: 'edna-lover-one-seventy-two', 6083: 'young_barfly:', 6084: 'rome', 6085: 'perfume', 6086: 'typed', 6087: 'xx', 6088: 'leaving', 6089: 'exhale', 6090: \"wouldn't-a\", 6091: 'inning', 6092: 'presents', 6093: 'nail', 6094: 'ninety-seven', 6095: 'casting', 6096: 'ease', 6097: 'patron_#2:', 6098: 'dollface', 6099: 'hideous', 6100: 'spit-backs', 6101: 'orifice', 6102: 'kay', 6103: 'emotion', 6104: 'anti-intellectualism', 6105: 'charlie:', 6106: 'arabs', 6107: 'awfully', 6108: 'wizard', 6109: 'sixty-five', 6110: 'teacup', 6111: 'oughtta', 6112: 'mobile', 6113: 'advertising', 6114: 'sideshow_bob:', 6115: 'shifty', 6116: 'mostrar', 6117: 'rockers', 6118: 'cockroaches', 6119: 'speed', 6120: 'guard', 6121: \"liftin'\", 6122: 'telemarketing', 6123: 'microphone', 6124: 'non-american', 6125: 'dads', 6126: 'astrid', 6127: 'sentimonies', 6128: 'plants', 6129: 'environment', 6130: 'gargoyles', 6131: 'eternity', 6132: 'paper', 6133: 'sprawl', 6134: 'evils', 6135: 'steaming', 6136: 'cases', 6137: \"that'd\", 6138: 'supreme', 6139: 'taste', 6140: 'clams', 6141: 'unforgettable', 6142: 'astronauts', 6143: 'thirsty', 6144: 'when-i-get-a-hold-of-you', 6145: 'interrupting', 6146: 'baloney', 6147: 'stops', 6148: 'macho', 6149: 'dipping', 6150: 'parents', 6151: 'avenue', 6152: 'specific', 6153: 'depressed', 6154: 'shorter', 6155: 'sketch', 6156: 'nelson_muntz:', 6157: 'cousin', 6158: 'puzzle', 6159: 'homer_doubles:', 6160: 'curiosity', 6161: 'bachelorhood', 6162: \"people's\", 6163: 'perch', 6164: 'concentrate', 6165: 'manuel', 6166: 'cecil_terwilliger:', 6167: 'wrapped', 6168: 'employment', 6169: 'sneeze', 6170: 'squad', 6171: 'string', 6172: 'xanders', 6173: 'disappointment', 6174: 'snail', 6175: 'horribilis', 6176: 'indeed', 6177: 'november', 6178: 'muertos', 6179: 'trainers', 6180: 'flailing', 6181: 'chipper', 6182: 'spreads', 6183: 'faceful', 6184: 'remain', 6185: 'dint', 6186: 'breathless', 6187: 'produce', 6188: 'savvy', 6189: 'slipped', 6190: 'straighten', 6191: 'disco_stu:', 6192: 'chip', 6193: 'gesture', 6194: 'jigger', 6195: 'slop', 6196: 'whispers', 6197: 'buddha', 6198: 'psst', 6199: 'wednesday', 6200: 'sequel', 6201: 'junkyard', 6202: 'payback', 6203: 'dinks', 6204: 'fighter', 6205: \"s'cuse\", 6206: 'elizabeth', 6207: 'marched', 6208: 'notably', 6209: 'fringe', 6210: 'killing', 6211: 'tying', 6212: 'name:', 6213: 'crotch', 6214: 'sickened', 6215: 'revenge', 6216: 'churchy', 6217: 'grammar', 6218: 'overflowing', 6219: 'pages', 6220: 'derisive', 6221: 'thnord', 6222: 'bras', 6223: 'adjust', 6224: 'swallowed', 6225: 'unable', 6226: 'muslim', 6227: 'courteous', 6228: 'nash', 6229: 'overturned', 6230: 'bell', 6231: 'blaze', 6232: 'sweden', 6233: 'anderson', 6234: 'booze-bags', 6235: \"tv's\", 6236: 'traitor', 6237: 'bills', 6238: \"now's\", 6239: 'read:', 6240: 'elaborate', 6241: 'gil_gunderson:', 6242: 'arrange', 6243: 'majesty', 6244: 'jasper_beardly:', 6245: 'lewis', 6246: 'chapstick', 6247: 'indigenous', 6248: 'cheaper', 6249: 'augustus', 6250: 'mmmmm', 6251: 'period', 6252: 'insecure', 6253: 'contented', 6254: 'crimes', 6255: 'vin', 6256: 'unusual', 6257: 'düffenbraus', 6258: 'funniest', 6259: 'demo', 6260: 'derek', 6261: 'life-threatening', 6262: \"costume's\", 6263: 'spectacular', 6264: 'fills', 6265: 'ruby-studded', 6266: 'cranberry', 6267: 'toy', 6268: 'roy', 6269: 'stage', 6270: 'mabel', 6271: 'yellow-belly', 6272: 'hook', 6273: 'faces', 6274: 'clap', 6275: 'starlets', 6276: 'gol-dangit', 6277: 'super-tough', 6278: 'killjoy', 6279: 'wears', 6280: 'witches', 6281: \"cleanin'\", 6282: 'thing:', 6283: 'painted', 6284: 'halloween', 6285: 'beefs', 6286: 'triangle', 6287: \"fine-lookin'\", 6288: 'looooooooooooooooooong', 6289: 'waist', 6290: 'youuu', 6291: 'hippies', 6292: 'virile', 6293: 'flynt', 6294: 'developed', 6295: 'ferry', 6296: 'puffy', 6297: 'twelveball', 6298: 'lease', 6299: 'cracked', 6300: 'declared', 6301: 'misconstrue', 6302: 'slurred', 6303: 'gossipy', 6304: \"snappin'\", 6305: 'stupidest', 6306: 'silence', 6307: 'gluten', 6308: 'fell', 6309: 'portfolium', 6310: 'wobbly', 6311: 'arimasen', 6312: 'stein-stengel-', 6313: 'passes', 6314: 'dealt', 6315: 'moonshine', 6316: 'roach', 6317: 'brings', 6318: 'rookie', 6319: 'planted', 6320: 'hammer', 6321: 'considering:', 6322: 'emergency', 6323: 'protestantism', 6324: \"'cept\", 6325: 'cheerier', 6326: \"cupid's\", 6327: 'anyhoo', 6328: 'introduce', 6329: 'coast', 6330: 'swatch', 6331: 'life:', 6332: 'surgeonnn', 6333: 'comforting', 6334: 'reptile', 6335: 'referee', 6336: 'decadent', 6337: 'meteor', 6338: 'annoying', 6339: 'amiable', 6340: 'part-time', 6341: 'nbc', 6342: 'thirty-thousand', 6343: 'accidents', 6344: 'gimmicks', 6345: 'insurance', 6346: 'scrubbing', 6347: 'happiness', 6348: 'gut', 6349: 'nagurski', 6350: 'outlive', 6351: 'seamstress', 6352: 'hillbillies', 6353: 'tiger', 6354: \"smackin'\", 6355: 'errrrrrr', 6356: 'disappear', 6357: 'con', 6358: 'troubles', 6359: 'andrew', 6360: 'newspaper', 6361: 'intimacy', 6362: 'locklear', 6363: \"'er\", 6364: 'chapel', 6365: 'lawyer', 6366: 'trenchant', 6367: 'stars', 6368: 'landlord', 6369: 'grandkids', 6370: 'dealer', 6371: 'stengel', 6372: 'colonel:', 6373: 'flown', 6374: 'nemo', 6375: 'nailed', 6376: 'paramedic:', 6377: 'prejudice', 6378: 'terrace', 6379: \"queen's\", 6380: 'drollery', 6381: 'spitting', 6382: 'coy', 6383: 'app', 6384: 'random', 6385: 'toxins', 6386: 'grateful', 6387: 'reconsidering', 6388: 'orphan', 6389: 'justify', 6390: 'increased', 6391: 'broken:', 6392: 'julep', 6393: 'apron', 6394: 'simplest', 6395: 'saucy', 6396: 'prints', 6397: 'wowww', 6398: 'full-blooded', 6399: 'skunk', 6400: 'ali', 6401: 'worthless', 6402: 'donation', 6403: 'cursed', 6404: 'socialize', 6405: 'spelling', 6406: 'equal', 6407: 'hmmmm', 6408: 'christian', 6409: 'quitcher', 6410: 'affects', 6411: 'onion', 6412: 'kearney_zzyzwicz:', 6413: 'snitch', 6414: 'helpless', 6415: 'firing', 6416: 'packets', 6417: \"life's\", 6418: 'warmth', 6419: 'splattered', 6420: 'example', 6421: 'quick-like', 6422: 'vanities', 6423: 'answered', 6424: 'shriners', 6425: 'ninth', 6426: \"fishin'\", 6427: 'raining', 6428: 'ends', 6429: 'booth', 6430: 'head-gunk', 6431: 'hooray', 6432: 'municipal', 6433: 'luv', 6434: 'meanwhile', 6435: 'bulldozing', 6436: 'cuff', 6437: 'face-macer', 6438: 'fist', 6439: 'two-thirds-empty', 6440: 'impress', 6441: 'inserted', 6442: 'reminded', 6443: 'forty-five', 6444: 'coherent', 6445: 'possessions', 6446: 'destroyed', 6447: 'vulgar', 6448: 'entertainer', 6449: 'lizard', 6450: 'dig', 6451: 'mocking', 6452: 'beady', 6453: 'apulina', 6454: 'leprechaun', 6455: 'material', 6456: '3', 6457: 'ons', 6458: 'circus', 6459: 'combination', 6460: 'droning', 6461: 'smokes', 6462: 'application', 6463: \"linin'\", 6464: 'sitcom', 6465: 'estranged', 6466: 'hemorrhage-amundo', 6467: 'assassination', 6468: 'undies', 6469: 'nibble', 6470: 'blooded', 6471: \"toot's\", 6472: 'quero', 6473: 'groin', 6474: 'evasive', 6475: 'senators:', 6476: 'discriminate', 6477: 'gags', 6478: 'stays', 6479: 'salvation', 6480: 'radiation', 6481: 'snout', 6482: 'unjustly', 6483: 'and-and', 6484: 'philosophic', 6485: 'television', 6486: 'barter', 6487: 'pushes', 6488: 'supply', 6489: 'bury', 6490: 'sticking-place', 6491: 'rods', 6492: 'para', 6493: 'mccarthy', 6494: 'crestfallen', 6495: 'triumphantly', 6496: 'mirthless', 6497: 'multi-national', 6498: 'tight', 6499: 'blowfish', 6500: 'midge:', 6501: 'mid-seventies', 6502: 'drawn', 6503: 'strongly', 6504: 'understood', 6505: 'wishful', 6506: 'rancid', 6507: 'tall', 6508: \"y'see\", 6509: \"tonight's\", 6510: 'modest', 6511: 'pen', 6512: 'understood:', 6513: 'angrily', 6514: \"idea's\", 6515: \"family's\", 6516: 'motto', 6517: 'confidential', 6518: 'pair', 6519: 'huhza', 6520: 'steely-eyed', 6521: 'commanding', 6522: \"'s\", 6523: 'ne', 6524: 'life-sized', 6525: 'luxury', 6526: 'lindsay', 6527: 'girl-bart', 6528: 'olive', 6529: 'predictable', 6530: 'premiering', 6531: 'incriminating', 6532: 'customers-slash-only', 6533: 'ho-la', 6534: 'rugged', 6535: 'watched', 6536: 'audience', 6537: 'ballot', 6538: 'hushed', 6539: 'carefully', 6540: 'resigned', 6541: 'spilled', 6542: 'fustigation', 6543: 'lemonade', 6544: 'closet', 6545: 'mellow', 6546: 'wrestle', 6547: 'stonewall', 6548: 'bluff', 6549: 'hairs', 6550: 'haircuts', 6551: 'male_singers:', 6552: \"fightin'\", 6553: 'accounta', 6554: 'blinded', 6555: 'wazoo', 6556: 'bolting', 6557: \"squeezin'\", 6558: 'donut-shaped', 6559: 'ripper', 6560: 'danny', 6561: 'larry', 6562: 'all-all-all', 6563: 'blur', 6564: \"neat's-foot\", 6565: 'teriyaki', 6566: 'melodramatic', 6567: 'washouts', 6568: 'greatly', 6569: 'chateau', 6570: 'goal', 6571: 'something:', 6572: 'whispered', 6573: 'occasion', 6574: 'picnic', 6575: 'society', 6576: 'rasputin', 6577: 'sales', 6578: 'alarm', 6579: 'solves', 6580: \"spaghetti-o's\", 6581: 'rascals', 6582: \"doctor's\", 6583: 'mediterranean', 6584: 'bum:', 6585: 'training', 6586: 'whaaa', 6587: \"ma's\", 6588: 'dumptruck', 6589: 'eighty-five', 6590: 'tasimeter', 6591: 'slab', 6592: 'santeria', 6593: 'cattle', 6594: 'pall', 6595: 'libido', 6596: 'faint', 6597: 'distinct', 6598: 'stinger', 6599: 'pets', 6600: 'woulda', 6601: 'thorn', 6602: 'saget', 6603: 'compete', 6604: 'sees/', 6605: 'inclination', 6606: 'desire', 6607: 'brockelstein', 6608: \"this'll\", 6609: 'wondered', 6610: 'gimmick', 6611: 'practice', 6612: 'fires', 6613: 'whining', 6614: 'reading:', 6615: 'friday', 6616: 'broken', 6617: 'muffled', 6618: 'cheated', 6619: 'additional-seating-capacity', 6620: 'audience:', 6621: 'cocking', 6622: 'emphasis', 6623: 'capuchin', 6624: \"raggin'\", 6625: \"g'night\", 6626: \"enjoyin'\", 6627: 'chunky', 6628: 'enjoys', 6629: \"poundin'\", 6630: 'mt', 6631: 'stripe', 6632: 'mid-conversation', 6633: 'she-pu', 6634: 'this:', 6635: 'designer', 6636: 'traitors', 6637: 'farthest', 6638: 'darjeeling', 6639: 'omit', 6640: 'unattended', 6641: 'dreary', 6642: 'tactful', 6643: 'radiator', 6644: 'crayola', 6645: 'stewart', 6646: 'jaegermeister', 6647: 'overhearing', 6648: 'shoulders', 6649: 'improved', 6650: 'rat-like', 6651: 'yells', 6652: \"i'unno\", 6653: 'clown-like', 6654: 'five-fifteen', 6655: 'hostile', 6656: 'cure', 6657: 'panicked', 6658: 'blackjack', 6659: 'renders', 6660: 'scrutinizing', 6661: 'online', 6662: 'chunk', 6663: 'suspended', 6664: 'kahlua', 6665: 'poin-dexterous', 6666: 'exclusive:', 6667: 'infestation', 6668: 'guiltily', 6669: 'booger', 6670: 'experience', 6671: 'paints', 6672: 'fail', 6673: 'weep', 6674: 'fontaine', 6675: 'payday', 6676: 'righ', 6677: 'nascar', 6678: 'art', 6679: 'in-ground', 6680: 'protesters', 6681: 'pure', 6682: '530', 6683: 'proves', 6684: 'hiding', 6685: 'padres', 6686: \"she'd\", 6687: 'moesy', 6688: 'winded', 6689: 'moe-clone', 6690: 'premise', 6691: 'valley', 6692: 'spacey', 6693: 'most:', 6694: 'tickets', 6695: 'coughs', 6696: 'wrap', 6697: 'edelbrock', 6698: 'prompting', 6699: 'cobbling', 6700: 'gulliver_dark:', 6701: 'confidentially', 6702: 'contemplates', 6703: 'gruesome', 6704: \"ball's\", 6705: 'dna', 6706: 'nonchalant', 6707: 'practically', 6708: 'evergreen', 6709: 'reaches', 6710: 'highest', 6711: 'attend', 6712: 'adrift', 6713: 'unsafe', 6714: 'savings', 6715: 'coma', 6716: 'artist', 6717: 'fumigated', 6718: 'bridges', 6719: \"o'\", 6720: 'tabs', 6721: 'maher', 6722: 'supervising', 6723: 'options', 6724: 'marjorie', 6725: 'worldly', 6726: 'law-abiding', 6727: 'pickles', 6728: 'ointment', 6729: 'applicant', 6730: 'morning-after', 6731: 'ref', 6732: 'mini-dumpsters', 6733: 'car:', 6734: 'i/you', 6735: 'monkeyshines', 6736: 'repay', 6737: 'pyramid', 6738: \"son's\", 6739: 'pigtown', 6740: 'misfire', 6741: 'temp', 6742: 'polishing', 6743: 'humanity', 6744: 'shuts', 6745: 'ironic', 6746: 'cutest', 6747: 'startup', 6748: 'author', 6749: 'and:', 6750: 'arts', 6751: 'taxes', 6752: 'inserts', 6753: 'majority', 6754: \"should've\", 6755: 'load', 6756: 'shyly', 6757: 'charges', 6758: 'tablecloth', 6759: 'harvesting', 6760: 'heatherton', 6761: 'sanitary', 6762: \"cashin'\", 6763: 'jay:', 6764: 'play/', 6765: 'ze-ro', 6766: 'strictly', 6767: \"betsy'll\", 6768: 'common', 6769: 'musta', 6770: 'begin', 6771: 'proof', 6772: 'daaaaad', 6773: 'safety', 6774: 'smiled', 6775: 'expensive', 6776: 'rebuilt', 6777: 'bill_james:', 6778: 'hate-hugs'}\n",
      "{'farewell': 2896, 'theory': 2897, 'hateful': 2899, 'criminal': 2900, 'their': 220, 'awww': 1900, 'thousand-year': 2901, 'workers': 1440, 'countryman': 2902, 'sensible': 2903, \"ridin'\": 1441, 'statistician': 2904, 'folk': 1901, 'sobs': 255, 'shhh': 2905, 'file': 2906, 'soaked': 2907, 'switch': 1590, 'carlson': 1902, 'buddy': 664, 'space-time': 5812, 'charity': 1903, 'splash': 2908, 'hope': 316, 'andy': 1591, 'pack': 2909, 'swill': 2401, 'sarcastic': 1170, 'skinheads': 2910, 'sperm': 2911, 'man_at_bar:': 2912, 'approval': 2913, '1979': 2914, 'per': 1442, 'eyes': 442, 'non-american': 6124, 'wh': 2915, 'with': 35, 'blew': 1905, 'happens': 2918, 'steak': 1906, 'tough': 423, 'getting': 360, 'business': 349, 'souped': 2919, 'football_announcer:': 942, 'offa': 2920, '14': 2921, 'thank': 307, 'free': 391, 'coward': 1907, 'panicky': 1443, 'hurting': 2923, 'hugh': 2924, \"summer's\": 2925, 'only': 152, 'apu_nahasapeemapetilon:': 241, 'seen': 299, 'barflies:': 470, 'bucks': 379, 'spoken': 1444, 'oh-ho': 2926, 'extra': 1445, 'remodel': 2927, 'abcs': 2928, \"rentin'\": 2929, 'street': 729, 'babar': 2930, 'marshmallow': 2931, 'geyser': 2932, 'my-y-y-y-y-y': 2933, 'hosting': 2934, 'past': 1446, 'ow': 289, 'fork': 1791, 'force': 1908, 'compliment': 1447, 'philip': 2935, 'swamp': 2936, 'coffee': 1448, 'madison': 2937, 'bragging': 5904, 'aid': 2938, 'pageant': 1449, 'waltz': 2580, 'playoff': 2940, 'mexicans': 2941, 'wants': 350, 'further': 2942, 'nose': 1171, 'achem': 1910, 'did': 113, 'queer': 1911, 'bugs': 2943, 'competing': 2944, 'adult': 2945, \"bar's\": 1912, 'agnes_skinner:': 665, 'ma': 604, 'raging': 2947, 'amazed': 730, 'ping-pong': 2948, 'fuzzlepitch': 2949, 'seven': 477, 'quarry': 2950, 'warily': 1913, 'faded': 2951, 'bears': 1914, 'house': 317, 'weird': 731, 'grants': 2953, \"'morning\": 2954, 'dizer': 2955, 'guide': 1915, 'planned': 3282, 'rev': 666, 'fire': 471, 'chuckling': 2957, 'chips': 2958, 'knuckles': 2959, 'barney-guarding': 2960, 'noise': 198, 'lowers': 841, 'fans': 1450, 'read': 507, 'being': 398, 'nectar': 2962, 'disguise': 2963, 'duty': 1916, 'awesome': 2222, 'lose': 961, 'nation': 1451, 'square': 2001, 'tips': 1452, 'grand': 1135, 'wire': 732, 'jam': 2967, 'porn': 1917, \"tv'll\": 3361, 'before': 199, 'vacuum': 1918, 'eating': 842, 'mmm-hmm': 2968, 'chow': 2969, 'kinda': 472, \"sat's\": 2970, 'scotch': 1509, 'lie': 1286, 'underbridge': 1920, 'stamps': 2971, 'absolut': 2972, 'a-b-': 2973, \"we've\": 370, 'murdoch': 2974, 'tabooger': 2828, 'remorseful': 2975, 'greystash': 1453, 'they': 79, 'buttons': 1172, 'blimp': 2976, 'card': 667, 'picture': 668, 'starts': 1173, 'weeks': 1454, 'small': 478, 'heart-broken': 2978, 'murderously': 2980, 'walks': 1455, 'pointless': 1922, 'amount': 2035, \"that's\": 58, 'fustigate': 2982, 'susie-q': 2983, 'intoxicated': 2984, 'elder': 1831, 'dingy': 2987, 'thrilled': 2988, \"blowin'\": 2989, 'love': 122, 'gary_chalmers:': 1456, 'bought': 1561, 'if': 71, 'ronstadt': 2991, 'four-drink': 2992, 'legally': 2994, 'burg': 2995, \"shan't\": 1923, 'long': 318, 'o': 753, \"o'\": 6719, 'eco-fraud': 2997, 'unkempt': 2998, 'incredulous': 1457, 'lookalike': 3000, 'spine': 5487, 'germans': 3002, 'looks': 233, 'hoo': 443, 'princesses': 1924, 'staying': 1458, 'tick': 1925, 'totalitarians': 3003, 'mine': 962, 'eighty-one': 1926, 'allowed': 2067, 'har': 1459, 'chief_wiggum:': 159, 'wars': 3005, 'careful': 1540, 'clapping': 3008, 'tree': 963, 'little': 87, 'selma_bouvier:': 734, 'grade': 1927, 'muttering': 2284, 'manipulation': 6052, 'pigs': 1928, 'innocence': 3648, 'miss_lois_pennycandy:': 3011, 'corpses': 1460, 'grunt': 1461, 'cruiser': 3012, 'soap': 1929, 'chateau': 6569, 'conspiracy': 3013, 'principles': 3014, 'heave-ho': 3673, 'shot': 669, 'wounds': 3016, \"readin'\": 1930, 'charter': 3017, 'fleabag': 3018, 'huh': 163, 'lotta': 1174, 'quimbys:': 3019, 'dry': 735, 'warren': 3020, 'brawled': 3021, 'saturday': 1462, 'eaten': 3022, 'everywhere': 3023, 'unfortunately': 1931, \"barney's\": 1463, 'sissy': 1932, '/': 69, 'ha': 736, 'generously': 3024, 'gifts': 1933, 'reality': 3025, 'speaking': 964, 'handling': 3026, \"'kay-zugg'\": 3027, 'eliminate': 5616, 'wearing': 1464, 'fever': 1465, 'learn': 550, 'rub-a-dub': 3028, 'pile': 5492, 'homer': 27, 'chin': 3030, 'swell': 3032, 'traitor': 6236, 'pee': 3033, 'chase': 1934, 'bronco': 3034, 'distance': 3035, 'badly': 3036, 'heard': 444, \"heat's\": 3037, 'ratted': 3038, 'premiering': 6530, 'imagine': 1466, 'mouth': 424, 'all': 37, 'charming': 3040, 'clear': 965, 'harv': 1467, 'but': 40, 'proposing': 1935, 'fired': 3041, 'soup': 1936, 'pushing': 3042, 'build': 3043, 'alive': 621, 'searching': 1468, 'banned': 3045, 'reynolds': 2149, 'usual': 3047, 'answers': 1937, 'worry': 425, 'reed': 3048, 'democracy': 3049, 'infor': 3050, 'vulnerable': 2154, 'clandestine': 3052, \"'pu\": 3053, 'iddilies': 3054, 'monday': 5497, 'suspenders': 3056, 'fifth': 3057, 'ummmmmmmmm': 3058, 'unforgettable': 6141, 'international': 1469, 'benjamin': 3060, 'market': 1218, 'close': 551, 'soot': 3062, 'distributor': 1938, 'nigerian': 1939, 'ale': 1940, 'interested': 1941, 'prefer': 1942, 'listen': 221, 'however': 3064, 'begging': 3065, 'feelings': 1617, 'temples': 3066, 'village': 1943, 'can': 64, 'classy': 3067, 'releases': 3068, 'dejected_barfly:': 3069, 'should': 185, 'spent': 1944, 'getaway': 3070, 'restless': 3071, 'weirded-out': 1945, 'exchanged': 3072, 'springfield': 247, 'insulted': 1946, 'cologne': 3073, 'knocked': 1470, 'thirty': 843, \"car's\": 3074, 'breakdown': 3075, 'kegs': 3076, 'aisle': 3078, 'transfer': 3079, 'anthony_kiedis:': 3080, 'gasp': 473, 'mirror': 3081, 'nelson_muntz:': 6156, 'sixty': 3082, 'down': 121, 'wiggum': 552, \"g'on\": 3083, 'joined': 1948, 'beautiful': 399, \"could've\": 1471, 'blow': 1176, 'rounds': 1949, 'police': 605, 'barkeeps': 3084, 'thrust': 3085, 'recap:': 3086, 'wussy': 3087, 'button-pusher': 3088, 'kadlubowski': 3089, 'over-pronouncing': 3090, 'special': 606, 'microwave': 3091, 'whaaaa': 3092, 'luckiest': 3093, 'listening': 1951, 'you': 7, 'atlanta': 1952, 'nooo': 3095, 'hammock': 3096, 'theatrical': 3097, 'ghouls': 3098, 'night': 200, 'uh-oh': 553, 'bumped': 5502, 'pit': 1177, 'outs': 3099, 'numbers': 844, 'give': 161, 'losers': 737, 'seething': 3100, 'koholic': 1954, 'sweeter': 1955, 'mariah': 3101, 'world-class': 3102, 'ohhhh': 3104, 'cops': 1957, 'brace': 3105, 'dumb-asses': 3106, 'drop-off': 3107, 'beverage': 3108, 'santa': 2230, 'life-partner': 5818, 'happen': 513, 'managing': 2234, 'come': 94, \"tap-pullin'\": 3111, 'pleasant': 1958, 'meatpies': 3113, 'mater': 3114, 'star': 845, 'lenford': 3115, 'forty-two': 3117, 'metal': 3118, 'lots': 1472, 'whistling': 3119, 'script': 3120, 'could': 97, \"how'd\": 670, 'rag': 1178, 'mccarthy': 6493, 'swine': 3122, 'then:': 1473, 'mug': 1179, 'lucius': 1959, 'trees': 3123, 'lloyd': 2827, 'buzz': 3124, 'serve': 1474, 'item': 3125, 'cousin': 6157, 'gangrene': 3126, 'combines': 3127, '<new_line>': 1, 'backwards': 1475, 'garbage': 1181, 'hottest': 3063, 'bleak': 3129, 'swigmore': 3552, 'sexton': 3132, 'oughta': 3133, 'pass': 846, 'puzzle': 6158, 'attractive': 3134, 'separator': 3135, 'mortgage': 2055, 'get': 55, 'reminds': 1476, 'we': 57, 'cosmetics': 3137, 'inanely': 3138, 'nice': 267, 'aw': 203, \"football's\": 3139, 'elves:': 3140, 'extremely': 1961, 'may': 607, 'crunch': 3141, 'whim': 3142, 'ingested': 3143, 'benefits': 1962, 'jelly': 3144, 'advertise': 3145, 'sad': 440, 'placing': 1963, 'manboobs': 3146, 'souvenir': 3147, 'boxers': 5507, 'pretty': 319, 'minus': 3148, 'located': 3149, 'navy': 3150, 'half-back': 3151, 'jets': 2168, 'sorry': 145, 'dull': 3152, 'patriotic': 3153, 'm': 554, 'cheapskates': 3154, 'through': 309, 'pointy': 3156, 'wolverines': 3157, 'jacques:': 475, 'shard': 3158, 'sail': 3904, '6': 2316, 'ladies': 446, 'boyfriend': 1964, 'au': 3160, 'island': 1182, \"time's\": 3161, 'glove': 738, 'ceremony': 4851, 'indifference': 4599, 'drift': 3163, 'dan_gillick:': 1183, 'stretch': 3164, 'cecil_terwilliger:': 6166, 'hold': 381, \"i'd\": 164, 'north': 3165, 'healthier': 3166, 'ones': 847, 'exploiter': 3168, 'entering': 3169, 'aerosmith': 1965, 'cage': 3170, 'convenient': 3171, \"tomorrow's\": 3172, 'notices': 5515, 'hardy': 3174, 'official': 3175, 'investment': 3176, 'clean': 476, 'pernt': 3177, 'patterns': 1966, \"calf's\": 3178, 'fat-free': 3179, 'halvsies': 3180, 'dirge-like': 3181, \"lookin'\": 514, 'window': 966, 'by': 153, \"soundin'\": 3182, 'intrigued': 739, 'um': 380, 'investor': 1967, 'must': 372, \"where'd\": 1479, 'pep': 3184, 'crumble': 1968, 'squeal': 3185, 'plane': 3187, \"tootin'\": 3188, 'my': 16, 'milks': 3189, 'effervescent': 1969, 'kennedy': 3190, 'deep': 1186, 'rump': 3191, 'six-barrel': 3192, 'shipment': 3194, 'legs:': 3195, 'short': 967, 'club': 968, 'using': 740, 'enjoyed': 3196, 'nods': 671, 'thanksgiving': 1970, 'fry': 3197, \"ragin'\": 3198, 'sports': 1187, 'culkin': 3199, 'idea': 352, 'disappointed': 1031, 'brakes': 3200, 'poor': 608, 'widow': 3201, 'p': 969, 'a-a-b-b-a': 3202, 'comedies': 3203, 'drove': 3204, 'wagering': 4848, 'housing': 3206, 'sagely': 5752, 'running': 970, 'coms': 3207, 'court': 4904, 'jury': 3209, 'belts': 4879, 'ashtray': 5939, 'beans': 3210, 'alpha-crow': 3211, 'feld': 3212, 'mm-hmm': 3213, 'jukebox': 849, 'gel': 3214, 'necklace': 3215, 'associate': 3216, 'depository': 4906, 'kay': 6102, 'buddies': 3217, 'poster': 3218, 'aunt': 3219, 'miss': 672, 'black': 807, '<comma>': 2, '100': 1972, 'offended': 972, 'bank': 973, 'larry:': 555, 'beer-jerks': 3221, 'wad': 3222, 'wanna': 186, 'traditions': 3223, 'troy_mcclure:': 1973, 'fumes': 1687, 'musta': 6769, 'literary': 5764, 'mines': 3225, \"dad's\": 1188, 'thighs': 2587, 'loaded': 1189, 'koi': 1974, 'arrived': 3227, 'insightful': 2444, 'scratching': 3228, 'kidnaps': 4991, 'gee': 382, 'various': 3229, 'philosophical': 3230, 'dump': 603, \"edna's\": 3231, 'except': 850, 'artie': 974, 'pre-columbian': 3232, 'johnny': 3233, 'badmouths': 3234, 'shutting': 1975, 'fortune': 3235, 'anti-crime': 3236, \"pickin'\": 3237, 'continuing': 2588, 'no': 32, 'recall': 1976, 'satisfaction': 1977, 'shill': 4178, 'gums': 1978, 'guts': 3239, 'reserved': 3240, 'plans': 1979, 'oof': 1980, 'pulling': 1981, 'tomahto': 3241, 'haikus': 3242, 'apu': 609, 'who-o-oa': 1482, 'passed': 1982, 'center': 975, 'clothespins': 3243, 'whup': 3244, 'cap': 3245, 'frat': 3246, 'borrow': 1983, \"b-52's:\": 3247, 'mona_simpson:': 2879, 'recently': 1984, 'crowded': 3248, 'daughter': 400, 'casual': 1859, 'sassy': 5525, 'ring': 1483, 'profiling': 3250, 'twins': 1190, 'hostile': 6655, 'nos': 3252, 'catch': 976, 'cheers': 1711, 'credit': 3253, 'selection': 5151, 'flush-town': 5154, 'japanese': 741, 'slit': 3255, 'rummy': 742, 'goo': 3256, 'formico:': 1985, 'try': 383, 'faulkner': 3257, 'whee': 1191, 'sweetheart': 1986, 'plus': 743, 'exultant': 3258, 'strolled': 3259, \"you'd\": 426, 'cries': 1192, 'cuckoo': 3260, 'horses': 3261, 'ohmygod': 1485, 'fingers': 1034, 'jerry': 1987, 'car': 222, 'fill': 852, 'influence': 3262, \"what's\": 146, 'absorbent': 3264, 'childless': 3265, 'flatly': 1486, 'grimly': 2512, 'gotten': 1246, 'ineffective': 3268, 'makes': 401, 'j': 3269, 'sport': 2522, 'fad': 3271, 'counterfeit': 5826, 'cigarette': 1487, \"burnin'\": 3273, 'latin': 1988, 'disgrace': 1989, 'competitive': 3274, 'underpants': 2601, 'flanders:': 3275, 'refinanced': 5532, 'feed': 1488, 'congratulations': 3276, 'curse': 3277, 'selling': 1193, 'set': 853, 'cleaned': 977, 'damn': 744, 'hubub': 3278, 'jubilation': 3279, 'tommy': 2539, 'lady-free': 3280, 'wally': 3281, 'tv-station_announcer:': 4769, 'gabriel:': 3283, 'lenny': 172, 'eighty-seven': 1992, 'venture': 3284, \"countin'\": 1993, 'hilton': 3286, 'he': 75, 'low-life': 3287, 'louie:': 1994, 'backing': 5534, 'mahatma': 3288, 'cause': 3289, 'juke': 3290, 'yesterday': 1344, 'clothes': 1194, '8': 3292, 'sight': 3293, 'twelve-step': 3294, 'superpower': 4133, 'diets': 3296, 'gay': 1089, 'continued': 3297, 'heads': 1490, 'locklear': 6362, 'scare': 1996, 'reflected': 3299, 'snaps': 1491, 'renee': 1195, 'hearing': 3300, 'bauer': 5537, 'computer_voice_2:': 3302, 'turlet': 3303, 'serious': 673, 'buffet': 3304, 'plastic': 854, 'belch': 855, \"rustlin'\": 3305, 'smiling': 1196, 'publish': 3306, 'noose': 3307, 'shove': 1492, 'sugar-free': 3308, 'bathed': 3309, 'closed': 978, 'enemy': 1493, 'scene': 1494, 'reopen': 3310, 'harvey': 4186, 'whiny': 1197, 'squeeze': 3312, 'presses': 3313, 'hourly': 3314, 'activity': 3316, 'de-scramble': 3317, 'problems': 515, 'scully': 1997, 'swan': 3318, 'laney': 3320, 'jamaican': 1495, 'comedy': 2063, \"we'd\": 856, 'pickled': 1198, 'rubbed': 3322, 'surprising': 3323, 'sometime': 1496, 'dateline:': 3324, 'pissed': 1497, 'researching': 3325, 'entire': 1498, 'advice': 745, 'studied': 3326, 'billingsley': 5294, 'lucinda': 3328, 'stillwater:': 1199, 'satisfied': 1998, 'victim': 3329, 'remember': 300, 'english': 746, \"somebody's\": 3330, 'zone': 3331, 'perhaps': 1499, 'othello': 3332, 'following': 1500, 'upon': 1501, 'cushion': 3333, 'carey': 3334, 'lodge': 3335, 'giggle': 3336, 'sits': 1200, 'kako:': 3337, 'dispenser': 3338, 'position': 3339, 'complete': 1502, 'ivy-covered': 3340, 'chained': 3341, 'fair': 1503, 'kazoo': 3342, 'harm': 3343, 'aged_moe:': 1999, 'fit': 3344, 'carpet': 3345, 'dessert': 2429, 'hotenhoffer': 3346, 'admit': 857, \"drinkin'\": 516, 'roz:': 2000, 'crowned': 3347, 'hired': 2591, 'pockets': 1505, 'guttural': 2965, 'she': 160, 'b': 2002, 'neither': 2003, 'encores': 3351, 'already': 517, 'wham': 5244, \"aren'tcha\": 3352, 'disco_stu:': 6191, 'prayer': 2004, 'hootie': 3353, 'pages': 6219, 'cliff': 5221, 'strong': 858, 'cakes': 3355, 'boisterous': 3356, 'sees': 1201, 'pfft': 1729, 'inquiries': 3357, 'funny': 447, 'shame': 3358, \"mtv's\": 3359, 'jams': 3360, 'mckinley': 3362, 'point': 652, 'poetics': 3363, 'plan': 859, 'tanked-up': 2006, 'aer': 3364, 'walther': 3365, 'tolerable': 3366, 'businessman_#1:': 2007, \"they'll\": 1598, 'branding': 3885, 'piling': 3369, 'willing': 3370, \"robbin'\": 1506, 'b-day': 3371, 'standing': 2073, 'punch': 979, 'trashed': 3372, 'warmth': 6418, 'fault': 1507, 'occupancy': 3373, 'air': 612, 'full-blooded': 6398, 'cab_driver:': 3374, \"brockman's\": 3375, 'rome': 6084, 'fighting': 2008, 'dreamy': 3376, 'beep': 2009, 'an': 84, 'ball': 748, 'german': 1508, 'irish': 2010, 'dee-fense': 2011, 'dana_scully:': 3377, 'bar:': 5580, 'smell': 674, 'priority': 3379, \"thinkin'\": 3380, \"startin'\": 5916, 'tease': 3382, 'fbi_agent:': 3383, 'defected': 3384, 'christopher': 2012, 'ned': 749, \"spiffin'\": 3385, 'presto:': 3386, 'slick': 3387, 'chauffeur': 3388, 'costume': 2014, 'manchego': 3389, 'twerpy': 3390, 'launch': 3391, 'ball-sized': 2015, 'disdainful': 3392, 'nordiques': 3393, 'changed': 1510, 'reasonable': 2016, 'butts': 772, 'synthesize': 3394, 'cheryl': 3395, 'rugged': 6534, 'thanking': 3396, 'invented': 860, 'cats': 3397, 'sweetest': 3399, 'idealistic': 3400, 'recent': 3401, 'screams': 1511, 'worked': 1512, 'fat_in_the_hat:': 3402, 'kinderhook': 3403, 'diminish': 3404, 'exciting': 3405, 'chubby': 5308, 'remembering': 2017, 'coined': 3406, 'uniforms': 4265, 'skydiving': 3408, 'plotz': 3409, 'sexual': 1513, 'sleeps': 2019, \"don'tcha\": 3410, 'blows': 3411, 'whoever': 5076, 'pilsner-pusher': 3412, \"goin'\": 353, 'shoots': 2020, 'unfamiliar': 3413, 'musketeers': 3414, 'young_homer:': 861, 'softer': 3415, 'war': 556, 'squirrel': 3416, 'theatah': 3417, 'remembers': 3418, 'maybe': 173, 'silent': 3419, 'growing': 3420, 'lot': 302, 'opportunity': 1202, 'summer': 1514, 'declan_desmond:': 1203, 'woodchucks': 3422, 'remaining': 3423, 'illegal': 1204, 'egg': 1405, 'invulnerable': 3425, \"dolph's_dad:\": 3426, 'peeved': 3427, 'dames': 2021, 'choked': 3428, 'geysir': 3429, 'having': 1008, 'sloppy': 5891, 'ambrosia': 2022, 'brunch': 4939, 'rob': 1205, 'numeral': 3431, \"games'd\": 3721, 'sobbing': 1206, 'notably': 6208, 'our': 125, 'ziffcorp': 1515, 'parked': 5552, 'detecting': 2024, 'idiot': 1517, 'ruined': 1207, 'beached': 3432, 'future': 1846, 'yard': 1263, \"haven't\": 518, 'life': 174, 'senator': 1208, 'hmmm': 1518, 'itself': 3434, 'crushed': 3435, 'century': 2025, 'today': 362, 'ancestors': 3436, 'plucked': 3437, 'personal': 3438, 'peter': 1519, 'offense': 3439, 'voted': 3440, 'rig': 3441, 'jimmy': 3442, \"moe's_thoughts:\": 1209, 'bothered': 3443, 'feel': 248, 'illegally': 3444, 'funds': 2026, 'sucks': 3445, 'authorized': 2027, 'sniffs': 1614, 'waitress': 3447, \"ain't\": 167, 'ails': 3448, 'hilarious': 1520, 'lear': 3449, 'own': 439, 'palmerston': 1521, 'shaky': 2977, 'stinky': 3451, 'buy': 263, 'glass': 308, 'whenever': 2028, 'fluoroscope': 3452, \"world's\": 980, 'grocery': 3453, 'graveyard': 3454, 'escort': 3455, 'six': 519, 'necessary': 4946, 'snake-handler': 2029, \"singin'\": 3458, 'mom': 493, 'rough': 1523, 'locked': 3460, 'unfair': 4166, 'powerful': 1524, 'spamming': 3461, 'forgotten': 3462, 'bulletin': 3463, 'intention': 3464, 'tv_wife:': 981, 'creme': 3465, 'cash': 479, 'marched': 6207, \"she's\": 363, 'playing': 613, 'hibachi': 2916, 'disco': 2031, 'syrup': 2032, \"homer's_brain:\": 2033, 'mountain': 3469, 'blank': 3470, 'surprised': 480, 'frink-y': 3471, 'jebediah': 2034, 'expect': 1525, 'dinner': 427, 'tempting': 3472, 'reporter': 3457, 'beaumont': 3473, 'during': 982, 'shrugs': 2036, 'heavyweight': 1210, 'serum': 3474, 'ron_howard:': 3475, 'lady_duff:': 3476, 'image': 1873, 'taylor': 3477, 'yell': 2037, 'moe-clone:': 2038, 'lager': 3478, 'corner': 1526, 'count': 3479, 'himself': 751, 'nuked': 3480, 'closer': 1527, 'gore': 3481, 'anybody': 675, 'lobster-politans': 3482, 'name': 201, 'pillows': 3483, 'price': 2039, 'name:': 6212, 'brick': 3484, 'everyday': 3485, 'occupation': 3486, 'pregnancy': 5032, 'slightly': 2113, 'tatum': 1212, 'moe-near-now': 3487, 'de': 3488, 'pretends': 3489, 'griffith': 3490, 'fwooof': 5858, 'two-drink': 3491, \"city's\": 4953, 'sincere': 1213, 'apply': 3493, 'semi-imported': 3433, 'sang': 5565, 'mechanical': 1528, 'moved': 1529, 'burnside': 3495, 'perfect': 614, 'premise': 6690, 'glen:': 1166, 'spirit': 3498, 'laws': 2040, 'writer:': 3499, 'crayola': 6644, 'row': 2042, 'troy:': 1530, 'lingus': 3500, 'south': 1214, 'vengeful': 3501, \"they're\": 256, 'ass': 676, 'winston': 3695, 'literature': 1531, 'leans': 1532, 'experiments': 3502, 'european': 2043, 'up-bup-bup': 3503, 'finish': 4284, 'tv_husband:': 1013, 'sniffing': 3504, 'firmly': 2045, 'undated': 3505, 'sips': 862, 'kissingher': 3506, 'director': 2046, 'forgets': 3507, 'story': 752, 'wear': 1215, 'books': 1216, 'colorado': 3508, 'wasted': 3509, 'klown': 3510, 'shall': 863, 'dice': 3511, 'vigilante': 3512, 'field': 1217, 'okay': 86, \"o'clock\": 1265, 'overflowing': 6218, 'fall': 864, 'un-sults': 2048, 'where': 138, 'trash': 2961, 'manuel': 6165, 'wiggle': 3515, 'contact': 3517, 'toilet': 1533, 'intelligent': 3518, 'officials': 3519, 'catty': 4287, 'perfected': 3520, 'bedroom': 2050, 'accurate': 1534, 'laughing': 865, 'women': 984, 'wistful': 2990, 'used': 364, 'him': 98, 'crony': 2996, 'helpful': 3521, 'poker': 2051, 'vermont': 3522, 'prices': 3523, 'poured': 3524, 'halfway': 3525, \"'em\": 193, 'fiction': 3526, 'perón': 3527, 'information': 3528, 'flayvin': 3529, 'bail': 3530, 'corn': 3531, 'expert': 2052, 'peaked': 3532, 'singer': 3533, 'tanking': 3534, 'gunk': 3535, 'supermarket': 3061, 'natured': 3536, 'nature': 3537, 'affectations': 3538, 'occurred': 3539, 'monster': 1219, 'dogs': 3540, 'phrase': 4961, 'excavating': 3542, 'eddie:': 1220, 'shaved': 3543, 'squashing': 3544, 'grandé': 3545, \"patrick's\": 2053, \"brady's\": 3546, 'yew': 4963, 'payback': 6202, 'michael': 5574, 'sec': 1535, 'dog': 445, 'unearth': 3550, 'cream': 2054, 'invite': 1536, 'lift': 3551, 'tribute': 3130, 'aggie': 3553, 'wildfever': 3136, 'cell': 3554, 'helllp': 2056, 'shoo': 2057, 'rapidly': 3931, 'superhero': 2058, 'rolling': 2059, 'issuing': 3155, 'demand': 3558, 'driveability': 3559, 'mind-numbing': 3560, 'conspiratorial': 2060, 'burn': 481, 'quiet': 558, 'windshield': 3561, 'bride': 2061, 'muslim': 6226, 'index': 3563, 'lord': 987, 'sleep': 1537, 'owns': 3565, 'ga': 6023, 'victorious': 3566, 'bret': 2062, 'ideas': 5339, 'illustrates': 3568, 'sing': 559, 'blossoming': 3569, 'mayor_joe_quimby:': 677, 'jack': 1141, 'put': 212, \"livin'\": 1221, 'problemo': 3571, \"wearin'\": 3572, 'solid': 2282, 'exquisite': 3574, 'kind': 320, 'bidet': 3575, 'whale': 5095, 'zeal': 3577, 'bike': 1538, 'tap': 754, 'match': 1314, 'sunny': 3578, 'charged': 3579, 'cyrano': 3580, 'choose': 3581, 'vestigial': 3582, \"breakin'\": 3583, 'roof': 2247, 'harrowing': 3585, 'doing': 384, 'skills': 3586, 'frankenstein': 4986, 'blocked': 3321, 'paid': 2064, 'erasers': 3589, 'peabody': 3590, 'orders': 3591, 'grease': 3592, 'watt': 3593, \"duelin'\": 3594, 'dunno': 866, 'trolls': 2065, 'zero': 2066, 'blurbs': 3597, 'judgments': 3598, 'flush': 3599, 'glorious': 3600, 'voyager': 3601, 'squeezed': 3602, \"murphy's\": 3603, 'refreshing': 3004, 'rutabaga': 3605, 'here': 44, 'motorcycle': 2068, 'puzzled': 985, 'grin': 3606, 'lighting': 2069, 'sings': 281, 'well-wisher': 3607, 'allowance': 3608, '4x4': 4307, 'heavyset': 2070, 'delicious': 1539, 'marge_simpson:': 73, 'drapes': 5846, 'title:': 3611, 'agh': 3612, 'needy': 2071, 'passion': 2072, 'pity': 986, 'flew': 3010, 'neighbors': 3613, 'compare': 5454, 'slays': 3615, 'crazy': 560, 'handoff': 3007, 'newest': 3616, 'nuts': 482, 'smuggled': 3617, \"team's\": 2074, 'hunka': 3618, 'handwriting': 3619, 'thousand': 616, 'bridges': 6718, 'geez': 520, 'appendectomy': 3620, 'vengeance': 3621, 'regretful': 3622, 'wangs': 2075, 'virility': 3623, 'grace': 3624, 'jacks': 3625, \"nick's\": 3626, 'investigating': 3627, 'argue': 3628, 'laughter': 3629, 'initially': 3630, 'preparation': 3631, 'scornfully': 3646, 'funeral': 3632, 'temporarily': 3633, 'test-lady': 4921, 'near': 2076, 'stirrers': 3564, 'fatty': 3635, 'assent': 3636, 'tester': 2077, \"tonight's\": 6509, 'tenor:': 2078, 'nominated': 3638, 'lindsay_naegle:': 1541, 'videotaped': 3640, \"getting'\": 3641, \"plaster's\": 3643, 'fiiiiile': 3644, 'collapse': 3645, 'sound': 385, 'as': 89, 'betty:': 1223, \"c'mon\": 333, 'room': 483, 'nudge': 2079, 'floor': 1542, 'knives': 3647, 'starving': 4974, \"when's\": 3649, \"plank's\": 3650, 'clipped': 3651, 'endorsement': 3652, 'alcohol': 484, 'works': 561, 'simpson': 310, \"she'll\": 3653, 'short_man:': 3654, 'badges': 2080, 'another': 234, 'encouraging': 3655, 'mail': 2440, 'coming': 521, 'yoink': 5612, 'washed': 3656, 'enabling': 3657, 'your': 26, 'doctor': 3658, 'streetlights': 3659, 'accept': 1546, 'eyeing': 3660, 'attractive_woman_#1:': 3661, 'bunion': 3662, 'rope': 988, 'confused': 989, 'wraps': 3663, \"waitin'\": 2081, 'loafers': 4478, 'lover': 2082, 'kidding': 1224, 'moe_recording:': 3664, 'snatch': 3665, 'jasper_beardly:': 6244, 'coaster': 991, 'pocket': 1547, 'cauliflower': 3666, 'smitty:': 3667, 'bounced': 3668, 'cockroaches': 6118, 'dna': 6705, 'jacques': 678, 'sneering': 5595, 'gave': 448, 'woman': 324, 'and/or': 3669, 'teacher': 2083, 'labor': 3670, 'well': 50, 'waking-up': 3671, 'stan': 3672, 'rats': 1636, 'instrument': 3015, 'deadly': 2084, 'apartment': 2141, 'grope': 3674, 'mommy': 3675, 'liven': 3676, 'moments': 1543, 'warmly': 755, 'rubs': 3677, 'lying': 867, 'dress': 2085, 'temper': 3679, 'forty-nine': 3680, 'bridge': 2304, 'william': 3681, 'fifteen': 1226, 'flophouse': 3682, \"beer's\": 2086, 'urinal': 3683, \"o'problem\": 1227, 'clenched': 3684, 'mill': 3685, 'kidneys': 3686, 'amends': 3687, 'kyoto': 2087, 'sam:': 5329, 'ling': 3689, 'waste': 3690, 'chug-monkeys': 3691, 'cock': 3692, 'bloodiest': 3693, 'calvin': 3694, 'year': 617, 'runaway': 3696, 'bachelor': 3697, 'onto': 3698, 'gallon': 3699, \"who'll\": 1228, \"jimbo's_dad:\": 3700, 'fuss': 2088, 'tongue': 993, 'prepared': 2089, 'ew': 3701, 'whether': 2090, 'shades': 3702, 'soaking': 3703, 'means': 757, 'kindly': 2091, 'soir': 3704, 'gosh': 2092, 'granted': 2093, 'driver': 1545, 'join': 679, 'cappuccino': 3706, 'whaddaya': 1229, 'actors': 2094, 'hot': 562, 'bumblebee_man:': 4982, 'correcting': 2095, 'knees': 2096, 'size': 1548, 'george': 3709, 'bonfire': 3710, \"o'reilly\": 3711, 'nasty': 3712, 'evening': 994, 'greatest': 618, 'sweater': 3713, \"what'sa\": 2097, 'listens': 3714, 'yawns': 2098, 'vomit': 1549, 'ready': 758, 'lied': 3715, 'results': 2099, 'bar_rag:': 563, 'order': 1550, 'weekly': 1230, 'winks': 3716, 'doreen': 2100, 'awake': 3718, 'cooker': 3719, 'surprised/thrilled': 3720, 'eyeball': 2101, 'afraid': 774, 'recipe': 4137, 'volunteer': 3724, 'worldview': 3725, 'nelson': 3726, \"starla's\": 3727, 'cost': 995, 'trusted': 2605, 'wang': 2771, 'dangerous': 869, 'ho-ly': 4160, 'ads': 3731, 'certificate': 3732, 'hanh': 3733, 'smurfs': 2102, 'uncreeped-out': 3734, \"leavin'\": 3735, 'given': 996, 'prove': 2103, 'briefly': 3736, \"something's\": 3737, 'bottles': 2104, 'shop': 3738, 'toss': 1596, 'meet': 522, \"crawlin'\": 2105, \"who'da\": 3739, 'measurements': 2106, 'heartily': 3740, 'potatoes': 3741, 'salvador': 3742, 'drinking:': 3743, 'c': 291, 'including': 3744, 'laugh': 303, 'kings': 3745, 'shoulder': 2107, 'stranger:': 2108, 'sector': 2109, 'along': 870, 'meditative': 3746, 'showered': 4253, 'figures': 4262, 'cajun': 3748, 'lush': 2111, 'daniel': 3749, 'scrutinizes': 3750, 'popped': 3751, '2': 3752, 'suing': 2749, 'encouraged': 3754, 'alcoholism': 3755, 'headhunters': 3756, 'follow': 1232, 'persia': 3757, 'supports': 5632, 'fourteen:': 5610, 'fireball': 1611, 'according': 3761, \"wife's\": 1551, '_powers:': 2112, 'newsletter': 3762, 'clearing': 3763, 'sickly': 3764, 'actress': 5961, 'brought': 930, 'leak': 3765, 'lobster-based': 3766, 'poking': 2114, 'flying': 2214, 'watered-down': 2116, 'flourish': 3767, 'woman:': 1233, 'coincidentally': 3768, 'courthouse': 4370, 'shtick': 3769, 'die': 449, 'moving': 3770, 'felony': 3771, 'hitchhike': 3772, 'pantsless': 3773, 'grinch': 3774, 'cadillac': 3775, 'relative': 4990, 'nevada': 3777, 'syndicate': 3778, 'manjula': 2117, 'dad': 250, 'bono:': 3779, 'suffering': 3780, 'mop': 2286, 'louisiana': 5763, 'winnings': 2118, 'urine': 3782, 'andalay': 2119, 'sidelines': 5613, 'sticking': 3784, 'milk': 872, 'demo': 6259, 'explaining': 1234, 'kucinich': 3786, 'nerve': 2120, 'grave': 2121, 'sighs': 282, 'turns': 529, 'everyone': 403, 'appealing': 2122, 'source': 1552, 'sugar': 2216, 'rem': 3789, 'truth': 873, 'vampires': 2123, 'loneliness': 3790, 'fake': 3791, \"daughter's\": 3792, 'exception:': 3793, 'suddenly': 998, 'getcha': 3794, 'dear': 530, 'benjamin:': 3796, \"somethin'\": 524, 'ripping': 3797, 'radical': 3798, 'fierce': 3799, 'formico': 2124, 'crack': 874, 'wolveriskey': 3802, 'assert': 3803, 'dryer': 2125, 'grienke': 2126, 'ancient': 1553, 'symphonies': 4602, 'plums': 5317, 'snake_jailbird:': 564, 'open': 680, 'suspicious': 2128, 'kicks': 3805, \"bart'd\": 4622, 'boozebag': 3807, 'henry': 2129, 'bulked': 3808, 'len-ny': 3809, 'maude': 4336, 'minute': 268, 'cab': 4641, 'justice': 2130, 'reporter:': 2339, 'reunion': 3824, 'genuinely': 3812, 'dearest': 2131, 'half-beer': 3813, 'upn': 3814, 'prank': 1555, 'daddy': 999, \"life's\": 6417, 'clearly': 1235, 'marguerite:': 2133, 'freeze': 2134, \"what'll\": 1236, 'joey': 875, 'leonard': 3815, \"valentine's\": 1237, 'imported-sounding': 3816, 'marvelous': 3817, 'beating': 2135, 'lungs': 3818, 'edner': 3819, 'woozy': 2358, 'view': 3820, 'hair': 876, \"nothin's\": 3821, 'crippling': 3822, 'took': 386, 'steampunk': 4532, 'manage': 2137, 'anymore': 654, 'cupid': 3825, '<semicolon>': 759, 'giant': 3826, 'built': 2138, 'midge:': 6500, 'schedule': 3827, 'scruffy_blogger:': 3828, 'successful': 2139, 'bannister': 4770, \"today's\": 1238, 'blown': 2140, 'empty': 992, 'minors': 3829, 'voters': 3830, 'pretend': 3831, 'ten': 619, 'routine': 2143, 'determined': 3832, 'attractive_woman_#2:': 3833, 'slim': 3834, 'mis-statement': 3835, 'one-hour': 3836, '&': 1557, 'resenting': 3837, 'sedaris': 3838, 'monroe': 3839, 'slap': 877, 'simultaneous': 3840, 'stage': 6269, 'write': 878, 'sizes': 5623, 'sit': 1239, 'candles': 3842, 'paris': 1782, 'hammy': 3843, 'moron': 681, 'thrown': 3800, 'ought': 3845, 'key': 3846, 'finding': 1274, 'between': 2835, 'sale': 2406, 'often': 3848, 'safely': 3849, 'domed': 4881, 'trivia': 3850, \"talkin'\": 525, 'cecil': 3852, 'foot': 1559, 'indignant': 1560, 'month': 3853, 'shindig': 3854, 'time': 114, 'flustered': 4917, 'series': 3856, 'priceless': 4923, 'panties': 5625, 'ladder': 4928, 'chew': 3858, 'glamour': 3859, 'simple': 3861, 'normals': 3862, 'design': 3863, 'strains': 3864, 'consoling': 3865, 'safecracker': 3866, 'bupkus': 3867, 'excellent': 2146, \"tony's\": 3044, 'democrats': 5626, 'cars': 2147, 'legal': 3869, 'side:': 3870, 'lumpa': 3871, 'crew': 2148, 'bartholomé:': 3872, 'professional': 1240, 'appropriate': 3116, 'detail': 3873, 'homeland': 3874, 'high': 526, \"won't\": 251, 'wiping': 3046, 'stuff': 404, 'milhouse_van_houten:': 1318, 'yeah': 36, 'deacon': 2150, 'super-tough': 6277, 'utensils': 3876, 'wheeeee': 3877, 'f-l-a-n-r-d-s': 3878, 'distract': 3879, 'barney': 130, \"wallet's\": 3880, 'wieners': 3881, 'darkness': 3882, 'real': 334, 'apart': 3883, 'lorre': 5017, 'digging': 3884, 'w': 2152, 'column': 3886, 'sturdy': 3887, 'dang': 1241, 'clown-like': 6653, 'immiggants': 3888, 'dive': 1562, 'moe-lennium': 3889, 'gasoline': 5078, 'achebe': 3891, 'disappeared': 2153, 'lis': 3892, 'reckless': 3893, 'lousy': 622, 'drunks': 1563, 'logos': 3894, 'distraught': 1242, 'bump': 1950, \"hobo's\": 3895, 'refill': 3896, 'puts': 2155, 'wholeheartedly': 3897, 'robbers': 3898, 'cozy': 2156, 'starlets': 6275, 'boxer:': 3900, 'address': 1243, 'don': 2157, 'smoothly': 2158, 'gol-dangit': 6276, \"'ere\": 3902, 'lend': 3903, 'doooown': 4640, 'burning': 1564, 'million': 486, 'lists': 3905, 'lookalikes': 3906, 'commission': 2159, 'smoke': 2160, 'quick-like': 6421, 'red': 1000, 'drag': 3907, 'arrest': 1244, 'hell': 311, 'amused': 3908, '_burns_heads:': 3909, 'shelf': 3910, 'wow': 230, 'all-american': 3911, 'fireworks': 5216, 'stealings': 2162, 'conversations': 4338, 'drivers': 1245, 'massage': 3914, 'macbeth': 3915, 'partner': 1270, 'title': 3916, 'stares': 3917, 'nineteen': 1001, 'case': 1247, 'thing:': 6282, 'mitts': 5012, 'producers': 3919, 'housework': 3920, 'nuclear': 1002, 'selma': 1003, 'graves': 3922, \"squeezin'\": 6557, 'halloween': 6284, 'radio': 2163, 'backward': 3924, 'fifty': 682, 'arm-pittish': 3925, 'sweetly': 1565, 'wind': 3926, 'stolen': 3927, 'meant': 1566, 'nicer': 3928, 'doof': 3929, 'tokens': 3930, 'asked': 1004, 'sausage': 2164, 'tentative': 2165, 'life-threatening': 6261, 'road': 1248, 'movies': 1249, 'items': 5363, 'kenny': 3933, 'fat': 335, \"s'okay\": 3934, 'beauty': 1250, 'knocks': 3935, 'duel': 2166, \"s'pose\": 3936, 'hounds': 3937, 'piano': 3938, 'lighten': 5530, 'bottomless': 3940, 'coal': 3941, 'trick': 2780, 'last': 204, 'ingrates': 5409, \"man'd\": 3944, 'reason': 1567, 'background': 4755, 'promotion': 3946, 'brave': 2167, 'total': 3948, 'disaster': 3949, 'pulls': 1251, 'artie_ziff:': 487, 'hidden': 3950, 'avalanche': 3951, 'beef': 3952, 'unintelligent': 3953, 'meeting': 1252, 'kwik-e-mart': 1568, 'doors': 1776, 'powers': 3954, 'gals': 2266, \"'im\": 2169, 'now': 62, 'legoland': 3956, 'number': 760, 'mayan': 3958, \"they'd\": 1569, 'moxie': 3959, 'odd': 1570, 'things': 264, 'eventually': 2708, 'answer': 1253, 'forget-me-drinks': 2999, 'kneeling': 3960, 'backgammon': 3961, \"pressure's\": 3962, 'pontiff': 3747, 'swimmers': 3963, 'tomatoes': 3964, 'jig': 3965, 'acronyms': 3966, 'stole': 1572, 's-a-u-r-c-e': 3967, 'envy-tations': 3968, 'anyway': 542, 'edna': 405, 'tree_hoper:': 3969, 'appeals': 3970, 'slender': 3971, 'reentering': 3972, 'jailbird': 2173, 'thought': 261, 'addiction': 3973, 'polenta': 3974, 'ees': 3975, 'surgeonnn': 6332, 'runt': 3976, \"enjoyin'\": 6626, 'fastest': 3977, 'woooooo': 3978, 'dumbbell': 3979, 'fainted': 3980, 'jerky': 2174, 'boned': 3981, 'killer': 3982, 'birth': 3983, 'ahhhh': 3984, 'h': 3985, 'package': 3986, 'masks': 3987, 'mmmm': 566, '2nd_voice_on_transmitter:': 3988, 'pickle': 1410, 'showed': 3990, 'stop': 336, 'forty-seven': 3991, \"ladies'\": 2175, 'starla:': 3992, 'macgregor': 3993, 'ford': 3994, 'rip-off': 3995, 'du': 3996, 'stomach': 3997, 'despite': 1573, 'cheer': 1005, 'frenchman': 3998, 'spellbinding': 3999, 'seats': 2176, 'dressing': 4000, 'sack': 2177, 'each': 546, 'college': 1006, 'fancy': 1574, 'those': 168, 'wash': 2178, 'throats': 4002, 'mary': 4004, 'dark': 4005, 'obese': 4006, 'kissed': 4007, \"nothin'\": 321, 'dishrag': 4008, 'bid': 4009, 'finance': 5189, 'poorer': 4010, 'scratcher': 4011, 'calls': 1254, 'rude': 4012, 'hibbert': 2179, \"bettin'\": 4013, 'lipo': 4014, 'dating': 2180, 'kid': 292, 'keys': 567, \"clancy's\": 4015, 'weather': 4016, \"hangin'\": 2181, 'deli': 4017, 'uhhhh': 4018, 'race': 4019, 'venom': 4020, 'promise': 4021, 'mamma': 4965, \"one's\": 1009, 'twelveball': 6297, 'wine': 1010, 'drives': 4023, 'kills': 4024, 'birthplace': 4025, 'fold': 2751, 'espousing': 4027, 'lump': 4028, 'cheerleaders:': 4029, 'appreciate': 4030, 'schnapps': 2182, 'form': 1576, 'tuborg': 4031, 'mushy': 5027, 'some': 90, 'medicine': 2269, 'cozies': 4034, 'society_matron:': 4035, 'soothing': 4036, 'lobster': 4037, 'byrne': 4038, 'phone': 175, 'simon': 5029, 'coach:': 1577, 'declared': 6300, 'i-i-i': 2183, 'health_inspector:': 882, 'sued': 4041, 'unlike': 1578, 'champs': 4042, 'chub': 3103, 'lighter': 4043, 'check': 269, 'batmobile': 4044, 'dumbest': 4045, 'understanding': 1854, 'chapter': 4047, 'self-satisfied': 4048, 'whoa': 205, 'want': 100, 'diamond': 2184, 'waters': 4049, 'less': 623, 'pip': 4050, 'telling': 762, 'wiggle-frowns': 4051, 'mabel': 6270, 'arab_man:': 2185, 'lookalike:': 3844, '_marvin_monroe:': 4053, 'stained-glass': 4054, 'seymour': 527, 'grampa_simpson:': 354, 'wise': 4055, 'quitcher': 6409, \"sippin'\": 4056, 'discuss': 2186, 'smiled': 6774, 'hard': 883, 'die-hard': 4057, 'donuts': 4058, 'suspect': 2187, 'five': 331, 'charm': 2188, 'easy-going': 4060, 'rife': 3446, 'stern': 2189, 'hooky': 4061, 'fight': 488, 'malabar': 4062, 'grey': 4063, 'yello': 4064, 'broke': 763, 'prizefighters': 4066, 'splendid': 4067, 'all-star': 2190, 'meaningless': 4068, 'dan': 2191, 'nerd': 4069, 'omigod': 868, 'bedtime': 4071, 'cop': 1014, 'boxing': 683, 'taunting': 4072, 'regulations': 4073, 'dignified': 4074, 'unbelievably': 4075, 'sec_agent_#2:': 2192, 'fix': 1255, 'joy': 4076, 'bindle': 4077, 'till': 452, 'hi': 450, 'easter': 4079, 'happened': 322, 'simpsons': 4080, 'cover': 1256, \"'tis\": 2193, 'iranian': 4081, 'progress': 4082, 'support': 4083, 'buying': 1579, \"i'm-so-stupid\": 1015, \"stayin'\": 4084, 'lainie:': 4085, 'boxcars': 4086, 'muhammad': 4087, 'oh-so-sophisticated': 4088, 'killed': 1580, 'meyerhof': 4089, 'effervescence': 5396, 'fica': 4090, 'until': 1016, \"how's\": 1017, 'popping': 4091, 'chick': 1257, \"mother's\": 4092, 'naturally': 2195, 'boozy': 2196, 'mccall': 4093, 'sir': 489, 'catholic': 4094, 'soul': 1018, 'aristotle:': 4095, 'dictating': 4096, 'pride': 2197, \"i-i'll\": 3077, 'mumble': 4098, 'appearance-altering': 4099, 'available': 2198, 'grain': 4100, 'agreement': 2199, 'history': 1581, 'fixed': 2200, \"cuckold's\": 5618, 'mmm': 2201, 'dismissive': 2203, 'ya': 111, 'whoopi': 4102, \"listenin'\": 4103, 'plastered': 4104, 'action': 2204, 'habitrail': 4105, 'tony': 884, 'scarf': 4106, 'stored': 4107, 'sesame': 3193, 'eighteen': 4108, 'barn': 684, 'impressed': 885, \"ya'\": 4109, 'feat': 5663, 'mull': 4111, 'stools': 1583, 'camp': 2205, 'magnanimous': 4113, 'tinkle': 886, 'homeless': 4114, 'came': 460, 'grandiose': 2206, 'plaintive': 4116, 'rhode': 4117, 'vampire': 4118, 'gentleman:': 2207, 'looting': 4119, 'perverse': 4120, \"sittin'\": 1019, 'foam': 4121, 'mr': 187, 'brusque': 4122, \"sayin'\": 887, 'checks': 1584, 'science': 4123, 'violations': 2208, 'dallas': 1020, 'fritz': 2209, 'lemme': 685, 'while': 235, 'radioactive': 4124, 'off': 126, 'executive': 4125, 'mister': 902, 'are': 56, \"what'd\": 4127, 'hopeful': 1021, 'without': 490, 'blinds': 4128, 'caricature': 2956, 'fistiana': 4130, 'etc': 765, 'strangles': 4131, 'corporation': 2272, 'pretzel': 4134, 'jobless': 4135, 'fat_tony:': 888, 'incognito': 3723, 'amid': 1272, 'skin': 2832, 'predecessor': 4141, 'feminine': 4142, 'injury': 4143, 'hah': 4144, 'priest': 2210, 'dawning': 4145, \"somethin':\": 4146, 'four': 337, 'haplessly': 4147, 'night-crawlers': 4148, 'brother': 1585, 'broken': 6616, 'y': 4149, 'hangs': 2211, 'cletus_spuckler:': 4150, 'rims': 4151, 'tab': 686, 'mother': 624, \"i'm\": 24, 'castle': 1258, 'tenuous': 5670, 'visas': 4152, 'starve': 4153, 'voice': 258, 'throws': 4154, 'wood': 4155, 'poke': 4156, 'sadistic_barfly:': 1586, 'racially-diverse': 4157, 'boozer': 4403, 'body': 1259, 'mindless': 4158, 'true': 387, 'conference': 2212, 'parking': 1587, \"'your\": 4159, 'otherwise': 3730, 'watered': 4161, 'african': 1022, 'quick': 957, 'keeping': 1588, 'mathis': 4163, 'hitler': 2213, 'indigenous': 6247, 'bowling': 1589, 'krusty': 491, 'experienced': 4164, 'low': 528, 'value': 2215, 'town': 365, 'comic_book_guy:': 766, 'choke': 5048, 'meals': 4165, \"man's_voice:\": 4167, '1-800-555-hugs': 4168, 'wa': 2218, 'federal': 4169, 'need': 137, 'right': 68, 'p-k': 4170, 'chuck': 4171, \"watchin'\": 1260, \"askin'\": 4172, 'lovers': 4173, 'lock': 2219, 'villanova': 4174, 'missed': 2220, 'wisconsin': 4175, 'signed': 4177, 'drummer': 4179, 'ahhh': 2221, 'protestantism': 6323, 'drug': 1261, 'cents': 1655, 'jeter': 4180, 'burt_reynolds:': 2964, 'seemed': 2223, 'ridiculous': 1592, 'astonishment': 4181, 'fanciest': 2224, \"'cept\": 6324, 'tigers': 4182, 'sumatran': 4183, \"eatin'\": 4184, 'teenage': 1593, 'express': 2225, 'nickel': 4185, 'surgery': 1164, 'safe': 890, 'soft': 4189, 'owes': 4190, 'provide': 4191, 'best': 226, 'yo': 1594, 'sign': 451, 'settlement': 4192, 'john': 4193, 'pinball': 4194, 'wigs': 4195, 'tooth': 4196, 'einstein': 4198, 'sniper': 4199, 'floating': 4200, 'slice': 2226, 'kirk': 4201, 'finished': 1595, 'winded': 6688, 'abusive': 4202, 'contest': 2227, 'jogging': 4203, 'be-stainèd': 5677, \"writin'\": 4204, 'cocks': 4205, 'knowledge': 2946, 'sponge:': 4207, 'gambler': 4208, 'thorough': 4619, 'reader': 4209, 'figure': 4210, 'smooth': 1231, 'cross-country': 4211, 'organ': 2228, 'carny:': 4212, 'jer': 5678, 'switched': 3112, 'chill': 4214, 'bully': 2229, 'ingredient': 1180, 'wage': 5706, 'liquor': 4216, 'resist': 4217, 'imitating': 4218, 'ungrateful': 4219, 'way': 156, 'shortcomings': 4220, 'leave': 406, 'furry': 4221, 'decide:': 4222, 'yak': 4223, \"y'money's\": 3162, \"c'mere\": 1597, 'invisible': 4226, 'lime': 4227, 'st': 4228, 'making': 767, 'botanical': 4231, 'normal': 891, 'smoker': 4232, 'duff_announcer:': 4233, 'somebody': 768, 'bono': 3109, 'incapable': 4234, 'combine': 2231, 'both': 720, 'went': 428, 'pop': 1023, \"hasn't\": 2232, 'population': 4235, 'rush': 4236, 'typing': 4237, 'hears': 4238, 'feast': 2233, 'whirlybird': 4239, 'youse': 687, 'skoal': 4240, 'beard': 4241, 'craft': 4242, 'station': 3110, \"dog's\": 4243, 'days': 769, 'whistles': 2235, 'crappy': 4244, 'ratio': 4246, 'phlegm': 4247, 'steal': 568, 'entrance': 4248, 'children': 1024, 'pre-recorded': 4249, 'mystery': 4250, 'half': 892, 'bon-bons': 4251, 'u': 1262, \"table's\": 4252, 'wait': 158, 'girls': 625, 'medical': 2237, 'aerospace': 5072, 'ugliness': 5435, 'mad': 485, \"bo's\": 4254, 'sacajawea': 4255, 'rumor': 4256, 'religious': 4257, 'gone': 492, 'crayon': 4258, 'it:': 4259, \"must've\": 4260, 'eyesore': 2239, 'tip': 894, 'windelle': 3367, 'wolfcastle': 4261, 'bart_simpson:': 147, 'knife': 2240, 'happily:': 4263, 'peppy': 2241, 'wooden': 2242, 'crossed': 2243, 'atari': 4264, 'bills': 6237, 'knuckle-dragging': 6009, 'causes': 3407, 'trust': 1599, 'monorails': 4266, 'dying': 1025, 'wacky': 5685, 'hotel': 4269, 'menacing': 4270, 'money': 144, 'al_gore:': 1600, 'chief': 402, 'aquafresh': 4271, 'bit': 626, 'peeping': 4272, 'violin': 2244, 'again': 223, 'test-': 5779, 'cushions': 4273, 'louder': 2245, \"pullin'\": 2922, 'cannoli': 3459, 'veteran': 4275, 'guest': 1601, 'flames': 4277, 'space': 2246, 'nards': 1602, 'probably': 627, 'protesting': 4278, 'rest': 1026, 'child': 1603, 'authenticity': 4279, 'watching': 591, 'started': 1264, 'espn': 4281, 'lessons': 1071, \"mecca's\": 4282, 'a-lug': 4283, 'gasps': 615, 'speech': 1039, 'scoffs': 4285, 'breathless': 6186, 'darts': 1604, 'other_player:': 4286, 'seek': 2047, 'enforced': 4001, 'roller': 5925, 'hockey-fight': 3753, 'sympathy': 4290, 'jesus': 1605, 'whatsit': 4291, 'ehhhhhh': 4292, \"spyin'\": 4293, 'innocuous': 4294, \"elmo's\": 4295, 'declare': 4296, 'moment': 1266, 'ninety-six': 4297, \"i'd'a\": 4298, 'w-a-3-q-i-zed': 4299, 'streetcorner': 4300, 'finale': 4301, \"tryin'\": 1027, 'outrageous': 3584, 'wrote': 1028, 'barber': 4303, \"springfield's\": 2248, 'contemporary': 4305, 'eight': 688, 'newsies': 4306, 'furniture': 3609, 'rug': 3567, \"narratin'\": 4308, 'awareness': 4309, 'wrecking': 4310, 'hellhole': 4311, 'way:': 4312, 'occurrence': 4314, 'gentle': 4315, 'sniffles': 1616, 'stalking': 4316, 'sauce': 1029, 'sucker': 4317, 'dutch': 4318, 'chum': 2249, 'norway': 4319, 'became': 895, 'parrot': 4320, 'noooooooooo': 4321, 'stooges': 5693, 'owner': 2252, 'territorial': 4322, 'frustrated': 1268, 'mall': 2253, \"'evening\": 4323, 'products': 2254, 'saint': 2255, 'tummies': 4324, 'bowl': 628, 'cell-ee': 4325, 'helps': 4688, 'showing': 1609, 'vote': 2256, 'womb': 4327, 'salary': 4328, 'wheel': 1030, 'spit': 1610, 'encore': 5843, 'prayers': 3760, 'error': 4329, 'hub': 4330, 'does': 231, 'pulitzer': 4331, \"larry's\": 4332, \"carl's\": 1269, 'tear': 4333, 'outlook': 2784, 'bird': 2257, 'busiest': 4335, 'savagely': 3810, 'administration': 4337, 'roomy': 2258, \"disrobin'\": 4339, 'level': 2877, 'james': 1612, 'gus': 4341, 'terrifying': 4342, 'spread': 2142, 'unrelated': 4344, 'naively': 4345, 'alma': 4346, \"scammin'\": 4347, 'entertainer': 6448, 'brightening': 2259, 'joey_kramer:': 2260, 'intervention': 4348, 'uses': 4349, 'flag': 2261, 'decency': 2262, 'acceptance': 4350, \"america's\": 4351, 'will': 157, 'connor': 4352, 'seminar': 4425, 'woulda': 6600, 'cattle': 6593, 'baseball': 896, 'music': 946, 'hunting': 2263, 'papa': 4354, 'citizens': 5145, 'survive': 1042, \"renovatin'\": 4357, 'solo': 2264, 'moan': 565, 'takeaway': 4358, 'rain': 4359, 'neighborhood': 4360, 'holidays': 4361, 'brassiest': 2265, 'th': 4362, 'swelling': 4363, 'led': 4364, 'earlier': 4365, 'motto': 6516, 'dr': 259, 'eh': 176, \"aristotle's\": 3955, 'disguised': 4366, 'huge': 770, 'selective': 4367, 'kinds': 4368, \"tinklin'\": 4369, 'sideshow_mel:': 5647, 'trouble': 523, 'wells': 4371, 'government': 1032, 'upsetting': 5699, 'bring': 494, 'humiliation': 4373, 'tones': 4374, 'eddie': 4375, 'fabulous': 2267, 'channel': 771, 'treehouse': 4376, 'warn': 2268, 'debonair': 4377, 'squadron': 4378, 'annus': 4379, 'nfl_narrator:': 4033, 'ashamed': 1033, 'pad': 2270, 'lifters': 5081, \"workin'\": 1012, 'shelbyville': 4380, 'thawing': 4381, 'unlocked': 4382, 'britannia': 4383, 'jeff_gordon:': 4384, 'blubberino': 4385, 'break-up': 4386, 'punishment': 4387, 'front': 629, 'treat': 1035, 'talkative': 4388, 'acting': 2271, 'novel': 4078, 'truck_driver:': 4389, 'ignorant': 4391, 'fbi': 1271, 'puke-holes': 4392, 'doppler': 4393, 'donor': 4394, \"lady's\": 4395, 'diddilies': 4396, \"he'd\": 1036, 'twenty-four': 5704, 'other': 242, 'toledo': 4397, 'whaddya': 4398, \"jackpot's\": 5083, 'stagehand:': 5499, 'inches': 4132, 'present': 2273, 'disappointing': 4139, 'tapestry': 4400, 'libraries': 4401, 'plum': 2274, 'good-looking': 4402, 'comic': 2275, 'sledge-hammer': 5040, 'diablo': 4404, 'memory': 2276, 'almost': 1273, 'gunter:': 4405, 'sister-in-law': 5390, 'candidate': 2277, 'intimacy': 6361, 'languages': 4187, 'them': 236, 'el': 4407, 'repeated': 4408, 'complicated': 4409, 'luckily': 4410, \"'round\": 4411, 'frog': 2110, 'inflated': 2597, 'even': 162, 'tolerance': 4230, 'slapped': 4413, 'flash': 4415, 'karaoke': 2279, \"fryer's\": 4416, 'were': 179, 'sheets': 3804, 'chest': 1615, 'wedding': 2280, 'cutting': 1037, 'tow-talitarian': 4418, 'act': 1038, 'pulled': 1275, 'david': 2281, 'operation': 1618, 'late': 630, 'royal': 4420, 'faiths': 4229, 'meaning': 3557, 'sweetie': 4421, 'joking': 2283, 'deny': 4422, 'bellyaching': 4423, 'canoodling': 4424, 'suck': 1607, 'reaction': 4426, 'rather': 1416, 'hero-phobia': 5624, 'sat-is-fac-tion': 4427, 'dumpster': 4428, 'hooch': 4429, 'quadruple-sec': 4430, 'frogs': 5313, 'dracula': 4431, 'ralph_wiggum:': 4432, 'luck': 1041, 'please': 202, 'doll-baby': 4433, 'maxed': 4356, 'hours': 569, 'brotherhood': 4434, 'mustard': 4435, 'kent': 909, 'goodbye': 631, 'maximum': 4437, 'whatchacallit': 3781, 'delivery_man:': 4438, 'bald': 1276, 'knock-up': 4439, 'better': 188, 'abe': 4440, 'goodwill': 4412, 'handler': 4419, '35': 4441, 'gumbo': 4442, 'tries': 2288, 'pretentious_rat_lover:': 4443, 'forecast': 4444, 'these': 189, 'voice_on_transmitter:': 2836, 'guns': 1277, 'passports': 4445, 'pause': 1619, 'part': 1106, 'death': 1620, \"washin'\": 4449, 'damned': 4468, 'stirring': 1278, 'collateral': 4450, 'hail': 2289, 'celebration': 5989, 'crinkly': 5035, 'groveling': 4451, 'duh': 1043, 'finishing': 2290, 'amnesia': 4452, 'repay': 6736, 'mexican': 5455, 'changes': 2306, 'basement': 4453, 'standards': 2293, 'there': 80, 'knit': 4454, 'customers-slash-only': 6532, 'cerebral': 4455, 'cheered': 4456, 'flame': 4457, 'ura': 4458, 'brief': 4459, 'befriend': 4460, 'yelp': 4461, 'kitchen': 3806, 'occurs': 4462, \"'til\": 1622, 'fire_inspector:': 4463, 'slurps': 4464, 'groans': 4465, 'musses': 4558, 'fast': 764, 'liable': 4469, 'salad': 1623, 'god': 165, 'excitement': 2294, 'repressed': 4470, 'fast-food': 4471, 'limericks': 3516, 'tired': 1044, 'cent': 2295, 'hobo': 2296, 'stuck': 2297, 'white_rabbit:': 4473, 'tipsy': 429, 'upgrade': 4613, 'mint': 4474, 'relieved': 2299, 'see': 101, 'hexa-': 4476, 'tank': 4477, 'breaking': 1624, 'memories': 2285, 'resolution': 5137, 'shores': 4634, 'jeers': 4479, 'lights': 2300, 'important': 2301, 'brains': 1625, 'burt': 1279, 'sounds': 388, 'kisser': 4480, 'gator': 4481, 'snotty': 4482, 'thankful': 1626, 'over': 148, 'faith': 4483, \"havin'\": 1646, 'compared': 2303, 'tune': 898, 'janette': 4485, \"kid's\": 4486, 'human': 773, \"renee's\": 3787, 'pizzicato': 3728, 'dame': 1045, 'praise': 4488, 'trustworthy': 4489, 'punches': 2328, 'attention': 1627, 'montrer': 4490, 'hotline': 2291, 'party': 361, 'sidekick': 4491, 'service': 1046, 'savings': 6714, 'fantastic': 4493, 'i': 6, 'fruit': 4494, 'adventure': 3573, 'agent': 1321, 'dials': 2305, 'ton': 2979, 'situation': 1280, 'beings': 4951, 'choking': 2292, 'man_with_tree_hat:': 4497, 'and': 14, 'behavior': 4498, 'distaste': 4499, 'question': 1281, 'would': 134, 'jacksons': 4500, 'fresco': 4502, 'sloe': 4503, 'lame': 3555, 'sketching': 4504, 'flea:': 4505, 'anger': 3788, 'karaoke_machine:': 4507, 'wish-meat': 4508, 'think': 95, 'grim': 1282, 'prejudice': 6377, 'in-in-in': 4510, 'cheery': 2634, 'intriguing': 4512, 'mix': 4845, 'paste': 4514, 'doll': 2309, 'madonna': 5724, 'poulet': 4516, 'sacrilicious': 4517, 'delays': 4519, 'seriously': 2310, 'treats': 4520, \"queen's\": 6379, 'inexorable': 4522, 'let': 140, 'relaxing': 4524, 'devils:': 4525, 'trunk': 4526, 'delightfully': 4528, 'buffalo': 1283, 'gin-slingers': 4530, 'prettied': 4531, 'jay_leno:': 4533, 'share': 1628, 'fortress': 4534, 'jackpot-thief': 4535, 'krusty_the_clown:': 293, 'knowingly': 4536, 'canyonero': 407, 'signal': 4537, 'grind': 4538, 'country-fried': 4539, 'jumping': 5900, 'zinged': 4540, 'saga': 4541, 'thirty-three': 4542, 'hydrant': 4543, 'nightmares': 4544, 'wife-swapping': 4545, 'store': 691, 'spend': 571, 'boyhood': 4546, 'femininity': 4547, 'sec_agent_#1:': 1629, 'boxcar': 5014, 'moonlight': 4548, 'toxins': 6385, '250': 2311, 'familiar': 2312, 'tobacky': 4550, 'examines': 4551, 'mike_mills:': 4552, 'u2:': 4553, 'ehhhhhhhh': 4554, 'based': 2313, 'thunder': 4555, 'pus-bucket': 4556, \"wasn't\": 531, 'reconsidering': 6387, 'baby': 408, 'sharing': 4557, 'coupon': 4467, 'nobel': 1630, 'temple': 4559, 'barbed': 4560, 'indicates': 4561, 'hat': 5695, 'began': 2314, 'picky': 4562, 'quimby_#2:': 5070, 'aww': 1631, 'lonely': 1707, 'beer:': 5090, 'term': 3159, '1973': 4564, 'squeals': 4565, 'someone': 294, 'blobbo': 4566, 'trying': 572, 'writing': 1050, 'maiden': 5112, 'man_with_crazy_beard:': 4567, 'attach': 4568, 'nantucket': 4569, 'nameless': 5136, 'delicately': 4571, 'burger': 4572, 'compressions': 4573, 'also': 1076, 'toward': 1632, 'lurleen': 2319, 'haw': 2320, 'swe-ee-ee-ee-eet': 4574, 'forehead': 2321, 'engraved': 4575, 'today/': 5739, 'book_club_member:': 1633, 'gas': 1285, 'mt': 6630, 'then': 91, 'explanation': 4577, \"collector's\": 4579, 'tracks': 4580, 'turn': 338, 'hoagie': 4581, 'tall': 6507, 'blue': 632, 'community': 4582, 'completely': 4583, 'scores': 4584, 'exits': 4585, 'hollywood': 2322, 'stepped': 4586, 'homunculus': 4587, 'generous': 2323, 'ruin': 1869, \"can't-believe-how-bald-he-is\": 4588, 'root': 1634, 'asses': 5228, 'foodie': 4589, 'fink': 4590, \"doesn't\": 532, 'yourse': 4591, 'gr-aargh': 4592, 'politician': 3947, 'suspiciously': 4593, 'charge': 899, 'sustain': 4594, 'hawaii': 4595, 'co-sign': 4596, 'storms': 4597, 'saucy': 6395, 'anti-lock': 4598, 'once': 332, 'apology': 4600, 'loathe': 4601, 'relationship': 2161, 'lovejoy': 4603, 'for': 25, 'insensitive': 4604, 'picked': 4605, \"i'unno\": 6652, 'tried': 1665, 'purveyor': 5306, 'guilt': 4607, 'tail': 1287, 'always': 283, 'clone': 1637, 'very': 227, 'cards': 1554, 'flanders': 900, 'company': 901, 'hurts': 1741, 'eminence': 4610, 'expense': 4611, 'skirt': 2325, 'gear-head': 5114, 'possibly': 2326, 'isle': 2327, 'lard': 4612, \"can't\": 92, 'capitalists': 4245, 'wake': 2329, 'stay-puft': 5356, 'grabbing': 1638, 'know': 65, 'admirer': 4615, 'data': 4616, 'eaters': 4617, 'obvious': 2330, 'felt': 1052, 'saving': 4618, 'ironed': 2331, 'eww': 4501, 'bookie': 4620, 'refreshingness': 4621, 'which': 290, 'expecting': 4623, 'button': 1639, 'fustigation': 6542, 'season': 1640, 'engine': 4624, 'judge': 2332, 'stamp': 4626, 'certainly': 4627, 'bloodball': 4628, 'rickles': 4629, \"'ceptin'\": 4630, 'kl5-4796': 4631, 'tonic': 4632, 'sistine': 4633, 'beers': 690, \"beggin'\": 4635, 'outstanding': 4636, 'rainforest': 4637, 'nauseous': 4919, 'evil': 1641, 'fountain': 4638, 'brooklyn': 4639, 'stir': 2334, 'eleven': 1289, 'letters': 1642, 'bums': 2335, 'adeleine': 1290, 'eyeballs': 3031, 'koji': 4642, 'wanted': 409, 'grub': 4643, 'minister': 2336, 'rap': 2337, 'though': 775, 'paying': 1643, 'buzziness': 4644, 'woe:': 4645, \"bart's\": 1644, '_julius_hibbert:': 903, 'wienerschnitzel': 3811, 'glummy': 4646, 'dejected': 4647, 'ruint': 4648, 'billion': 2340, 'return': 776, 'admitting': 2341, 'judge_snyder:': 2342, 'band': 1291, 'spouses': 4649, 'lovely': 2343, 'liser': 4650, 'lugs': 4651, 'had': 139, 'problem': 366, 'living': 4652, 'agency': 4653, 'y-you': 5033, \"show's\": 3186, 'wheels': 4654, 'different': 1293, 'committing': 4097, 'alone': 707, 'parents': 6150, 'ointment': 6728, 'crowd': 1645, \"buffalo's\": 2344, 'under': 410, 'conclusions': 4657, 'chain': 4658, 'held': 2345, 'zack': 4659, 'forever': 777, 'bush': 2346, 'talking': 573, 'steam': 4660, 'mostly': 4661, 'murdered': 4662, 'attraction': 4663, 'chug-a-lug': 4664, 'moe-heads': 4666, \"phone's\": 4667, 'heavens': 4668, 'vicious': 4669, 'equal': 6406, 'foundation': 4670, 'freaky': 4671, 'zoomed': 4672, 'super-genius': 4673, 'rivalry': 4674, 'every': 237, 'tape': 533, '<exclamation_mark>': 8, 'civil': 4676, 'ehhh': 4677, 'life-extension': 4678, 'burglary': 4679, 'padre': 2347, 'bake': 4680, 'arguing': 4681, 'strips': 4682, 'dramatically': 4484, 'sieben-gruben': 4683, 'brewed': 2348, 'depressant': 4684, 'rock': 2349, 'mock-up': 3604, 'divine': 4765, 'so-ng': 4686, 'perking': 4687, 'forget-me-shot': 1295, 'ears': 4689, \"tree's\": 4690, 'cold': 778, 'process': 4691, 'list': 1571, 'anxious': 4692, 'test': 1296, 'few': 1054, 'grains': 4693, 'kick-ass': 4694, 'media': 2351, 'oooh': 4696, 'pas': 4697, 'scam': 1647, 'stripes': 4698, 'goodnight': 692, 'gang': 2352, 'favor': 1055, 'pinchpenny': 4699, 'ah-ha': 2645, 'stiffening': 5128, 'crime': 1648, 'network': 3315, 'frightened': 4701, 'pancakes': 4326, 'rolled': 2354, \"somethin's\": 4487, 'surprise': 2355, 'young': 633, 'broncos': 4702, 'someplace': 4703, 'british': 1649, 'pipe': 1056, 'sharps': 1057, 'sagacity': 4704, 'brandy': 4708, 'blind': 4705, 'aging': 2356, 'doubt': 1078, 'faced': 4707, 'back': 72, 'eager': 4709, 'cooking': 4710, 'rich': 1297, 'regretted': 4711, 'shoot': 1650, 'thinks': 634, 'little_man:': 1058, 'rabbits': 4712, 'partly': 2357, 'patrons:': 4713, 'enveloped': 4714, 'singers:': 1651, 'bust': 4715, 'pumping': 4716, 'legend': 4717, 'remote': 4718, 'painting': 2136, 'fools': 4719, 'sorts': 4720, 'barstools': 4721, 'firing': 6415, \"don't\": 46, 'unexplained': 4723, 'butter': 4724, 'missing': 4725, 'wayne:': 1606, 'trade': 5132, 'eye-gouger': 5101, 'commit': 4728, 'the_rich_texan:': 574, 'mudflap': 1652, 'tee': 4729, 'subject': 1653, 'died': 1298, 'yoo': 2814, 'chinese': 1654, 'reward': 4730, 'amazing': 1299, 'korea': 4731, 'president': 693, \"england's\": 4732, 'fun': 575, 'buyer': 4733, 'shirt': 1156, 'shaggy': 2363, 'crab': 4734, 'cruise': 3823, 'county': 4735, 'everything': 371, 'care': 420, \"we'll\": 534, 'boneheaded': 2366, 'grubby': 4736, \"puttin'\": 4737, 'suppose': 1522, 'poetry': 4738, 'strategy': 2367, 'bursts': 4739, 'hate': 453, 'peach': 1656, 'technical': 4740, 'clench': 4741, 'sigh': 570, 'rice': 4742, 'site': 4743, 'shut': 270, '-ry': 4744, 'shape': 1657, 'likes': 1658, 'rolls': 4745, 'haiti': 4746, 'nightmare': 4747, 'wild': 4748, 'vacations': 4749, 'manatee': 4750, 'beast': 4751, 'failure': 4752, 'filth': 4753, 'waterfront': 4754, 'bless': 1659, 'adjourned': 4756, 'curious': 2368, 'africanized': 3224, 'torn': 2370, 'kentucky': 4757, 'foibles': 1300, 'neanderthal': 4758, 'sweat': 4759, 'bad': 224, 'grammys': 4760, 'consciousness': 4761, 'color': 2371, 'wife': 243, 'military': 1660, 'kent_brockman:': 238, 'three-man': 4763, 'wrestling': 2372, 'derisive': 6220, \"smokin'_joe_frazier:\": 1059, 'new_health_inspector:': 1301, 'raccoons': 2373, 'honeys': 4766, 're-al': 4767, 'stock': 1302, 'shriners': 6424, 'married': 635, 'pool': 1060, 'helicopter': 1556, 'drunkenly': 4771, 'hunky': 4772, 'dexterous': 4773, 'cooler': 2374, 'dyspeptic': 4774, 'pizza': 4775, 'remains': 2375, 'puff': 1661, 'reliable': 2376, 'door': 537, 'beloved': 1061, 'cuddling': 4776, 'tv_daughter:': 4777, 'lone': 4778, 'mexican_duffman:': 4779, 'alien': 4780, 'why': 109, \"monroe's\": 2377, 'maya': 2378, 'methinks': 4781, 'crawl': 1662, 'west': 4782, 'more': 124, 'larson': 4783, 'answering': 2379, 'massive': 4784, 'cloudy': 4785, 'johnny_carson:': 4786, 'celeste': 4787, 'sweet': 252, \"year's\": 1663, 'fishing': 4788, 'smelling': 4789, 'carb': 5140, 'alfred': 2381, 'dilemma': 4790, 'chili': 4791, 'michael_stipe:': 4792, 'tapered': 4793, 'designated': 1151, 'lisa_simpson:': 135, 'scum-sucking': 4794, 'bones': 4795, 'sensitivity': 4796, 'language': 4797, 'heals': 4798, 'friction': 4799, 'duffed': 4800, 'busy': 1303, 'williams': 4801, 'please/': 4802, 'gumbel': 904, 'text': 1664, 'restroom': 2817, 'ourselves': 1304, 'micronesian': 4805, 'shakes': 4206, 'coin': 4806, 'professor': 2384, 'gunter': 4807, 'power': 905, 'specified': 4808, \"how're\": 4809, 'wok': 5232, 'after': 260, 'dime': 4810, \"liberty's\": 4811, 'maintenance': 4812, 'pope': 2386, 'hello': 213, 'fl': 4813, 'homer_': 4814, 'eurotrash': 4815, 'scent': 4816, 'urban': 4817, '<right_paren>': 4, 'starters': 4818, 'magic': 1404, 'cans': 4820, 'indifferent': 4821, 'lenny_leonard:': 33, 'germs': 2387, 'trapping': 4822, 'proudly': 781, 'installed': 4506, 'hoped': 4824, 'laney_fontaine:': 2388, 'offshoot': 4825, 'founded': 4826, 'napkins': 4827, 'prolonged': 4828, 'endorsed': 3913, 'closes': 2390, 'pardon': 1666, 'represent': 1062, 'teeth': 1667, 'yuh-huh': 4829, 'what-for': 5679, 'menlo': 4830, 'therapist': 2391, 'wenceslas': 4831, 'gulps': 5091, \"friend's\": 4832, 'hollye': 4833, 'practice': 6611, 'barney_gumble:': 41, 'leno': 4834, '_eugene_blatz:': 4835, 'snide': 4836, 'suave': 4837, 'forbidden': 2394, 'domestic': 1306, 'attack': 2395, 'sour': 4838, 'steamed': 4839, 'unison': 1668, '7-year-old_brockman:': 2396, 'rosey': 4840, 'championship': 1307, 'vegas': 1669, 'sobriety': 4841, 'factor': 4842, 'stalin': 4843, 'fuhgetaboutit': 4844, \"weren't\": 2397, ':': 576, 'gorgeous': 2398, 'beginning': 1670, \"there's\": 132, 'madman': 4513, 'train': 1308, 'wantcha': 4846, 'pronounce': 4847, 'awkward': 1309, 'forbids': 5782, 'mailbox': 4849, 'single-mindedness': 4850, 'chauffeur:': 4224, 'strategizing': 4852, 'placed': 4853, 'bullet-proof': 4854, \"industry's\": 4855, 'glowers': 4856, 'spender': 4857, 'older': 4858, 'bubbles-in-my-nose-y': 4859, 'tells': 1671, 'smugglers': 2400, 'jewelry': 4860, 'glen': 1672, 'creature': 4861, 'gregor': 4862, 'chinua': 4863, 'admiration': 1904, \"nixon's\": 4864, \"shootin'\": 4865, 'pleased': 1310, 'browns': 4866, 'voicemail': 4867, 'shock': 2402, 'covering': 1673, 'baritone': 2403, 'glitz': 4868, 's': 782, 'moe_szyslak:': 9, 'winch': 4869, 'complaint': 2404, 'sixteen': 4870, 'kickoff': 4871, 'bunch': 1674, 'bow': 906, 'big': 141, 'bliss': 4872, 'forward': 2405, 'stay': 577, 'fritz:': 1675, 'birthday': 879, 'consider': 1676, 'alky': 5016, 'malfeasance': 4874, 'drank': 2407, 'conditioners': 4875, 'kodos:': 4876, 'patty': 2408, 'secret': 411, 'stones': 4877, 'champ': 2409, 'mate': 2410, 'occasional': 4878, 'rat': 848, 'slow': 907, 'nonchalantly': 4880, 'hunger': 5756, 'homer_simpson:': 12, 'denser': 2411, 'enthusiasm': 4882, 'sympathetic': 2412, 'polls': 4883, 'nucular': 4884, 'months': 1311, 'grenky': 4885, 'goblins': 4886, 'mozzarella': 4887, 'teams': 2413, 'penmanship': 4888, 'conversation': 2414, 'op': 4889, 'nachos': 4890, 'reviews': 2415, 'umm': 2416, 'swishkabobs': 4891, 'straighten': 6190, 'cronies': 4892, 'mel': 1677, 'tsking': 4893, 'drown': 2543, \"challengin'\": 4894, 'whose': 1678, 'quotes': 2417, 'earpiece': 4895, 'rotch': 1312, 'pictured': 4896, 'presently': 4897, 'medieval': 4898, 'focus': 1679, 'ram': 4899, 'sheepish': 1313, 'learned': 636, 'chuckle': 284, \"maggie's\": 2418, 'facebook': 4900, 'dance': 783, 'kick': 695, 'brain-switching': 4901, 'busted': 2419, 'singing/pushing': 4608, 'rotten': 4902, 'heaving': 4903, 'woo': 389, 'alfalfa': 2821, 'f': 1680, 'straining': 2420, 'easy': 495, 'taps': 2421, 'bottom': 1415, 'chug': 1063, 'rainbows': 4905, 'testing': 971, 'looser': 4907, 'breathalyzer': 4908, 'mocking': 6451, 'walther_hotenhoffer:': 908, 'tears': 1681, 'quarter': 4909, 'musical': 3466, 'throwing': 2422, 'harvard': 4912, 'model': 4913, 'lizard': 6449, 'years': 253, 'teenage_homer:': 2423, 'pull': 638, 't-shirt': 2424, 'machine': 578, 'cesss': 3263, 'carll': 2425, 'nein': 1064, 'hiring': 4915, 'absentmindedly': 4916, 'hands': 496, 'chic': 3855, 'celebrity': 2426, 'pursue': 4918, 'connection': 4994, 'privacy': 4920, 'have': 47, 'keep': 271, 'accident': 784, 'golden': 3131, 'pennies': 4922, \"let's\": 228, 'punk': 2427, 'newly-published': 3857, 'mcclure': 4924, \"shouldn't\": 639, 'mcbain': 2428, 'aghast': 4925, 'jump': 1504, 'junebug': 4926, 'been': 105, 'deal': 761, 'gimme': 412, 'bees': 1315, 'bite': 1792, 'emotional': 2389, 'local': 1065, 'morning': 620, \"'now\": 4929, 'stickers': 4930, 'creepy': 4931, 'tofu': 2431, 'retired': 2706, 'material': 6455, 'ribbon': 4934, 'tidy': 5949, 'phasing': 4935, 'dislike': 4936, 'effect': 4937, 'mural': 4938, 'looking': 225, 'struggling': 1682, 'stories': 1007, 'intoxicants': 4940, 'balls': 2432, 'suits': 4941, 'physical': 4942, 'pronto': 4943, 'assume': 4944, 'shotgun': 696, 'fish': 1066, 'rekindle': 4945, 'decided': 3456, 'health': 910, 'stocking': 4947, 'yup': 2433, 'family-owned': 4948, \"i've\": 99, 'stats': 4949, 'blues': 2434, 'hangout': 4950, 'bedridden': 5721, 'exhibit': 4952, 'eighty-six': 3492, 'heck': 4954, 'nah': 390, \"battin'\": 4955, 'when': 107, 'combination': 6459, 'jägermeister': 4956, 'is:': 2435, \"men's\": 1683, \"'n'\": 4957, 'uninhibited': 4958, 'twin': 2436, \"marge's\": 2437, 'glitterati': 4959, 'was': 53, 'eat': 497, 'noosey': 4960, 'portuguese': 3541, \"lefty's\": 4962, 'done:': 3547, 'hand': 498, 'smokes': 6461, \"knockin'\": 4966, 'fellas': 785, 'selfish': 4967, 'threatening': 1684, 'clown': 1067, 'boston': 4968, 'spanish': 1685, 'bachelorette': 3596, 'sickens': 4969, 'industry': 2438, 'manfred': 4970, 'wallet': 1068, 'hiya': 1686, 'flaking': 4971, 'ugh': 4972, 'lifts': 4973, 'peanuts': 786, 'portentous': 3642, 'glum': 1689, 'knows': 697, 'terrific': 2439, \"treatin'\": 4606, '_timothy_lovejoy:': 1544, 'rumaki': 2441, 'innocent': 1690, 'enough': 367, 'wins': 2442, 'ralphie': 4977, 'truck': 1069, 'duffman:': 376, 'links': 4979, 'shocked': 640, 'ah': 116, 'heartless': 4980, 'cheese': 2443, 'photos': 4981, 'roll': 1621, 'box': 698, 'highball': 3708, \"bringin'\": 4983, 'cough': 1691, 'tang': 2202, 'stagy': 1316, 'age': 1692, '10:15': 4985, 'liability': 4987, 'rub': 1481, 'equivalent': 4988, 'cares': 1317, 'estranged': 6465, 'followed': 4989, 'shaker': 3776, 'that': 18, 'recruiter': 4992, 'grab': 2445, 'clincher': 4993, 'sounded': 3875, 'candy': 2446, 'saw': 454, 'princess': 911, 'cocoa': 4996, 'capitol': 4997, 'either': 641, 'pointing': 1693, 'martini': 4998, 'king': 699, 'hemorrhage-amundo': 6466, 'miracle': 5000, 'world': 272, 'date': 499, 'brainiac': 5001, 'send': 816, 'photographer': 5002, 'dishonor': 5003, 'team': 1694, 'diapers': 5005, 'class': 912, 'guy': 128, 'attached': 5006, 'pro': 5007, 'ho': 1695, 'anonymous': 5008, 'betcha': 5009, 'kids': 266, 'oh': 31, 'carl': 295, 'düff': 5011, 'deer': 1070, 'snap': 2447, 'trapped': 2448, 'ehhhhhhhhh': 3918, 'bucket': 2810, 'tornado': 5013, 'joint': 1048, 'thirty-nine': 5015, 'sheet': 4873, 'guff': 5018, 'amber': 5019, 'yet': 700, 'stagey': 5815, 'touched': 881, 'character': 1319, 'barkeep': 2449, 'figured': 1320, 'mickey': 5022, 'er': 5023, 'drinks': 642, 'beneath': 2450, 'fictional': 2451, 'head': 273, 'store-bought': 5024, 'lurleen_lumpkin:': 2452, \"he's\": 142, 'animals': 2453, 'falling': 5025, 'about': 74, 'worth': 2454, 'since': 274, 'dumb': 936, 'morose': 2455, 'stupidly': 5026, \"y'know\": 535, '50%': 3249, 'extended': 5028, 'dennis': 4039, 'dictator': 5030, 'affection': 5031, 'giggles': 2318, 'tomorrow': 455, \"d'ya\": 4529, 'irs': 5034, 'puke': 1696, 'pained': 1697, 'husband': 1322, 'turning': 701, 'make:': 4065, 'nick': 5036, 'tha': 5037, 'stevie': 2456, 'ziff': 2457, 'degradation': 2307, \"ol'\": 787, 'steinbrenner': 5820, \"where's\": 413, 'hungry': 1323, 'pointedly': 5038, 'dropped': 2459, 'winning': 5039, 'winces': 4527, 'type': 2151, 'listened': 5041, 'walk': 702, 'hot-rod': 5042, 'the': 5, 'warned': 5043, 'evasive': 6474, 'joke': 2460, 'heliotrope': 5822, 'feet': 703, 'amber_dempsey:': 5045, 'windex': 2461, 'paintings': 5046, 'student': 5047, 'state': 889, 'wudgy': 5049, 'gees': 5050, 'warm_female_voice:': 788, 'directions': 1699, 'twelve': 1324, 'texan': 5051, 'worried': 579, 'natural': 1700, 'annie': 5053, 'phase': 5054, 'modestly': 5055, 'compromise:': 5056, 'light': 643, 'cockroach': 5057, 'gentlemen': 536, 'terror': 5058, '_babcock:': 1701, 'puke-pail': 5059, \"who's\": 286, 'believer': 5060, 'saved': 1072, 'pre-game': 3945, 'insist': 5061, 'male_inspector:': 2238, 'counter': 5063, 'mice': 5064, 'blob': 5065, 'informant': 2462, 'nap': 5066, 'old': 194, 'moe': 30, 'unhook': 4764, \"high-falutin'\": 5068, 'hmm': 789, 'manjula_nahasapeemapetilon:': 914, 'marmaduke': 2463, 'broad': 1073, 'painless': 5069, 'kept': 1702, 'frankly': 1703, 'gum': 2464, 'blame': 580, 'beaumarchais': 4563, 'cup': 5071, 'concerned': 1704, \"fine-lookin'\": 6287, 'inspired': 2465, 'underwear': 5073, 'pig': 689, \"tatum'll\": 5074, 'badge': 5075, 'bits': 4340, 'ways': 2466, 'deeper': 5077, 'tow-joes': 3890, 'ecru': 5079, 'belly-aching': 3722, 'brown': 5080, 'scientific': 3349, 'cannot': 1705, 'lushmore': 5082, 'troy': 2467, 'hug': 1706, 'cueball': 2468, 'fast-paced': 4399, 'whoops': 5084, 'gold': 897, 'hated': 1074, 'handshake': 5086, \"showin'\": 2469, 'milhouses': 5087, 'valuable': 5088, 'witty': 2470, 'conclude': 5089, 'ivana': 1284, 'line': 1325, 'man:': 1075, 'cocking': 6621, 'hangover': 5092, 'together': 790, 'neighbor': 2471, 'much': 177, 'confidence': 2472, 'unbelievable': 5093, 'chipped': 5094, \"depressin'\": 5096, 'officer': 5809, '_montgomery_burns:': 339, \"number's\": 5097, 'terrible': 791, 'hardhat': 5098, 'top': 792, \"fun's\": 5099, 'left': 430, 'so-called': 2302, 'neck': 1326, 'rent': 5100, 'grandmother': 2473, 'kirk_voice_milhouse:': 5102, 'piece': 1155, 'hers': 5103, 'cleaning': 5104, 'talk-sings': 1719, 'ringing': 2474, 'carney': 5105, 'thomas': 5106, 'tender': 5107, 'stool': 939, 'planet': 2475, 'enhance': 5108, '_kissingher:': 1477, \"neighbor's\": 5109, 'frontrunner': 5110, 'us': 149, 'quickly': 431, 'pills': 5004, 'barflies': 644, 'away': 323, 'hispanic_crowd:': 5948, 'mimes': 5111, 'jubilant': 2476, 'deliberate': 2317, 'sure': 129, 'nurse': 5113, 'proud': 1051, 'smelly': 5115, 'breaks': 5116, 'thru': 2477, 'choices': 5201, 'private': 645, 'huddle': 5118, 'squirrels': 3688, 'jerk': 1327, 'bathing': 2478, 'ollie': 2479, 'tomato': 5121, 'teen': 5122, 'do': 52, \"someone's\": 2480, 'nonsense': 5123, 'relaxed': 5124, 'twenty-five': 1708, \"dimwit's\": 5125, 'recreate': 5126, 'cleaner': 2481, 'snorts': 2482, 'krabappel': 2315, 'thoughtfully': 2483, 'hospital': 1077, \"couldn't\": 500, 'inspire': 2484, 'school': 456, 'hemoglobin': 5127, 'warranty': 4700, 'paparazzo': 5129, 'flashing': 4706, 'hops': 5464, 'versus': 5130, 'unavailable': 5836, 'hampstead-on-cecil-cecil': 5131, 'pint': 2790, 'screws': 5133, 'stalwart': 5134, 'pushes': 6487, 'increasingly': 2486, 'infatuation': 4570, 'percent': 2487, 'video': 1328, 'woo-hoo': 1798, 'arrested:': 5138, \"game's\": 2581, 'mm': 2488, 'doreen:': 2489, 'due': 2380, 'diaper': 5141, 'dazed': 5142, 'program': 1709, 'jay': 5143, 'sober': 1079, 'stopped': 1710, 'enjoy': 1329, 'twice': 2490, 'militia': 5144, \"isn't\": 296, 'flowers': 1305, 'stand': 589, 'oww': 5146, 'quimby': 5147, 'marry': 5148, 'suds': 2392, 'promised': 2491, 'beach': 1080, 'swooning': 5150, 'fly': 1484, 'excuse': 414, 'lifetime': 5152, 'refiero': 5153, 'son-of-a': 5749, \"cont'd:\": 3254, 'crowbar': 5155, 'project': 2492, 'show': 275, 'gentles': 5156, 'dozen': 5157, 'duke': 5158, 'control': 5159, 'sticking-place': 6490, 'richard': 5161, 'jokes': 5162, 'delts': 5841, 'sold': 1330, 'law': 1712, 'banquet': 5164, 'itchy': 5165, 'conditioner': 2493, 'bread': 2494, 'issues': 5167, 'x': 1081, 'great': 170, 'duffman': 704, 'crestfallen': 6494, 'allegiance': 5169, 'shush': 5170, 'à': 1331, 'notorious': 5171, 'looked': 1713, 'person': 646, \"usin'\": 5206, 'arse': 5173, 'rash': 5174, 'unlucky': 1714, 'gun': 2495, \"bladder's\": 5175, 'massachusetts': 5176, 'shoulda': 6026, 'department': 2496, 'prime': 1715, 'patented': 5177, 'nervous': 341, 'east': 5178, 'junior': 1716, 'jolly': 1717, 'homesick': 5180, 'mason': 5181, 'eva': 5182, 'jernt': 5183, \"president's\": 5184, 'fragile': 2497, 'shoes': 5185, 'her': 112, 'toasting': 1718, 'bugging': 2498, 'species': 5186, 'falcons': 2499, 'dumbass': 3208, 'eve': 5188, 'home': 195, 'partners': 4126, 'jazz': 5190, \"payin'\": 2500, 'non-losers': 5191, 'here-here-here': 5192, 'examples': 5193, 'little_hibbert_girl:': 5194, 'mild': 5195, 'effects': 2501, 'access': 5196, 'suicide': 1082, \"kearney's_dad:\": 5197, 'ned_flanders:': 340, 'youth': 5198, 'play': 254, 'windowshade': 5199, 'tubman': 5200, 'hooters': 5117, 'fresh': 2502, 'hundreds': 5202, 'laid': 5203, \"wouldn't\": 368, 'harv:': 915, 'jovial': 5204, 'riding': 2503, 'grumbling': 5205, 'chocolate': 1332, 'frozen': 5172, 'carnival': 5207, 'defeated': 2504, 'cheap': 1720, 'still': 190, 'mean': 181, 'comeback': 5208, 'strongly': 6503, 'comment': 5209, 'winner': 5210, 'kermit': 1722, 'proper': 5211, 'homie': 793, 'pats': 1558, 'weekend': 5212, 'exit': 1723, 'belt': 2508, 'bottle': 581, 'acquaintance': 2511, 'device': 5214, 'prince': 4625, 'laughs': 312, 'edison': 1724, 'declan': 5215, 'kiss': 794, 'agent_miller:': 4492, 'to': 13, 'easygoing': 3912, 'neon': 5217, 'rings': 5218, 'defensive': 1725, 'hafta': 5219, 'aboard': 3398, 'hillary': 5222, 'snackie': 5223, 'accepting': 4495, 'sandwich': 2507, 'later': 705, 'thought_bubble_homer:': 2531, 'unfresh': 5225, 'sponsoring': 5226, 'thoughts': 1726, 'whoa-ho': 5227, 'jail': 1727, 'awful': 1635, \"secret's\": 5229, 'hans:': 1334, 'stands': 2537, 'large': 2509, 'loyal': 5230, 'tastes': 1728, 'cummerbund': 5318, 'uglier': 5231, 'multiple': 2510, 'neil_gaiman:': 2250, 'couple': 706, 'checking': 1858, 'nitwit': 5336, 'help': 196, 'bottoms': 5233, 'automobiles': 5234, '<hyphens>': 66, 'telephone': 5213, 'across': 923, 'leg': 1894, 'haws': 5235, 'alls': 3266, \"tab's\": 5236, 'chorus:': 5237, 'permitting': 5238, 'pen': 6511, 'oooo': 3267, 'celebrate': 5239, 'bleacher': 5240, 'alphabet': 2513, 'rip': 5242, 'tie': 2514, 'naval': 5243, 'fledgling': 3707, 'principal': 917, 'pirate': 2515, 'drunkening': 5245, 'parenting': 5246, 'hop': 2516, 'dum-dum': 5247, 'begins': 2517, 'sending': 5419, 'squad': 6170, 'folks': 1348, \"'topes\": 2519, 'furious': 1333, 'scout': 5548, 'bigger': 2520, 'mumbling': 2521, 'schorr': 3270, 'bender:': 1084, 'crystal': 5249, 'disturbing': 5250, 'severe': 1732, 'snapping': 5251, \"duff's\": 5252, \"idea's\": 6514, 'hmf': 5254, 'hustle': 5255, 'vincent': 5256, '70': 5257, 'settles': 5258, 'difficult': 2523, 'indecipherable': 5259, 'self-esteem': 2524, 'rewound': 5260, 'mugs': 5261, 'four-star': 5262, 'linda_ronstadt:': 5263, 'quarterback': 5264, 'catch-phrase': 5265, \"stabbin'\": 5266, 'interesting': 5267, 'nasa': 2672, 'pantry': 4390, 'filthy': 1085, 'open-casket': 5269, 'statesmanlike': 5270, 'offensive': 5271, 'teddy': 2525, 'novelty': 3637, \"lovers'\": 5273, 'sitting': 795, 'ye': 2526, 'usually': 1335, 'corporate': 2527, 'boozehound': 5275, 'worst': 918, 'dirt': 1733, 'goldarnit': 5276, 'change': 583, 'insulin': 5277, \"fendin'\": 5278, 'tremendous': 5279, 'pleading': 2528, 'wrong': 355, 'touchdown': 1734, 'raise': 2018, 'drawer': 5280, 'palm': 2530, 'wipes': 5224, 'endorse': 1735, 'gig': 5281, 'mrs': 796, 'studio': 2532, 'warning': 5282, 'cut': 538, \"kiddin'\": 797, 'honey': 919, 'backbone': 5283, 'beanbag': 5284, 'shells': 5285, 'shark': 5286, 'aah': 5287, 'french': 1086, 'correct': 1336, 'done': 369, 'scared': 811, 'feisty': 5289, 'abandon': 2618, 'owned': 5290, 'na': 392, 'nickels': 2534, 'entirely': 2535, 'muscles': 5292, 'composite': 3350, 'sideshow': 4176, 'slaves': 5295, 'afterglow': 5296, 'vacation': 2536, 'bet': 920, 'contemplated': 5297, 'understood': 6504, 'seems': 798, 'roz': 3588, 'yap': 1337, 'weapon': 5299, 'heh': 647, 'result': 5300, 'thought_bubble_lenny:': 5301, 'shutup': 5302, 'vance': 1338, 'heaven': 921, 'like': 39, 'moustache': 5303, 'replace': 5304, 'sleigh-horses': 5305, 'playful': 2324, 'accent': 1111, 'dentist': 5309, 'swings': 5310, 'inspection': 1737, 'worse': 582, 'charlie': 2538, 'hunter': 1738, 'helped': 1991, 'wobble': 5311, 'yelling': 2540, 'crisis': 5312, 'going': 182, \"'\": 5314, 'sodas': 2541, \"everyone's\": 1339, 'stood': 5316, 'games': 1083, 'banks': 1739, 'march': 5319, 'muscle': 5320, 'heroism': 5321, 'craphole': 1956, \"mo'\": 5323, 'ninety-eight': 5324, 'beatings': 5325, 'drinker': 5326, 'detective_homer_simpson:': 1088, 'merchants': 5327, 'mess': 2542, 'ahh': 800, 'emporium': 5328, 'rationalizing': 5330, 'course': 539, 'one': 60, 'swig': 5332, 'lou:': 922, 'bide': 5333, 'clientele': 1740, 'ask': 356, 'lenses': 5834, 'hoping': 1341, 'somewhere': 1742, 'housewife': 3595, 'sanitation': 5334, 'squishee': 5335, 'than': 183, 'waylon_smithers:': 342, 'fdic': 2985, \"poisonin'\": 3514, 'mouths': 5337, 'rainier': 5338, 'reactions': 5340, 'robot': 5341, 'oils': 5342, 'take-back': 5343, 'starla': 5344, 'raking': 6004, 'triple-sec': 5345, 'pitcher': 1342, \"speakin'\": 5346, 'grrrreetings': 5347, 'gabriel': 5348, 'orgasmville': 5349, 'dash': 5350, 'bed': 997, 'meteor': 6337, 'odor': 5351, 'forty': 1343, 'beer': 81, 'happier': 801, 'lessee': 5352, 'pine': 5353, 'gently': 1743, 'england': 5354, 'thesaurus': 2545, 'flash-fry': 5355, 'insured': 4614, 'falsetto': 5357, 'disgraceful': 5358, 'above': 1744, 'killarney': 5359, 'film': 1824, 'be': 43, 'yourselves': 2546, 'jerk-ass': 5361, 'flaming': 501, 'attitude': 2547, 'although': 2548, 'slot': 5362, 'sacrifice': 3932, 'lately': 1745, 'correction': 5364, 'of': 15, 'barely': 2549, \"coffee'll\": 5365, \"stinkin'\": 1746, 'letter': 708, 'decent': 2550, 'drunk': 214, 'chairman': 5366, 'nervously': 3291, 'las': 5367, 'jukebox_record:': 5368, 'strawberry': 5369, 'fonzie': 5370, 'champignons': 5371, 'eats': 5372, 'impeach': 5373, 'revenge': 6215, 'punching': 5374, 'grudgingly': 5375, 'bar': 110, 'slobs': 5377, \"floatin'\": 5378, 'far': 648, 'opens': 5379, 'reluctant': 5380, 'layer': 5381, 'son': 802, 'plow': 1345, 'realize': 2551, 'prohibit': 2287, 'mulder': 5382, 'uneasy': 1747, 'consulting': 5383, 'octa-': 5384, 'passenger': 5385, 'jockey': 2552, 'whatchamacallit': 5386, 'barf': 2553, 'sub-monkeys': 5387, 'maman': 2554, 'wide': 1802, 'bags': 2833, 'cake': 2555, 'slobbo': 5391, 'habit': 5392, \"fans'll\": 5393, 'hall': 1851, 'liar': 2556, 'hollowed-out': 5395, 'gotta': 117, 'two': 131, 'traffic': 1489, 'caught': 1090, \"money's\": 2557, 'able': 1346, 'named': 1091, 'teenage_bart:': 1347, 'smells': 924, 'highway': 2558, 'moonshine': 6315, 'awed': 2559, 'smithers': 432, 'against': 1092, 'sat': 2560, 'hang': 803, \"it'd\": 2561, 'tuna': 5397, 'irishman': 5398, 'appointment': 2562, 'horrible': 804, 'l': 1748, 'lovelorn': 5399, 'julienne': 5400, 'perfunctory': 5401, 'horns': 3610, 'theme': 5403, 'blamed': 5404, 'skeptical': 2013, 'dies': 5406, 'disillusioned': 5407, 'stadium': 1749, 'repeating': 5408, 'shopping': 3943, 'pointed': 1422, 'italian': 5410, 'bartenders': 2563, 'lily-pond': 5411, 'los': 5412, 'mansions': 5413, 'wiener': 1750, 'damage': 5414, \"smokin'\": 5415, \"g'ahead\": 5417, 'fausto': 2564, 'turned': 649, 'dancing': 1751, 'ding-a-ding-ding-ding-ding-ding-ding': 5418, 'effigy': 2565, 'crank': 1752, 'fondly': 2518, 'americans': 5886, \"donatin'\": 5420, 'delightful': 5421, \"lenny's\": 1753, 'lemonade': 6543, 'ran': 1730, 'kramer': 2566, 'maya:': 925, 'old_jewish_man:': 5422, 'guzzles': 5423, 'lofty': 5424, 'kisses': 5425, 'smug': 2567, 'earth': 5426, 'anywhere': 2568, 'helping': 5427, 'dashes': 5428, 'connor-politan': 5429, 'asleep': 5430, 'suburban': 5431, 'feels': 1349, 'chosen': 5432, 'his': 88, \"father's\": 2338, 'intruding': 5434, 'walking': 780, 'elect': 5436, 'besides': 5437, 'this': 23, 'lazy': 2569, 'dropping': 5438, 'queen': 2570, 'butterball': 5440, 'mole': 5441, 'ticket': 709, 'instantly': 5442, 'whisper': 1350, 'startled': 5443, 'rupert_murdoch:': 5444, 'ideal': 5445, 'spooky': 5446, 'payments': 2571, 'spending': 1760, 'terrified': 1883, 'dollar': 1351, 'freaking': 5449, 'generosity': 5450, 'tom': 1352, 'presentable': 5451, 'belly': 1754, 'platinum': 5452, \"'bout\": 650, 'cheering': 5453, 'bull': 3430, 'roses': 2572, 'awe': 2573, 'sanctuary': 5456, 'clubs': 5457, 'sadly': 540, 'decision': 5458, 'occupied': 5459, 'pouring': 2574, 'public': 1755, 'fortensky': 5460, 'pudgy': 5461, 'tell': 143, 'taxi': 5462, 'france': 1353, 'half-day': 5463, 'reads': 1756, 'gamble': 3298, 'chipper': 6181, 'nahasapeemapetilon': 5945, 'fonda': 5465, 'land': 4003, 'elocution': 5466, 'frazier': 5467, \"hole'\": 5468, 'intense': 2889, 'behind': 541, 'bartending': 2576, 'renovations': 5470, \"wonderin'\": 2577, 'detective': 5471, 'oil': 1757, 'bets': 2361, 'grow': 1758, 'wound': 5473, 'isotopes': 1095, 'bushes': 5474, \"homer'll\": 5475, 'chilly': 2578, 'presided': 5476, \"other's\": 2579, 'caper': 5477, 'eightball': 5478, 'drop': 1759, 'rafters': 2939, 'seymour_skinner:': 206, 'wally:': 1354, 'wishing': 5479, 'marvin': 1761, 'rid': 1608, 'seem': 1355, 'shack': 5481, 'actually': 351, 'statue': 5482, 'calling': 502, 'throat': 584, 'drive': 503, 'i-i': 1096, 'arise': 5483, 'choices:': 5484, 'accelerating': 5485, 'sharity': 5486, 'california': 3001, 'aggravazes': 5488, 'throw': 710, 'self-made': 2582, 'told': 457, 'employees': 5489, 'grampa': 805, 'meal': 2170, 'scientists': 5491, 'enthusiastically': 3029, 'wikipedia': 5493, 'never': 93, 'freely': 5494, 'wonder': 1097, 'indeedy': 5495, 'stingy': 5496, 'businessman_#2:': 3055, 'heh-heh': 5498, 'seconds': 953, 'boxer': 2583, 'anything': 304, 'bonding': 5500, \"'cause\": 215, 'log': 5501, 'magazine': 1953, 'blade': 5503, 'jane': 5504, 'arms': 1356, 'caholic': 5505, 'brothers': 2584, 'kirk_van_houten:': 504, 'honest': 893, 'family': 343, 'scooter': 2585, 'friends': 287, 'covers': 1478, \"tester's\": 2171, 'carmichael': 5508, 'voodoo': 5509, 'dizzy': 5510, 'pretzels': 5511, \"d'\": 4804, 'squabbled': 5513, 'oak': 5514, 'drawing': 2586, 'convinced': 3173, 'romantic': 927, 'strap': 1098, 'glad': 806, 'sight-unseen': 5516, 'thoughtful': 1357, 'said': 239, 'loboto-moth': 5517, 'hems': 5518, 'groan': 3205, 'needs': 983, 'blessing': 5520, 'sunk': 5521, 'freshened': 5522, 'conversion': 3220, 'threw': 1358, 'loudly': 5523, 'pays': 1480, 'anyhow': 3238, 'cheat': 2589, 'chastity': 5906, 'enthused': 5524, 'bitter': 851, 'hour': 1762, 'hearts': 5526, \"thing's\": 5527, 'choice': 1359, 'patting': 5529, 'chuckles': 313, 'unsourced': 5531, 'snow': 1990, 'fixes': 5533, 'fills': 6264, 'hygienically': 3285, 'onions': 1995, 'feedbag': 5535, 'notch': 5536, 'all-all-all': 6562, 'sweaty': 3301, 'terminated': 5559, \"bashir's\": 5538, 'gordon': 5539, 'sabermetrics': 2590, 'wreck': 5272, 'pugilist': 5540, 'statues': 5541, 'unattractive': 5542, 'washer': 5543, 'stick': 651, 'super': 505, 'pal': 433, 'christmas': 711, 'snake': 1361, 'motel': 1763, 'perplexed': 3348, 'choice:': 5544, 'germany': 5545, 'couch': 1362, 'david_byrne:': 1363, 'religion': 1764, 'brunswick': 5546, 'hugh:': 1364, 'fury': 3381, 'bourbon': 2592, 'collette:': 808, 'gestated': 5547, 'ear': 4665, 'naegle': 5549, 'computer': 1436, 'peppers': 5062, 'duff': 216, 'cheesecake': 5550, 'chair': 5551, 'coney': 1516, 'strokkur': 5553, 'tropical': 5554, 'mortal': 5555, 'delicate': 5556, 'sees/': 6604, 'upset': 543, 'inspiring': 2593, 'pay': 415, 'ventriloquism': 5557, 'badmouth': 5558, 'first': 229, 'procedure': 1365, 'barney-shaped_form:': 1765, 'longest': 4695, 'nor': 4762, \"takin'\": 2594, 'united': 5561, 'enlightened': 5562, 'on': 28, 'blood': 712, 'assumed': 5563, 'continuum': 5564, 'exhaust': 1805, \"doin'\": 357, 'greedy': 2595, 'greatly': 6568, 'lenny:': 2044, 'disgusted': 586, 'jewish': 5568, 'week': 928, 'dory': 5569, 'wipe': 1766, 'forgiven': 5570, 'spare': 5571, 'tied': 5572, 'smallest': 2596, 'beyond': 5573, 'go-near-': 3548, 'met': 1767, 'raggie': 3494, 'legs': 1366, 'grieving': 5575, 'sunday': 1099, 'ignoring': 5576, 'sets': 5577, 'jar': 1100, 'gardens': 5578, 'sister': 1367, 'hear': 325, 'perverted': 5579, 'disapproving': 2598, 'linda': 2599, 'clothespins:': 5581, 'hearse': 5582, 'miserable': 1768, 'soaps': 5583, 'tv': 207, 'loved': 929, 'tyson/secretariat': 5584, 'outta': 326, 'moon-bounce': 5585, \"santa's\": 5586, 'kemi:': 416, 'spiritual': 5587, 'allow': 5914, 'extract': 5590, 'cotton': 2600, 'recommend': 1784, 'fears': 5591, 'tin': 5592, 'quit': 458, 'yee-haw': 1769, 'lance': 5593, 'offer': 1368, 'boxing_announcer:': 2602, 'hooked': 4910, 'pasta': 5594, 'breath': 1225, \"i-i'm\": 1770, 'thoughtless': 5596, 'genius': 2603, 'gruff': 5597, 'sen': 5598, 'customer': 1771, 'yee-ha': 5599, 'fence': 5600, 'therefore': 2604, 'any': 209, 'upbeat': 1369, 'lanes': 5601, 'changing': 1101, 'togetherness': 5602, 'spews': 5603, 'disgracefully': 5604, 'me': 21, 'crummy': 1772, 'adequate': 5605, 'oblongata': 5606, 'high-definition': 3183, \"tramp's\": 5607, 'nothing': 713, 'screw': 809, 'publishers': 5608, 'putty': 5609, 'western': 3758, 'flashbacks': 5611, 'aside': 1575, 'handle': 2529, 'scum': 1773, 'spotting': 3783, 'losing': 1774, 'ech': 2606, 'sponge': 5614, 'camera': 459, 'albert': 5615, 'notice': 3801, 'romance': 5617, 'post-suicide': 4225, 'social': 2298, 'self-centered': 5619, 'hurt': 434, 'teach': 1370, 'coins': 2023, 'lou': 5620, 'verdict': 5621, 'giving': 931, 'enterprising': 5622, 'runs': 4655, 'tons': 4727, 'filled': 2145, 'fudd': 2607, 'tar-paper': 3868, 'alarm': 6578, 'babe': 2608, 'tv_father:': 1775, 'szyslak': 932, 'recorder': 5627, 'retain': 5628, 'je': 5629, 'swimming': 5630, 'needed': 1371, 'idioms': 5631, 'decide': 1921, 'mind': 714, 'bathtub': 5633, 'compels': 5634, 'understand': 1372, 'bad-mouth': 5635, 'favorite': 810, 'eggshell': 5636, 'mount': 2609, 'gibson': 5637, 'spoon': 5638, 'difference': 5315, 'dough': 2610, 'subscriptions': 5639, 'has': 178, 'slip': 1777, 'risqué': 5640, 'angel': 2611, 'though:': 5641, 'crowds': 5642, 'suru': 5643, 'desperately': 5644, 'hiding': 6684, 'propose': 5645, 'socratic': 5646, 'obsessive-compulsive': 3327, 'dea-d-d-dead': 5648, 'ambrose': 5649, \"it'll\": 587, 'stars': 6367, 'managed': 5650, 'start': 585, 'wayne': 2612, 'sadder': 1778, 'rascals': 6581, 'harmony': 5651, \"fallin'\": 2614, 'sympathizer': 5652, 'rage': 2615, 'office': 5653, 'balloon': 5654, 'cuz': 5655, 'runners': 5656, 'nigel_bakerbutcher:': 933, 'supermodel': 5657, 'wooooo': 1807, \"school's\": 5658, 'ago': 1102, \"i'll\": 96, 'moolah-stealing': 5659, 'scornful': 5660, 'straight': 588, 'befouled': 2617, 'third': 1103, 'ab': 5661, 'complaining': 2533, \"here's\": 305, 'enter': 5662, 'sisters': 1582, 'ron': 4110, 'mafia': 1779, 'delete': 611, 'southern': 5664, 'solely': 3311, 'handed': 5666, 'into': 123, 'bum:': 6584, 'ruled': 5667, 'poplar': 5668, 'men:': 1780, 'bible': 2620, 'supplying': 5669, 'born': 1801, 'training': 6585, 'th-th-th-the': 5671, \"stealin'\": 5672, 'whaaa': 6586, 'focused': 5673, 'beer-dorf': 5674, 'bob': 1781, 'myself': 358, 'lost': 327, 'walked': 5747, 'around': 191, 'mither': 5675, 'involved': 2622, 'rafter': 5676, 'murmur': 2623, 'wakede': 3496, 'choked-up': 3921, 'wuss': 3128, 'negative': 5680, 'mac-who': 5681, 'ignorance': 5682, 'tearfully': 5683, 'round': 812, 'alva': 5684, 'plywood': 2624, 'toys': 1783, 'move': 813, 'suit': 1104, 'mission': 4268, 'helen': 2625, 'brine': 5686, 'tax': 2626, 'really': 102, 'says': 328, 'peanut': 2627, 'twenty-nine': 5687, 'shareholder': 5688, 'calmly': 2628, 'chicken': 5689, 'shag': 5690, 'exited': 4313, 'find': 262, 'sooo': 5692, 'ominous': 1267, 'wish': 344, 'skins': 5694, 'brain': 1373, 'reserve': 2629, 'girl': 276, 'newsweek': 4343, 'add': 5696, '<question_mark>': 10, 'states': 5697, 'save': 435, 'handsome': 1087, 'deals': 5698, 'boys': 727, 'neighboreeno': 4372, 'contractors': 5700, 'sells': 5701, 'fraud': 1613, \"stallin'\": 5702, '/mr': 5703, 'contract': 5416, 'none': 1105, 'hats': 2630, 'trucks': 5705, 'bites': 4406, 'ihop': 4414, '7g': 5707, 'travel': 5708, 'alternative': 5709, 'sudden': 2631, 'dreamed': 2632, 'quebec': 5711, 'heather': 5712, 'cherry': 5179, 'ad': 1107, 'punkin': 5298, 'buttocks': 5187, 'city': 814, 'poison': 5714, 'twenty-two': 1785, 'reach': 2707, 'hike': 5716, 'shrugging': 2633, 'maitre': 5717, 'annual': 5718, 'brainheaded': 5719, 'dealie': 5720, 'schemes': 4496, 'wildest': 5722, 'gloop': 5723, 'richard:': 3006, 'takes': 935, 'pond': 2635, 'face': 208, 'speak': 1108, 'friendship': 2636, 'ducked': 5726, 'cutie': 2637, 'louse': 5727, 'rented': 5728, 'chumbawamba': 5729, 'insults': 5730, 'schizophrenia': 5731, 'toe': 5732, 'corkscrews': 5733, 'compliments': 2638, 'positive': 2639, 'exact': 5734, 'barney-type': 5735, 'chicks': 2640, 'pitch': 2641, 'rector': 5736, 'intakes': 5737, 'thirty-five': 5738, 'telegraph': 4576, 'excuses': 5740, 'meaningfully': 5741, 'ultimate': 5742, 'fella': 5743, 'sudoku': 5744, 'bubble': 2642, \"foolin'\": 5745, 'honor': 2643, 'waylon': 2644, 'slaps': 5746, 'settled': 4052, 'respect': 1374, 'touch': 5748, 'page': 1971, 'too': 104, 'spite': 3556, 'blokes': 5750, 'email': 5751, 'bedbugs': 2333, 'carl_carlson:': 45, 'e': 5839, 'impatient': 2646, 'sleeping': 5753, 'tasty': 5754, \"buyin'\": 1375, 'fayed': 5755, 'matter-of-fact': 2647, 'leftover': 4685, 'seductive': 5757, 'go': 77, 'nursemaid': 5758, 'transmission': 5759, 'dateline': 5760, 'three': 217, 'slight': 2648, 'bastard': 2649, 'superdad': 5761, 'undermine': 5762, 'shaking': 1109, 'invited': 1110, 'avec': 4136, 'white': 2650, 'bashir': 2891, 'darkest': 2651, 'boggs': 5765, 'gary:': 1786, 'kim_basinger:': 5766, 'aiden': 5767, 'latour': 5768, 'advantage': 2652, 'right-handed': 5307, 'unusually': 5769, 'fan': 1376, 'horrified': 1112, 'paint': 815, 'actor': 5771, 'sink': 5772, 'permanent': 5773, 'forced': 5774, 'rom': 5775, 'alley': 1787, 'floated': 2653, 'almond': 5776, 'lay': 5777, 'enemies': 1788, 'sternly': 5778, 'harder': 2393, 'cleveland': 5780, 'brow': 2654, 'pets': 6599, 'peace': 1789, 'direction': 5890, 'doug:': 2399, 'ahem': 5783, 'dennis_conroy:': 1377, 'breathtaking': 5784, 'poem': 2655, 'sinister': 2656, 'flexible': 5785, 'girlfriend': 1378, 'moe-ron': 5786, 'starting': 1790, '50-60': 5787, 'author': 6748, 'sun': 5788, \"wino's\": 3272, 'securities': 2005, 'sometimes': 2657, '$42': 5790, 'ate': 5791, 'country': 5792, 'message': 2658, 'therapy': 1379, 'patrons': 5793, 'specials': 5794, 'ticks': 5795, 'how': 70, 'career': 1380, 'press': 5796, 'lurks': 4911, 'dreamily': 5797, 'aged': 5798, 'grammy': 5799, 'announcer:': 1113, 'lincoln': 5801, 'seas': 2659, \"c'mom\": 4304, 'applesauce': 5802, 'fox': 2660, 'driving': 1114, 'bumpy-like': 5803, 'rueful': 5804, 'ever': 154, 'pharmaceutical': 5805, \"coaster's\": 5806, 'dae': 5807, 'bill': 1381, 'its': 1688, 'jeff': 2661, 'brockman': 1162, 'lips': 1382, 'incarcerated': 5810, 'barbara': 5811, 'dregs': 5135, 'movie': 1115, 'gift': 1793, 'burps': 1383, 'mcstagger': 2662, 'something': 150, 'especially': 1384, 'lisa': 288, 'optimistic': 5813, 'landfill': 5293, 'jeez': 1116, 'clammy': 5814, \"she'd\": 6686, 'compadre': 5020, 'absolutely': 1117, 'eu': 5816, 'lennyy': 3368, 'cobra': 5817, 'book': 345, 'infiltrate': 4276, 'hare-brained': 5819, 'pathetic': 1794, 'opening': 1698, 'friend:': 5821, 'seat': 817, 'composer': 5044, \"can'tcha\": 5823, 'twentieth': 5824, 'betrayed': 5825, \"he'll\": 818, 'contemptuous': 5067, 'sky': 5827, 'energy': 2663, 'handing': 2664, \"drawin'\": 2665, 'abolish': 5828, 'represents': 5829, 'scanning': 5831, 'event': 5832, 'sob': 1118, 'billy_the_kid:': 1119, 'general': 1795, 'artist': 6716, 'frankie': 5833, '<period>': 0, 'license': 1796, 'gag': 1797, 'fatso': 5835, 'fevered': 2666, 'deserve': 2485, \"'roids\": 5837, 'sheriff': 5838, 'irrelevant': 3639, 'inspector': 1799, 'ha-ha': 2353, 'grumpy': 2667, 'lib': 2668, 'register': 1800, 'believe': 329, 'hyper-credits': 5840, 'adopted': 5163, 'jumps': 2669, 'freed': 5842, 'samples': 5168, 'powered': 5844, 'fantasy': 5845, 'margarita': 2670, 'welcome': 779, 'liver': 1385, \"dyin'\": 2671, 'jerks': 1120, 'confession': 5847, 'railroads': 5848, '_zander:': 1121, \"it's\": 48, 'lucius:': 819, 'generally': 5849, 'dimly': 5850, 'michelin': 5851, 'gheet': 5852, 'presidential': 5853, 'playhouse': 5854, 'updated': 5855, 'albeit': 4032, 'park': 1122, 'motor': 5322, 'biggest': 1011, 'wha': 1123, 'kill': 417, 'van': 5856, 'caveman': 5857, 'pants': 418, 'tire': 5253, 'sap': 5268, 'poisoning': 5859, 'shoe': 5860, 'asks': 5861, 'saying': 820, 'sunglasses': 5863, 'impending': 5864, 'reading': 394, 'canyoner-oooo': 5865, 'average-looking': 5866, 'oddest': 5867, 'fletcherism': 5868, 'eyed': 5869, 'jackson': 3354, '<left_paren>': 3, 'hm': 1386, 'pepper': 5870, 'lucky': 715, \"didn't\": 169, 'wealthy': 5871, 'peter_buck:': 5872, 'macaulay': 5873, 'agents': 5874, 'homers': 1919, 'e-z': 5875, 'wondered': 6609, 'we-we-we': 5960, 'nigeria': 2674, 'raises': 1387, 'host': 4932, \"cat's\": 2675, 'finger': 1388, 'protecting': 5879, 'fondest': 5880, 'abercrombie': 5881, 'attracted': 5388, 'america': 1124, 'phony': 5882, 'movement': 5883, 'full-bodied': 5884, 'known': 2676, \"what're\": 2677, \"handwriting's\": 5978, 'appalled': 5885, 'men': 937, 'cameras': 1803, \"guy's\": 1040, 'show-off': 5887, 'universe': 5888, 'ivory': 5889, 'ken:': 1340, \"lisa's\": 1094, 'cowboy': 5893, 'clips': 5894, 'label': 1804, 'bam': 2678, \"tv's\": 6235, 'sense': 1389, 'ireland': 5895, 'idiots': 5896, 'gutenberg': 5897, 'skinner': 461, 'alter': 5898, 'is': 22, 'shesh': 5899, 'ginger': 2385, 'stunned': 1125, 'bowled': 5331, 'disturbance': 5901, 'absentminded': 5902, 'moon': 5903, 'extreme': 5519, 'urge': 5567, 'releasing': 5905, 'won': 938, 'radishes': 1390, 'dollars': 393, 'patron_#1:': 5907, 'specializes': 5908, 'creates': 5909, 'ripcord': 2679, 'sexy': 1391, 'captain:': 5910, 'getup': 5911, 'stu': 5912, 'incredible': 4280, 'attempting': 2251, 'ohh': 2680, 'toms': 5913, 'involving': 2681, 'desire': 6606, 'hostages': 5588, 'doom': 5915, 'dude': 1126, 'small_boy:': 5917, 'presumir': 5918, 'presidents': 4975, 'young_moe:': 2682, 'gonna': 78, \"wait'll\": 5919, 'dignity': 5920, 'aziz': 5921, 'certified': 5922, 'considers': 5923, 'everybody': 257, 'timbuk-tee': 5924, 'feeling': 462, 'braun:': 4288, 'expression': 2683, 'confident': 2616, 'howya': 5926, 'polygon': 5927, 'crapmore': 5928, 'burns': 373, 'slugger': 5929, 'hawking:': 2684, 'depending': 5930, 'murmurs': 2685, 'solved': 5931, 'measure': 5932, 'juan': 5933, 'cheaped': 5934, 'specialists': 5935, 'joe': 653, 'yours': 2686, 'archaeologist': 5936, 'displeased': 5937, 'yammering': 5938, 'arm': 716, 'am': 127, 'africa': 2687, 'riveting': 5940, 'anyone': 506, 'good': 82, 'alec_baldwin:': 5941, 're:': 1393, 'record': 2688, 'carlotta:': 5942, 'politicians': 5943, 'paramedic:': 6376, 'manager': 2689, 'mention': 2690, 'dirty': 5944, 'brother-in-law': 5830, 'blissful': 5946, 'pin': 2691, 'from': 76, 'cheated': 6618, 'fights': 5947, 'quite': 1394, 'plant': 821, 'midnight': 1808, 'coast': 6329, \"chewin'\": 2692, 'coughs': 6695, 'tavern': 346, 'words': 756, \"they've\": 1439, 'asking': 2693, 'chance': 544, 'beeps': 5950, 'new': 166, 'cow': 1127, 'flips': 1395, 'created': 5951, 'thousands': 5952, 'stumble': 5953, 'ugliest': 2694, 'extinguishers': 5954, 'meanwhile': 6434, 'served': 2695, 'rusty': 5955, 'tourist': 5956, 'goods': 2696, 'score': 5957, 'ayyy': 2697, \"yieldin'\": 5958, 'inherent': 5959, 'players': 5877, \"kids'\": 1809, 'delivery': 2700, 'veux': 5962, 'colossal': 5963, 'beards': 5974, 'boo': 1810, 'ground': 1811, 'sequel': 6200, 'grabs': 1812, 'sly': 1396, 'k': 1813, 'expose': 5965, 'sitcom': 6464, 'guinea': 5966, \"choosin'\": 5967, 'oopsie': 5968, \"rasputin's\": 5969, 'embarrassed': 1397, 'full-time': 5970, 'scatter': 5971, 'deliberately': 5589, 'voice:': 2698, 'dressed': 1814, 'meaningful': 1398, 'cocktail': 1815, 'strain': 5973, 'shower': 2699, 'prep': 4976, 'you-need-man': 5964, 'skinny': 5975, 'oughtta': 6111, 'horrors': 5976, 'bret:': 1816, 'lecture': 5977, 'wore': 4302, 'gargoyle': 2701, 'noggin': 5979, 'drains': 5980, 'onassis': 5981, 'dean': 4355, 'tapping': 5982, 'second': 610, 'heading': 2702, 'option': 5983, 'curds': 2359, 'chunky': 6627, 'sue': 5986, 'replaced': 5987, 'said:': 5988, 'sponsor': 4726, 'ninety-nine': 5990, 'frosty': 2703, 'binoculars': 5991, 'holds': 871, 'icy': 5993, \"hell's\": 5994, 'miles': 2704, 'mistakes': 5995, \"gettin'\": 592, 'feminist': 5996, 'lee': 5997, 'elite': 5998, 'earrings': 5999, 'sea': 2705, 'designer': 6635, 'comfortable': 1817, 'buds': 6000, '<quotation_mark>': 20, 'might': 265, 'gets': 464, 'banquo': 2709, 'alibi': 6001, 'noticing': 1818, 'step': 1819, 'pick': 436, 'malted': 4215, 'somehow': 2710, 'sass': 6002, 'stripe': 6631, 'super-nice': 6003, 'freak': 2746, 'viva': 6005, 'pridesters:': 6006, 'filed': 6007, 'characteristic': 6008, 'repairman': 5241, 'bars': 1399, 'ripped': 6010, \"changin'\": 6011, '21': 6012, 'wittgenstein': 6013, 'carl:': 1909, 'depressing': 6015, 'marquee': 6014, 'writers': 2711, 'politics': 2712, 'acquitted': 6016, 'junkyard': 6201, 'glasses': 1128, 'catching': 2713, \"boy's\": 2917, \"playin'\": 6018, \"pope's\": 2360, 'side': 1129, 'flat': 6019, 'pledge': 6020, 'pink': 6021, 'news': 823, 'failed': 2714, 'cute': 1806, \"children's\": 2763, 'transylvania': 6024, 'shooting': 2715, 'sobo': 6025, 'gin': 1429, 'friend': 197, 'calendars': 6027, 'live': 593, 'wings': 2779, 'depression': 6028, 'realized': 2716, 'watashi': 6029, 'glee': 6030, 'completing': 2717, 'scram': 6031, 'without:': 6032, 'unless': 1130, 'donut': 6033, 'penny': 2544, 'bumbling': 6034, 'found': 718, 'pipes': 1401, 'matter': 330, 'carolina': 6035, 'coyly': 6036, 'whoo': 6037, 'k-zug': 6038, 'microbrew': 6039, 'weak': 1820, 'doy': 6040, 'agree': 2718, 'mags': 6041, 'bubbles': 2719, 'cartoons': 6042, 'eighty-three': 6043, 'watch': 395, \"gentleman's\": 1821, 'easily': 6044, 'malibu': 5992, 'kansas': 4447, 'taught': 6046, 'reciting': 6047, 'delivery_boy:': 2721, \"swishifyin'\": 6048, 'guys': 106, 'verticality': 6049, 'cruel': 2722, 'stink': 6050, 'farthest': 6637, 'talk': 301, 'hyahh': 6053, 'afloat': 6054, 'bon': 6055, 'renew': 6056, 'sooner': 2362, 'gal': 1822, 'got': 54, 'edge': 6057, 'furiously': 6058, 'smiles': 6059, 'bobo': 6060, 'uh': 59, 'reluctantly': 6061, 'easier': 2723, 'bagged': 6062, 'accusing': 6063, 'rainier_wolfcastle:': 2724, 'refreshment': 6064, 'yourself': 419, 'la': 824, 'renee:': 825, 'yes': 232, 'mistresses': 5512, \"bein'\": 1431, 'parasol': 6066, 'stayed': 1823, 'prettiest': 6067, 'shout': 6068, 'journey': 6069, 'partially': 4609, 'dammit': 6071, 'shred': 6072, 'glyco-load': 6073, 'ape-like': 6074, 'ebullient': 5360, 'hole': 1825, 'vodka': 2834, 'tense': 5528, 'grunts': 1826, 'sucking': 6077, 'd': 2365, 'robin': 6078, 'shreda': 6079, 'average': 6080, 'danish': 2725, \"messin'\": 6081, 'edna-lover-one-seventy-two': 6082, 'young_barfly:': 6083, 'stretches': 5710, 'dynamite': 1827, 'hundred': 306, 'perfume': 6085, 'typed': 6086, 'xx': 6087, 'leaving': 6088, 'exhale': 6089, 'challenge': 1828, \"wouldn't-a\": 6090, 'inning': 6091, 'presents': 6092, 'clinton': 2853, 'remembered': 2726, \"drivin'\": 1131, 'minutes': 719, 'casting': 6095, 'ease': 6096, 'secrets': 1402, 'outside': 594, 'não': 5862, 'potato': 2727, 'patron_#2:': 6097, 'dollface': 6098, 'quality': 2728, \"meanin'\": 2364, 'bye': 1403, 'bartender': 547, 'plug': 5149, 'spit-backs': 6100, 'orifice': 6101, 'emotion': 6103, 'pews': 4675, 'charlie:': 6105, \"callin'\": 1132, 'dreams': 2729, 'purse': 2730, 'bar-boy': 1829, 'arabs': 6106, 'certain': 2731, 'heart': 595, 'awfully': 6107, 'edna_krabappel-flanders:': 1133, 'moans': 826, 'wizard': 6108, 'sixty-five': 6109, 'morlocks': 2732, 'woman_bystander:': 2733, \"ma'am\": 2115, 'teacup': 6110, 'famous': 2734, 'refund': 2735, 'corkscrew': 2736, 'jaegermeister': 6646, 'pressure': 2738, 'plain': 2898, 'refresh': 2739, 'midge': 1830, 'broom': 2740, 'run': 827, 'game': 359, 'mobile': 6112, 'rhyme': 2741, 'advertising': 6113, 'sideshow_bob:': 6114, 'shifty': 6115, 'mostrar': 6116, 'rockers': 6117, 'congoleum': 3957, 'wall': 1134, 'speed': 6119, 'weight': 3378, \"liftin'\": 6121, 'telemarketing': 6122, 'microphone': 6123, 'menace': 3614, 'ding-a-ding-ding-a-ding-ding': 2966, 'hide': 733, 'dads': 6125, 'astrid': 6126, 'sentimonies': 6127, 'mini-beret': 3009, 'plants': 6128, 'yellow': 1288, 'environment': 6129, 'gargoyles': 6130, 'eye': 596, 'eternity': 6131, 'paper': 6132, 'push': 1832, 'sprawl': 6133, 'marge': 118, 'quietly': 1136, 'evils': 6134, 'steaming': 6135, 'cases': 6136, 'honored': 2742, \"that'd\": 6137, 'pain': 1175, 'supreme': 6138, 'bitterly': 1833, 'victory': 2743, 'taste': 6139, 'clams': 6140, 'smile': 828, 'pepto-bismol': 3059, 'astronauts': 6142, 'regulars': 2744, 'thirsty': 6143, 'when-i-get-a-hold-of-you': 6144, 'interrupting': 6145, 'baloney': 6146, 'stops': 6147, 'macho': 6148, 'dipping': 6149, 'holy': 4964, 'avenue': 6151, 'specific': 6152, 'depressed': 6153, \"you'll\": 297, 'shorter': 6154, 'railroad': 2745, 'sketch': 6155, 'noises': 474, 'adult_bart:': 1137, 'spits': 5713, 'elephants': 1960, 'lives': 940, 'homer_doubles:': 6159, 'bachelorhood': 6161, \"people's\": 6162, 'perch': 6163, 'relax': 1834, 'concentrate': 6164, 'yogurt': 2882, 'thing': 133, 'scream': 1184, \"homer's\": 347, 'wrapped': 6167, 'shares': 1835, 'employment': 6168, 'gotcha': 3424, 'sneeze': 6169, 'x-men': 5021, 'string': 6171, 'release': 2747, 'anguished': 1836, 'ooh': 240, 'talked': 2748, 'xanders': 6172, 'churchill': 2750, 'disappointment': 6173, 'double': 1837, 'snail': 6174, 'election': 1736, 'burp': 1400, 'horribilis': 6175, 'blend': 2752, 'wonderful': 1138, 'indeed': 6176, 'november': 6177, 'word': 829, 'muertos': 6178, 'trainers': 6179, 'single': 1838, 'prize': 2369, 'mayor': 1139, 'flailing': 6180, 'yards': 2458, 'sealed': 5725, 'sell': 421, 'points': 437, 'spreads': 6182, 'faceful': 6183, 'remain': 6184, 'dint': 6185, 'twenty-six': 3549, 'produce': 6187, 'savvy': 6188, 'slipped': 6189, 'festival': 2753, 'laramie': 2754, 'treasure': 941, 'singing': 249, 'sticker': 3847, 'nine': 747, 'chip': 6192, 'gesture': 6193, 'army': 1839, 'jigger': 6194, 'whispers': 6196, 'buddha': 6197, 'psst': 6198, 'wednesday': 6199, \"feelin's\": 3678, 'higher': 1840, 'bold': 2755, 'out': 51, 'become': 1841, 'photo': 2756, 'look': 103, 'sangre': 3319, 'middle': 1842, 'dinks': 6203, 'diet': 1843, 'fighter': 6204, 'salt': 2757, 'bee': 1140, \"s'cuse\": 6205, 'elizabeth': 6206, 'whatever': 549, 'donate': 3467, 'icelandic': 5506, 'fringe': 6209, 'killing': 6210, 'code': 2758, 'tying': 6211, 'lotsa': 3421, 'alright': 830, 'snort': 1844, 'cable': 1406, 'kissing': 1731, 'crotch': 6213, 'sickened': 6214, 'knowing': 1845, 'stores': 5770, '3rd_voice:': 5691, 'churchy': 6216, 'grammar': 6217, 'explain': 2194, 'breakfast': 3513, \"hadn't\": 2759, 'aggravated': 2049, 'mixed': 2760, 'thnord': 6221, 'bras': 6222, 'adjust': 6223, 'swallowed': 6224, 'unable': 6225, 'labels': 2761, 'beligerent': 4446, 'oblivious': 3717, 'drink': 151, 'kool': 3562, 'courteous': 6227, 'nash': 6228, 'obama': 5052, 'overturned': 6229, 'bell': 6230, 'blaze': 6231, 'dank': 1142, 'sweden': 6232, 'anderson': 6233, 'twenty': 508, 'patty_bouvier:': 721, 'booze-bags': 6234, 'virtual': 2762, 'belches': 1222, 'love-matic': 2506, 'campaign': 1847, 'original': 1185, 'popular': 1848, 'who': 83, \"now's\": 6238, \"tellin'\": 1143, 'guessing': 6022, 'read:': 6239, 'tonight': 246, 'elaborate': 6240, 'ice': 943, 'gil_gunderson:': 6241, 'stab': 5715, 'foil': 2764, 'majesty': 6243, 'civilization': 2765, 'names': 990, 'wolfe': 2766, 'lewis': 6245, 'chapstick': 6246, 'joining': 2767, 'beam': 2768, \"you've\": 192, 'cheaper': 6248, 'augustus': 6249, 'mmmmm': 6250, 'turkey': 1849, 'patient': 2769, 'period': 6251, 'exchange': 2770, 'insecure': 6252, 'protesters': 6680, 'contented': 6253, 'sugar-me-do': 3729, 'wondering': 2772, 'thirteen': 2773, 'professor_jonathan_frink:': 545, 'drederick': 1144, 'crimes': 6254, 'nearly': 2350, 'vin': 6255, 'unusual': 6256, 'düffenbraus': 6257, \"betsy'll\": 6767, 'funniest': 6258, 'fellow': 1145, 'spot': 1407, 'tragedy': 3785, 'derek': 6260, 'restaurant': 1408, 'jackass': 4523, \"costume's\": 6262, 'spectacular': 6263, 'hits': 1360, 'jobs': 2774, 'kang:': 1850, 'prison': 2775, 'ruby-studded': 6265, 'cranberry': 6266, 'stupid': 298, 'hardwood': 2952, 'written': 2776, 'toy': 6267, '530': 6682, 'crooks': 4070, 'ivanna': 3841, 'booze': 463, 'bleeding': 5394, 'owe': 1146, 'in': 19, \"bartender's\": 2777, 'keeps': 1409, 'cat': 2778, 'proposition': 4334, 'instead': 717, 'yellow-belly': 6271, 'hank_williams_jr': 944, 'hook': 6272, 'theater': 1852, 'goes': 722, 'faces': 6273, 'clap': 6274, 'pajamas': 3899, 'sneak': 3226, 'exactly': 694, 'killjoy': 6278, 'wears': 6279, 'witches': 6280, \"cleanin'\": 6281, \"that'll\": 880, 'painted': 6283, 'diving': 3923, 'beefs': 6285, 'dead': 438, 'triangle': 6286, 'rocks': 3939, 'brag': 3942, 'happy': 277, 'looooooooooooooooooong': 6288, 'lloyd:': 1147, 'waist': 6289, 'dennis_kucinich:': 2781, 'youuu': 6290, 'nobody': 374, 'hippies': 6291, 'astronaut': 2782, 'played': 1853, 'virile': 6292, 'firm': 3989, 'flynt': 6293, 'pretending': 2783, 'recorded': 3039, 'sing-song': 3587, 'developed': 6294, 'ferry': 6295, 'uh-huh': 723, 'schmoe': 4022, 'lease': 6298, 'cracked': 6299, 'booking': 4040, 'misconstrue': 6301, 'polish': 4046, 'slurred': 6302, 'radiator': 6643, 'forgive': 2785, 'gossipy': 6303, 'stupidest': 6305, \"snappin'\": 6304, \"soakin's\": 4059, 'soon': 655, 'silence': 6306, 'gluten': 6307, 'fell': 6308, 'discussing': 2786, 'portfolium': 6309, 'wobbly': 6310, 'arimasen': 6311, 'stein-stengel-': 6312, 'passes': 6313, 'female_inspector:': 4101, 'dealt': 6314, 'carve': 2144, 'wing': 2787, 'utility': 2788, 'terrorizing': 5274, 'roach': 6316, 'brings': 6317, 'rookie': 6318, 'planted': 6319, 'advance': 2789, 'hammer': 6320, 'considering:': 6321, 'emergency': 6322, 'tradition': 1856, 'call': 218, 'curiosity': 6160, 'aidens': 5878, 'cheerier': 6325, \"cupid's\": 6326, 'jack_larson:': 1857, 'improv': 4197, 'anyhoo': 6327, 'introduce': 6328, 'loss': 1947, 'swatch': 6330, 'al': 945, 'life:': 6331, \"aren't\": 509, 'bowie': 5665, 'lap': 2818, 'pair': 6518, 'comforting': 6333, 'shaken': 2791, 'reptile': 6334, 'referee': 6335, 'regret': 2792, 'sitar': 2793, 'edgy': 3450, 'decadent': 6336, 'so': 42, 'a': 11, 'inside': 831, 'tiger': 6353, \"mopin'\": 4274, 'annoying': 6338, 'amiable': 6339, 'part-time': 6340, 'nbc': 6341, 'thirty-thousand': 6342, 'accidents': 6343, 'billboard': 1411, 'gimmicks': 6344, 'slyly': 2794, 'insurance': 6345, 'putting': 2795, 'scrubbing': 6346, 'happiness': 6347, 'unsafe': 6713, 'gut': 6348, 'nagurski': 6349, 'stationery': 2796, 'longer': 1149, 'just': 38, 'outlive': 6350, 'polite': 1412, 'seamstress': 6351, 'ugly': 597, 'lottery': 1855, 'other_book_club_member:': 4353, 'hillbillies': 6352, \"smackin'\": 6354, 'ballot': 6537, 'willy': 2797, 'errrrrrr': 6355, 'disappear': 6356, 'con': 6357, 'troubles': 6358, 'poet': 2798, 'andrew': 6359, 'newspaper': 6360, 'assistant': 2278, 'yea': 1150, \"seein'\": 1860, 'hose': 4656, 'aims': 4417, \"'er\": 6363, \"mcstagger's\": 6045, 'chapel': 6364, 'lowest': 4026, 'weary': 2799, 'lawyer': 6365, 'trenchant': 6366, \"comin'\": 375, \"man's\": 2981, 'job': 314, 'smart': 2720, 'fox_mulder:': 2800, 'bear': 2801, 'loves': 510, 'landlord': 6368, 'because': 278, 'appreciated': 4466, 'reasons': 2802, 'flower': 1413, 'safer': 2803, 'dealer': 6370, 'stengel': 6371, 'low-blow': 3051, 'colonel:': 6372, 'flown': 6373, 'nemo': 6374, 'admiring': 2804, 'nailed': 6375, 'billiard': 4472, 'gives': 947, 'closing': 1414, 'reaching': 2308, 'gayer': 4509, 'terrace': 6378, 'stacey': 4521, 'drollery': 6380, 'water': 948, 'fulla': 4267, 'coy': 6382, 'holding': 949, 'app': 6383, 'random': 6384, 'maggie': 396, 'director:': 4115, 'flack': 4549, 'grateful': 6386, 'sports_announcer:': 2430, 'crowd:': 656, 'draw': 2805, 'what': 34, 'orphan': 6388, 'scrape': 2673, 'justify': 6389, 'puffy': 6296, 'gift:': 4578, 'mistake': 1861, 'seeing': 1862, 'broken:': 6391, 'julep': 6392, 'apron': 6393, 'simplest': 6394, 'brilliant': 1053, 'cricket': 3634, 'tale': 2806, 'prints': 6396, 'sneaky': 2807, 'narrator:': 832, 'wowww': 6397, 'soul-crushing': 5808, 'skunk': 6399, 'ali': 6400, 'whole': 598, 'worthless': 6401, 'least': 599, 'donation': 6402, 'blood-thirsty': 2808, 'donated': 4995, 'cursed': 6403, 'socialize': 6404, 'spelling': 6405, 'babies': 1294, 'hmmmm': 6407, 'christian': 6408, 'golf': 2030, 'affects': 6410, 'pawed': 3901, 'themselves': 2811, 'onion': 6411, 'kearney_zzyzwicz:': 6412, 'buried': 2812, 'snitch': 6413, 'helpless': 6414, \"others'\": 2813, 'trail': 4722, 'packets': 6416, 'increased': 6390, 'touches': 2993, 'pussycat': 3251, 'splattered': 6419, 'example': 6420, 'pusillanimous': 5984, 'smile:': 2815, 'senators': 1417, 'published': 4188, 'pour': 839, 'vanities': 6422, 'answered': 6423, 'boy': 210, 'hoax': 4768, 'ninth': 6425, 'thinking': 397, \"fishin'\": 6426, 'ragtime': 2816, 'raining': 6427, 'frescas': 4803, 'ends': 6428, 'booth': 6429, 'head-gunk': 6430, 'hooray': 6431, 'municipal': 6432, 'luv': 6433, 'multi-purpose': 4823, 'bulldozing': 6435, 'cuff': 6436, 'dramatic': 1418, 'face-macer': 6437, 'fist': 6438, 'two-thirds-empty': 6439, 'afternoon': 1863, 'impress': 6440, 'realizing': 600, 'else': 657, 'inserted': 6441, 'reminded': 6442, 'forty-five': 6443, 'boring': 1152, 'pian-ee': 2819, 'coherent': 6444, 'possessions': 6445, 'courage': 2820, 'destroyed': 6446, 'vulgar': 6447, 'most': 422, 'whip': 637, 'unhappy': 3468, 'church': 1864, 'whatcha': 1865, 'limber': 4914, 'finally': 833, 'dig': 6450, 'table': 799, 'beady': 6452, 'apulina': 6453, 'leprechaun': 6454, 'eggs': 834, 'youngsters': 4933, 'juice': 2822, '3': 6456, 'ocean': 2823, 'ons': 6457, 'circus': 6458, 'lady': 601, 'slop': 6195, 'droning': 6460, 'hates': 1866, 'ruuuule': 2986, 'milhouse': 1867, 'annoyed': 658, 'friendly': 835, 'application': 6462, 'frink': 1868, \"professor's\": 4978, \"linin'\": 6463, 'full': 836, 'use': 285, 'eight-year-old': 4999, 'assassination': 6467, 'american': 724, \"yesterday's\": 5010, 'sales': 6577, 'undies': 6468, 'nibble': 6469, 'blooded': 6470, \"toot's\": 6471, 'reached': 2824, 'quero': 6472, 'groin': 6473, 'moonnnnnnnn': 5800, 'wishes': 2825, 'senators:': 6475, 'captain': 6065, 'discriminate': 6476, 'it': 17, 'yep': 1153, 'up': 49, 'stairs': 3795, 'stays': 6478, 'ride': 1419, 'salvation': 6479, 'counting': 1154, 'radiation': 6480, 'supposed': 950, 'lifestyle': 5376, 'unjustly': 6482, 'and-and': 6483, 'philosophic': 6484, 'expired': 4129, 'television': 6485, 'wave': 2826, 'barter': 6486, 'lead': 5480, 'supply': 6488, 'snout': 6481, 'rebuttal': 5139, 'cowboys': 2172, 'bury': 6489, 'divorced': 5160, 'tabs': 6720, 'anniversary': 1870, 'para': 6492, 'the_edge:': 5166, 'self': 590, 'knew': 441, 'triumphantly': 6495, 'maher': 6721, 'embarrassing': 1871, 'multi-national': 6497, 'tight': 6498, 'ahead': 1420, 'blowfish': 6499, 'tiny': 2829, 'holiday': 1872, 'horror': 6070, 'mid-seventies': 6501, 'food': 837, 'drawn': 6502, 'taken': 1721, 'elmer': 5119, 'wishful': 6505, 'rancid': 6506, 'anarchy': 2505, \"y'see\": 6508, 'unsanitary': 5220, 'crap': 838, 'modest': 6510, 'sex': 916, 'understood:': 6512, 'angrily': 6513, 'schabadoo': 3860, \"makin'\": 750, 'museum': 2830, \"we're\": 136, 'many': 377, 'confidential': 6517, 'nope': 2831, 'hey': 29, 'committee': 3094, 'huhza': 6519, 'steely-eyed': 6520, 'working': 1421, \"department's\": 4140, 'knock': 1211, 'such': 659, 'commanding': 6521, \"'s\": 6522, 'ne': 6523, 'life-sized': 6524, 'luxury': 6525, 'lindsay': 6526, 'girl-bart': 6527, 'olive': 6528, 'predictable': 6529, 'mouse': 1049, 'incriminating': 6531, 'jerking': 5248, 'ho-la': 6533, 'stinks': 2217, 'watched': 6535, 'audience': 6536, 'champion': 6017, 'hushed': 6538, 'ballclub': 5389, 'applicant': 6729, 'ralph': 6075, 'resigned': 6540, 'richer': 4819, 'spilled': 6541, 'man': 85, 'hanging': 1093, 'iran': 4289, 'raising': 1874, \"round's\": 6076, 'closet': 6544, 'coat': 1423, 'chinese_restaurateur:': 5972, 'defiantly': 5439, 'system': 1875, 'hurry': 1424, 'mellow': 6545, 'wrestle': 6546, 'stonewall': 6547, 'mic': 2837, 'fridge': 1425, 'bluff': 6548, 'fact': 1876, 'uncle': 951, 'hairs': 6549, 'haircuts': 6550, 'male_singers:': 6551, \"moe's\": 180, 'towed': 2838, 'celebrities': 1877, \"fightin'\": 6552, 'swear': 1157, 'mock': 1878, 'accounta': 6553, 'blinded': 6554, 'wazoo': 6555, 'end': 557, 'bolting': 6556, 'fool': 1879, 'forget': 511, 'totally': 1158, 'huggenkiss': 1426, 'disposal': 5433, 'donut-shaped': 6558, 'ripper': 6559, 'danny': 6560, 'larry': 6561, 'imaginary': 3121, 'blur': 6563, \"neat's-foot\": 6564, 'teriyaki': 6565, 'fourth': 1880, 'melodramatic': 6566, 'washouts': 6567, 'calculate': 2839, 'talkers': 5566, 'ooo': 1392, 'goal': 6570, 'something:': 6571, 'whispered': 6572, 'occasion': 6573, 'snotball': 4213, 'picnic': 6574, 'weirder': 2840, 'clock': 2841, 'caused': 2842, 'society': 6575, 'rasputin': 6576, 'wade_boggs:': 2843, 'song': 602, 'rules': 2844, 'day': 155, 'arrange': 6242, 'crow': 5789, 'solves': 6579, \"spaghetti-o's\": 6580, 'considering': 2613, 'cool': 725, \"doctor's\": 6582, 'greetings': 2845, 'mediterranean': 6583, 'cigarettes': 2619, 'dungeon': 2621, 'group': 934, 'restaurants': 2846, \"ma's\": 6587, 'spied': 2847, 'dumptruck': 6588, 'eighty-five': 6589, 'tasimeter': 6590, 'next': 315, 'exasperated': 1159, 'slab': 6591, 'troll': 1047, 'work': 244, 'tsk': 660, 'santeria': 6592, 'devastated': 2236, 'pall': 6594, 'der': 1881, 'libido': 6595, 'faint': 6596, 'distinct': 6597, 'shrieks': 3167, \"family's\": 6515, 'stinger': 6598, 'civic': 2848, 'si-lent': 5781, 'calm': 1160, 'naked': 2849, 'limits': 4518, 'thorn': 6601, 'forgot': 954, 'beat': 279, 'saget': 6602, 'belong': 2850, 'compete': 6603, \"cheerin'\": 4436, 'bag': 955, 'ordered': 1882, 'monkey': 2851, 'inclination': 6605, 'creeps': 2852, 'slogan': 3295, 'sampler': 5447, 'nail': 6093, 'precious': 1427, 'ore': 5448, 'brockelstein': 6607, \"this'll\": 6608, 'darn': 5876, 'not': 63, 'pepsi': 5085, 'gimmick': 6610, 'rule': 2854, 'make': 108, 'cola': 2855, 'teenage_barney:': 1428, 'fires': 6612, 'taking': 726, 'whining': 6613, 'superior': 2856, 'reading:': 6614, 'friday': 6615, 'neat': 2857, 'cowardly': 2858, 'agent_johnson:': 2859, 'same': 913, 'muffled': 6617, 'sinkhole': 3576, 'planning': 2860, 'additional-seating-capacity': 6619, 'audience:': 6620, 'trench': 2132, 'emphasis': 6622, 'capuchin': 6623, 'broadway': 2861, \"raggin'\": 6624, 'wasting': 1884, 'academy': 2862, \"g'night\": 6625, 'sotto': 822, 'internet': 2863, 'kemi': 5985, 'enjoys': 6628, 'cookies': 2864, \"poundin'\": 6629, 'courts': 3570, 'spy': 2865, 'old-time': 3705, 'mid-conversation': 6632, 'she-pu': 6633, 'this:': 6634, 'bart': 280, 'lowering': 2127, 'trip': 1430, 'freedom': 2866, 'traitors': 6636, 'butt': 661, 'conditioning': 6051, 'thanks': 219, 'bash': 2867, 'darjeeling': 6638, 'limited': 4927, 'omit': 6639, \"hawkin'\": 4515, 'lise:': 2868, 'electronic': 2869, 'unattended': 6640, 'dreary': 6641, 'tactful': 6642, 'or': 119, 'guard': 6120, 'say': 115, 'hideous': 6099, 'at': 67, 'airport': 2809, 'stewart': 6645, 'spinning': 1885, 'alcoholic': 2870, 'copy': 2737, 'overhearing': 6647, 'overstressed': 5120, 'shoulders': 6648, 'improved': 6649, 'rat-like': 6650, 'majority': 6753, 'ditched': 4475, 'loud': 378, 'crying': 2575, 'five-fifteen': 6654, 'beats': 2871, \"drexel's\": 5892, 'cure': 6656, 'panicked': 6657, 'blackjack': 6658, 'renders': 6659, 'hero': 1292, 'scrutinizing': 6660, 'online': 6661, 'chunk': 6662, 'suspended': 6663, 'kahlua': 6664, 'poin-dexterous': 6665, 'exclusive:': 6666, 'infestation': 6667, 'guiltily': 6668, 'kidney': 2872, 'booger': 6669, 'desperate': 956, 'mob': 2873, 'experience': 6670, 'paints': 6671, 'fine': 465, 'fail': 6672, 'weep': 6673, 'fontaine': 6674, 'father': 1432, 'sucked': 1886, 'payday': 6675, 'break': 466, 'times': 662, 'righ': 6676, 'plenty': 2874, 'nascar': 6677, 'pub': 1433, 'sixty-nine': 1887, 'art': 6678, 'in-ground': 6679, 'sincerely': 4448, 'mike': 1148, 'all:': 1163, 'pure': 6681, 'product': 2875, 'simp-sonnnn': 2876, 'roy': 6268, 'proves': 6683, \"you're\": 61, 'ing': 4112, 'padres': 6685, \"grandmother's\": 5291, 'moesy': 6687, 'spitting': 6381, 'thumb': 1165, 'moe-clone': 6689, 'valley': 6691, 'minimum': 1434, 'spacey': 6692, \"town's\": 2382, 'herself': 3497, 'heatherton': 6760, 'tickets': 6694, 'afford': 1888, 'loan': 1889, 'bus': 1890, 'steel': 2878, 'leathery': 3759, 'wrap': 6696, 'edelbrock': 6697, 'prompting': 6698, 'bright': 1891, 'fund': 5288, 'people': 171, 'cobbling': 6699, 'gulliver_dark:': 6700, 'confidentially': 6701, 'contemplates': 6702, 'win': 467, 'guess': 245, 'gruesome': 6703, \"ball's\": 6704, 'ninety-seven': 6094, 'nonchalant': 6706, 'practically': 6707, 'bouquet': 4162, 'chanting': 1167, 'take': 120, 'evergreen': 6708, 'deeply': 2880, 'denver': 958, 'scary': 2881, 'reaches': 6709, 'highest': 6710, 'attend': 6711, 'angry': 728, 'adrift': 6712, 'cavern': 5405, 'happily': 1892, 'called': 548, 'amanda': 1435, 'coma': 6715, 'r': 1893, 'place': 184, 'marriage': 663, 'appear': 2883, 'noble': 3851, 'fumigated': 6717, 'gags': 6477, 'klingon': 2884, 'lachrymose': 4511, 'rods': 6491, 'mirthless': 6496, 'supervising': 6722, 'options': 6723, 'marjorie': 6724, 'cigars': 4984, 'worldly': 6725, 'law-abiding': 6726, 'pickles': 6727, 'gator:': 2885, 'awkwardly': 5490, 'tow': 5402, 'kicked': 2886, 'carefully': 6539, 'morning-after': 6730, 'ref': 6731, 'mini-dumpsters': 6732, 'car:': 6733, 'i/you': 6734, 'wordloaf': 2887, 'monkeyshines': 6735, 'loser': 512, 'sick': 952, 'pyramid': 6737, 'hit': 926, \"son's\": 6738, 'pigtown': 6739, '_hooper:': 1168, 'delighted': 1895, 'misfire': 6740, 'bathroom': 2888, 'sent': 959, 'anti-intellectualism': 6104, 'temp': 6741, 'polishing': 6742, 'customers': 1169, 'judges': 5469, 'humanity': 6743, 'shuts': 6744, 'ironic': 6745, '1895': 2890, 'cutest': 6746, 'excited': 468, 'drinking': 469, '91': 4138, 'startup': 6747, 'someday': 2383, 'uncomfortable': 1896, 'and:': 6749, 'arts': 6750, 'taxes': 6751, 'inserts': 6752, 'yells': 6651, \"should've\": 6754, 'load': 6755, 'finest': 1897, 'shyly': 6756, 'charges': 6757, 'made': 211, 'tablecloth': 6758, 'tv_announcer:': 2041, 'harvesting': 6759, 'most:': 6693, 'sanitary': 6761, \"cashin'\": 6762, 'early': 960, 'jay:': 6763, 'play/': 6764, 'ze-ro': 6765, 'pleasure': 2892, 'strictly': 6766, 'young_marge:': 840, 'grandkids': 6369, 'common': 6768, 'boat': 1437, 'comes': 348, 'texas': 1898, 'begin': 6770, 'proof': 6771, 'daaaaad': 6772, 'safety': 6773, 'clears': 1161, 'vehicle': 5472, 'website': 2893, 'football': 5560, 'shows': 1438, 'modern': 1899, 'rebuilt': 6776, 'awwww': 2894, 'shakespeare': 2895, 'bill_james:': 6777, 'expensive': 6775, 'hate-hugs': 6778}\n"
     ]
    }
   ],
   "source": [
    "\"\"\"\n",
    "DON'T MODIFY ANYTHING IN THIS CELL\n",
    "\"\"\"\n",
    "# Preprocess Training, Validation, and Testing Data\n",
    "helper.preprocess_and_save_data(data_dir, token_lookup, create_lookup_tables)"
   ]
  },
  {
   "cell_type": "markdown",
   "metadata": {
    "deletable": true,
    "editable": true
   },
   "source": [
    "# Check Point\n",
    "This is your first checkpoint. If you ever decide to come back to this notebook or have to restart the notebook, you can start from here. The preprocessed data has been saved to disk."
   ]
  },
  {
   "cell_type": "code",
   "execution_count": 2,
   "metadata": {
    "collapsed": false,
    "deletable": true,
    "editable": true
   },
   "outputs": [],
   "source": [
    "\"\"\"\n",
    "DON'T MODIFY ANYTHING IN THIS CELL\n",
    "\"\"\"\n",
    "import helper\n",
    "import numpy as np\n",
    "import problem_unittests as tests\n",
    "\n",
    "int_text, vocab_to_int, int_to_vocab, token_dict = helper.load_preprocess()"
   ]
  },
  {
   "cell_type": "markdown",
   "metadata": {
    "deletable": true,
    "editable": true
   },
   "source": [
    "## Build the Neural Network\n",
    "You'll build the components necessary to build a RNN by implementing the following functions below:\n",
    "- get_inputs\n",
    "- get_init_cell\n",
    "- get_embed\n",
    "- build_rnn\n",
    "- build_nn\n",
    "- get_batches\n",
    "\n",
    "### Check the Version of TensorFlow and Access to GPU"
   ]
  },
  {
   "cell_type": "code",
   "execution_count": 3,
   "metadata": {
    "collapsed": false,
    "deletable": true,
    "editable": true
   },
   "outputs": [
    {
     "name": "stdout",
     "output_type": "stream",
     "text": [
      "TensorFlow Version: 1.0.0\n"
     ]
    },
    {
     "name": "stderr",
     "output_type": "stream",
     "text": [
      "/home/carnd/anaconda3/envs/dl/lib/python3.5/site-packages/ipykernel/__main__.py:14: UserWarning: No GPU found. Please use a GPU to train your neural network.\n"
     ]
    }
   ],
   "source": [
    "\"\"\"\n",
    "DON'T MODIFY ANYTHING IN THIS CELL\n",
    "\"\"\"\n",
    "from distutils.version import LooseVersion\n",
    "import warnings\n",
    "import tensorflow as tf\n",
    "\n",
    "# Check TensorFlow Version\n",
    "assert LooseVersion(tf.__version__) >= LooseVersion('1.0'), 'Please use TensorFlow version 1.0 or newer'\n",
    "print('TensorFlow Version: {}'.format(tf.__version__))\n",
    "\n",
    "# Check for a GPU\n",
    "if not tf.test.gpu_device_name():\n",
    "    warnings.warn('No GPU found. Please use a GPU to train your neural network.')\n",
    "else:\n",
    "    print('Default GPU Device: {}'.format(tf.test.gpu_device_name()))"
   ]
  },
  {
   "cell_type": "markdown",
   "metadata": {
    "deletable": true,
    "editable": true
   },
   "source": [
    "### Input\n",
    "Implement the `get_inputs()` function to create TF Placeholders for the Neural Network.  It should create the following placeholders:\n",
    "- Input text placeholder named \"input\" using the [TF Placeholder](https://www.tensorflow.org/api_docs/python/tf/placeholder) `name` parameter.\n",
    "- Targets placeholder\n",
    "- Learning Rate placeholder\n",
    "\n",
    "Return the placeholders in the following the tuple `(Input, Targets, LearingRate)`"
   ]
  },
  {
   "cell_type": "code",
   "execution_count": 4,
   "metadata": {
    "collapsed": false,
    "deletable": true,
    "editable": true
   },
   "outputs": [
    {
     "name": "stdout",
     "output_type": "stream",
     "text": [
      "Tests Passed\n"
     ]
    }
   ],
   "source": [
    "def get_inputs():\n",
    "    \"\"\"\n",
    "    Create TF Placeholders for input, targets, and learning rate.\n",
    "    :return: Tuple (input, targets, learning rate)\n",
    "    \"\"\"\n",
    "    inputs = tf.placeholder(tf.int32, [None, None], name='input')\n",
    "    targets = tf.placeholder(tf.int32, [None, None], name='target')\n",
    "    leanring_rate = tf.placeholder(tf.float32, name=\"learning_rate\")\n",
    "    return inputs, targets, leanring_rate\n",
    "\n",
    "\n",
    "\"\"\"\n",
    "DON'T MODIFY ANYTHING IN THIS CELL THAT IS BELOW THIS LINE\n",
    "\"\"\"\n",
    "tests.test_get_inputs(get_inputs)"
   ]
  },
  {
   "cell_type": "markdown",
   "metadata": {
    "deletable": true,
    "editable": true
   },
   "source": [
    "### Build RNN Cell and Initialize\n",
    "Stack one or more [`BasicLSTMCells`](https://www.tensorflow.org/api_docs/python/tf/contrib/rnn/BasicLSTMCell) in a [`MultiRNNCell`](https://www.tensorflow.org/api_docs/python/tf/contrib/rnn/MultiRNNCell).\n",
    "- The Rnn size should be set using `rnn_size`\n",
    "- Initalize Cell State using the MultiRNNCell's [`zero_state()`](https://www.tensorflow.org/api_docs/python/tf/contrib/rnn/MultiRNNCell#zero_state) function\n",
    "    - Apply the name \"initial_state\" to the initial state using [`tf.identity()`](https://www.tensorflow.org/api_docs/python/tf/identity)\n",
    "\n",
    "Return the cell and initial state in the following tuple `(Cell, InitialState)`"
   ]
  },
  {
   "cell_type": "code",
   "execution_count": 5,
   "metadata": {
    "collapsed": false,
    "deletable": true,
    "editable": true
   },
   "outputs": [
    {
     "name": "stdout",
     "output_type": "stream",
     "text": [
      "Tests Passed\n"
     ]
    }
   ],
   "source": [
    "def get_init_cell(batch_size, rnn_size):\n",
    "    \"\"\"\n",
    "    Create an RNN Cell and initialize it.\n",
    "    :param batch_size: Size of batches\n",
    "    :param rnn_size: Size of RNNs\n",
    "    :return: Tuple (cell, initialize state)\n",
    "    \"\"\"\n",
    "    # TODO: Implement Function\n",
    "    num_layers = 2\n",
    "    lstm = tf.contrib.rnn.BasicLSTMCell(rnn_size)\n",
    "    drop = tf.contrib.rnn.DropoutWrapper(lstm, output_keep_prob=0.5)\n",
    "    cell = tf.contrib.rnn.MultiRNNCell([drop] * num_layers)\n",
    "    cell = tf.contrib.rnn.MultiRNNCell([lstm])\n",
    "    initial_state = cell.zero_state(batch_size, tf.float32)\n",
    "    initial_state = tf.identity(initial_state, name=\"initial_state\")\n",
    "    return cell, initial_state\n",
    "\n",
    "\n",
    "\"\"\"\n",
    "DON'T MODIFY ANYTHING IN THIS CELL THAT IS BELOW THIS LINE\n",
    "\"\"\"\n",
    "tests.test_get_init_cell(get_init_cell)"
   ]
  },
  {
   "cell_type": "markdown",
   "metadata": {
    "deletable": true,
    "editable": true
   },
   "source": [
    "### Word Embedding\n",
    "Apply embedding to `input_data` using TensorFlow.  Return the embedded sequence."
   ]
  },
  {
   "cell_type": "code",
   "execution_count": 6,
   "metadata": {
    "collapsed": false,
    "deletable": true,
    "editable": true
   },
   "outputs": [
    {
     "name": "stdout",
     "output_type": "stream",
     "text": [
      "Tests Passed\n"
     ]
    }
   ],
   "source": [
    "def get_embed(input_data, vocab_size, embed_dim):\n",
    "    \"\"\"\n",
    "    Create embedding for <input_data>.\n",
    "    :param input_data: TF placeholder for text input.\n",
    "    :param vocab_size: Number of words in vocabulary.\n",
    "    :param embed_dim: Number of embedding dimensions\n",
    "    :return: Embedded input.\n",
    "    \"\"\"\n",
    "    # TODO: Implement Function\n",
    "    embedding = tf.Variable(tf.random_uniform((vocab_size, embed_dim), -1, 1))\n",
    "    embed = tf.nn.embedding_lookup(embedding, input_data)\n",
    "    return embed\n",
    "\n",
    "\n",
    "\"\"\"\n",
    "DON'T MODIFY ANYTHING IN THIS CELL THAT IS BELOW THIS LINE\n",
    "\"\"\"\n",
    "tests.test_get_embed(get_embed)"
   ]
  },
  {
   "cell_type": "markdown",
   "metadata": {
    "deletable": true,
    "editable": true
   },
   "source": [
    "### Build RNN\n",
    "You created a RNN Cell in the `get_init_cell()` function.  Time to use the cell to create a RNN.\n",
    "- Build the RNN using the [`tf.nn.dynamic_rnn()`](https://www.tensorflow.org/api_docs/python/tf/nn/dynamic_rnn)\n",
    " - Apply the name \"final_state\" to the final state using [`tf.identity()`](https://www.tensorflow.org/api_docs/python/tf/identity)\n",
    "\n",
    "Return the outputs and final_state state in the following tuple `(Outputs, FinalState)` "
   ]
  },
  {
   "cell_type": "code",
   "execution_count": 7,
   "metadata": {
    "collapsed": false,
    "deletable": true,
    "editable": true
   },
   "outputs": [
    {
     "name": "stdout",
     "output_type": "stream",
     "text": [
      "Tests Passed\n"
     ]
    }
   ],
   "source": [
    "def build_rnn(cell, inputs):\n",
    "    \"\"\"\n",
    "    Create a RNN using a RNN Cell\n",
    "    :param cell: RNN Cell\n",
    "    :param inputs: Input text data\n",
    "    :return: Tuple (Outputs, Final State)\n",
    "    \"\"\"\n",
    "    # TODO: Implement Function\n",
    "    output, final_state = tf.nn.dynamic_rnn(cell, inputs, dtype=tf.float32)\n",
    "    final_state = tf.identity(final_state, name=\"final_state\")\n",
    "    return output, final_state\n",
    "\n",
    "\n",
    "\"\"\"\n",
    "DON'T MODIFY ANYTHING IN THIS CELL THAT IS BELOW THIS LINE\n",
    "\"\"\"\n",
    "tests.test_build_rnn(build_rnn)"
   ]
  },
  {
   "cell_type": "markdown",
   "metadata": {
    "deletable": true,
    "editable": true
   },
   "source": [
    "### Build the Neural Network\n",
    "Apply the functions you implemented above to:\n",
    "- Apply embedding to `input_data` using your `get_embed(input_data, vocab_size, embed_dim)` function.\n",
    "- Build RNN using `cell` and your `build_rnn(cell, inputs)` function.\n",
    "- Apply a fully connected layer with a linear activation and `vocab_size` as the number of outputs.\n",
    "\n",
    "Return the logits and final state in the following tuple (Logits, FinalState) "
   ]
  },
  {
   "cell_type": "code",
   "execution_count": 8,
   "metadata": {
    "collapsed": false,
    "deletable": true,
    "editable": true
   },
   "outputs": [
    {
     "name": "stdout",
     "output_type": "stream",
     "text": [
      "Tests Passed\n"
     ]
    }
   ],
   "source": [
    "def build_nn(cell, rnn_size, input_data, vocab_size):\n",
    "    \"\"\"\n",
    "    Build part of the neural network\n",
    "    :param cell: RNN cell\n",
    "    :param rnn_size: Size of rnns\n",
    "    :param input_data: Input data\n",
    "    :param vocab_size: Vocabulary size\n",
    "    :return: Tuple (Logits, FinalState)\n",
    "    \"\"\"\n",
    "    # TODO: Implement Function\n",
    "    embed = get_embed(input_data, vocab_size, rnn_size)\n",
    "    outputs, final_state = build_rnn(cell, embed)\n",
    "    w_initializer = tf.truncated_normal_initializer(stddev=0.05)\n",
    "    b_initializer = tf.zeros_initializer()\n",
    "    logits = tf.contrib.layers.fully_connected(outputs, vocab_size, weights_initializer=w_initializer,biases_initializer=b_initializer, activation_fn=None)\n",
    "    return logits, final_state\n",
    "\n",
    "\n",
    "\"\"\"\n",
    "DON'T MODIFY ANYTHING IN THIS CELL THAT IS BELOW THIS LINE\n",
    "\"\"\"\n",
    "tests.test_build_nn(build_nn)"
   ]
  },
  {
   "cell_type": "markdown",
   "metadata": {
    "deletable": true,
    "editable": true
   },
   "source": [
    "### Batches\n",
    "Implement `get_batches` to create batches of input and targets using `int_text`.  The batches should be a Numpy array with the shape `(number of batches, 2, batch size, sequence length)`. Each batch contains two elements:\n",
    "- The first element is a single batch of **input** with the shape `[batch size, sequence length]`\n",
    "- The second element is a single batch of **targets** with the shape `[batch size, sequence length]`\n",
    "\n",
    "If you can't fill the last batch with enough data, drop the last batch.\n",
    "\n",
    "For exmple, `get_batches([1, 2, 3, 4, 5, 6, 7, 8, 9, 10, 11, 12, 13, 14, 15], 2, 3)` would return a Numpy array of the following:\n",
    "```\n",
    "[\n",
    "  # First Batch\n",
    "  [\n",
    "    # Batch of Input\n",
    "    [[ 1  2  3], [ 7  8  9]],\n",
    "    # Batch of targets\n",
    "    [[ 2  3  4], [ 8  9 10]]\n",
    "  ],\n",
    " \n",
    "  # Second Batch\n",
    "  [\n",
    "    # Batch of Input\n",
    "    [[ 4  5  6], [10 11 12]],\n",
    "    # Batch of targets\n",
    "    [[ 5  6  7], [11 12 13]]\n",
    "  ]\n",
    "]\n",
    "```"
   ]
  },
  {
   "cell_type": "code",
   "execution_count": 9,
   "metadata": {
    "collapsed": false,
    "deletable": true,
    "editable": true
   },
   "outputs": [
    {
     "name": "stdout",
     "output_type": "stream",
     "text": [
      "Tests Passed\n"
     ]
    }
   ],
   "source": [
    "def get_batches(int_text, batch_size, seq_length):\n",
    "    \"\"\"\n",
    "    Return batches of input and target\n",
    "    :param int_text: Text with the words replaced by their ids\n",
    "    :param batch_size: The size of batch\n",
    "    :param seq_length: The length of sequence\n",
    "    :return: Batches as a Numpy array\n",
    "    \"\"\"\n",
    "    # TODO: Implement Function\n",
    "    slice_size = batch_size * seq_length\n",
    "    n_batches = int(len(int_text) / slice_size)\n",
    "    \n",
    "    # Drop the last few characters to make only full batches\n",
    "    x = int_text[: n_batches*slice_size]\n",
    "    y = int_text[1: n_batches*slice_size + 1]\n",
    "    \n",
    "    # Split the data into batch_size slices, then stack them into a 2D matrix \n",
    "    \n",
    "    x = np.stack(np.split(np.asarray(x), batch_size))\n",
    "    y = np.stack(np.split(np.asarray(y), batch_size))\n",
    "    \n",
    "    mylist = []\n",
    "    for b in range(n_batches):\n",
    "         mylist.append([arr[:, b*seq_length: (b+1)*seq_length] for arr in [x,y]])\n",
    "    return np.asarray(mylist)\n",
    "\n",
    "\n",
    "\"\"\"\n",
    "DON'T MODIFY ANYTHING IN THIS CELL THAT IS BELOW THIS LINE\n",
    "\"\"\"\n",
    "tests.test_get_batches(get_batches)"
   ]
  },
  {
   "cell_type": "markdown",
   "metadata": {
    "deletable": true,
    "editable": true
   },
   "source": [
    "## Neural Network Training\n",
    "### Hyperparameters\n",
    "Tune the following parameters:\n",
    "\n",
    "- Set `num_epochs` to the number of epochs.\n",
    "- Set `batch_size` to the batch size.\n",
    "- Set `rnn_size` to the size of the RNNs.\n",
    "- Set `seq_length` to the length of sequence.\n",
    "- Set `learning_rate` to the learning rate.\n",
    "- Set `show_every_n_batches` to the number of batches the neural network should print progress."
   ]
  },
  {
   "cell_type": "code",
   "execution_count": 10,
   "metadata": {
    "collapsed": true,
    "deletable": true,
    "editable": true
   },
   "outputs": [],
   "source": [
    "# Number of Epochs\n",
    "num_epochs = 70\n",
    "# Batch Size\n",
    "batch_size = 128\n",
    "# RNN Size\n",
    "rnn_size = 512\n",
    "# Sequence Length\n",
    "seq_length = 15\n",
    "# Learning Rate\n",
    "learning_rate = 0.001\n",
    "# Show stats for every n number of batches\n",
    "show_every_n_batches = 10\n",
    "\n",
    "\"\"\"\n",
    "DON'T MODIFY ANYTHING IN THIS CELL THAT IS BELOW THIS LINE\n",
    "\"\"\"\n",
    "save_dir = './save'"
   ]
  },
  {
   "cell_type": "markdown",
   "metadata": {
    "deletable": true,
    "editable": true
   },
   "source": [
    "### Build the Graph\n",
    "Build the graph using the neural network you implemented."
   ]
  },
  {
   "cell_type": "code",
   "execution_count": 11,
   "metadata": {
    "collapsed": false,
    "deletable": true,
    "editable": true
   },
   "outputs": [],
   "source": [
    "\"\"\"\n",
    "DON'T MODIFY ANYTHING IN THIS CELL\n",
    "\"\"\"\n",
    "from tensorflow.contrib import seq2seq\n",
    "\n",
    "train_graph = tf.Graph()\n",
    "with train_graph.as_default():\n",
    "    vocab_size = len(int_to_vocab)\n",
    "    input_text, targets, lr = get_inputs()\n",
    "    input_data_shape = tf.shape(input_text)\n",
    "    cell, initial_state = get_init_cell(input_data_shape[0], rnn_size)\n",
    "    logits, final_state = build_nn(cell, rnn_size, input_text, vocab_size)\n",
    "\n",
    "    # Probabilities for generating words\n",
    "    probs = tf.nn.softmax(logits, name='probs')\n",
    "\n",
    "    # Loss function\n",
    "    cost = seq2seq.sequence_loss(\n",
    "        logits,\n",
    "        targets,\n",
    "        tf.ones([input_data_shape[0], input_data_shape[1]]))\n",
    "\n",
    "    # Optimizer\n",
    "    optimizer = tf.train.AdamOptimizer(lr)\n",
    "\n",
    "    # Gradient Clipping\n",
    "    gradients = optimizer.compute_gradients(cost)\n",
    "    capped_gradients = [(tf.clip_by_value(grad, -1., 1.), var) for grad, var in gradients]\n",
    "    train_op = optimizer.apply_gradients(capped_gradients)"
   ]
  },
  {
   "cell_type": "markdown",
   "metadata": {
    "deletable": true,
    "editable": true
   },
   "source": [
    "## Train\n",
    "Train the neural network on the preprocessed data.  If you have a hard time getting a good loss, check the [forms](https://discussions.udacity.com/) to see if anyone is having the same problem."
   ]
  },
  {
   "cell_type": "code",
   "execution_count": 11,
   "metadata": {
    "collapsed": false,
    "deletable": true,
    "editable": true
   },
   "outputs": [
    {
     "name": "stdout",
     "output_type": "stream",
     "text": [
      "Epoch   0 Batch    0/35   train_loss = 8.825\n",
      "Epoch   0 Batch   10/35   train_loss = 6.445\n",
      "Epoch   0 Batch   20/35   train_loss = 6.062\n",
      "Epoch   0 Batch   30/35   train_loss = 5.762\n",
      "Epoch   1 Batch    5/35   train_loss = 5.418\n",
      "Epoch   1 Batch   15/35   train_loss = 5.350\n",
      "Epoch   1 Batch   25/35   train_loss = 5.156\n",
      "Epoch   2 Batch    0/35   train_loss = 5.128\n",
      "Epoch   2 Batch   10/35   train_loss = 5.140\n",
      "Epoch   2 Batch   20/35   train_loss = 5.015\n",
      "Epoch   2 Batch   30/35   train_loss = 4.902\n",
      "Epoch   3 Batch    5/35   train_loss = 4.761\n",
      "Epoch   3 Batch   15/35   train_loss = 4.797\n",
      "Epoch   3 Batch   25/35   train_loss = 4.605\n",
      "Epoch   4 Batch    0/35   train_loss = 4.629\n",
      "Epoch   4 Batch   10/35   train_loss = 4.653\n",
      "Epoch   4 Batch   20/35   train_loss = 4.548\n",
      "Epoch   4 Batch   30/35   train_loss = 4.454\n",
      "Epoch   5 Batch    5/35   train_loss = 4.347\n",
      "Epoch   5 Batch   15/35   train_loss = 4.404\n",
      "Epoch   5 Batch   25/35   train_loss = 4.223\n",
      "Epoch   6 Batch    0/35   train_loss = 4.250\n",
      "Epoch   6 Batch   10/35   train_loss = 4.266\n",
      "Epoch   6 Batch   20/35   train_loss = 4.162\n",
      "Epoch   6 Batch   30/35   train_loss = 4.076\n",
      "Epoch   7 Batch    5/35   train_loss = 3.997\n",
      "Epoch   7 Batch   15/35   train_loss = 4.060\n",
      "Epoch   7 Batch   25/35   train_loss = 3.892\n",
      "Epoch   8 Batch    0/35   train_loss = 3.918\n",
      "Epoch   8 Batch   10/35   train_loss = 3.938\n",
      "Epoch   8 Batch   20/35   train_loss = 3.811\n",
      "Epoch   8 Batch   30/35   train_loss = 3.755\n",
      "Epoch   9 Batch    5/35   train_loss = 3.692\n",
      "Epoch   9 Batch   15/35   train_loss = 3.738\n",
      "Epoch   9 Batch   25/35   train_loss = 3.600\n",
      "Epoch  10 Batch    0/35   train_loss = 3.618\n",
      "Epoch  10 Batch   10/35   train_loss = 3.630\n",
      "Epoch  10 Batch   20/35   train_loss = 3.474\n",
      "Epoch  10 Batch   30/35   train_loss = 3.456\n",
      "Epoch  11 Batch    5/35   train_loss = 3.381\n",
      "Epoch  11 Batch   15/35   train_loss = 3.446\n",
      "Epoch  11 Batch   25/35   train_loss = 3.305\n",
      "Epoch  12 Batch    0/35   train_loss = 3.323\n",
      "Epoch  12 Batch   10/35   train_loss = 3.322\n",
      "Epoch  12 Batch   20/35   train_loss = 3.187\n",
      "Epoch  12 Batch   30/35   train_loss = 3.159\n",
      "Epoch  13 Batch    5/35   train_loss = 3.093\n",
      "Epoch  13 Batch   15/35   train_loss = 3.148\n",
      "Epoch  13 Batch   25/35   train_loss = 3.034\n",
      "Epoch  14 Batch    0/35   train_loss = 3.042\n",
      "Epoch  14 Batch   10/35   train_loss = 3.024\n",
      "Epoch  14 Batch   20/35   train_loss = 2.901\n",
      "Epoch  14 Batch   30/35   train_loss = 2.901\n",
      "Epoch  15 Batch    5/35   train_loss = 2.831\n",
      "Epoch  15 Batch   15/35   train_loss = 2.837\n",
      "Epoch  15 Batch   25/35   train_loss = 2.783\n",
      "Epoch  16 Batch    0/35   train_loss = 2.761\n",
      "Epoch  16 Batch   10/35   train_loss = 2.731\n",
      "Epoch  16 Batch   20/35   train_loss = 2.623\n",
      "Epoch  16 Batch   30/35   train_loss = 2.613\n",
      "Epoch  17 Batch    5/35   train_loss = 2.564\n",
      "Epoch  17 Batch   15/35   train_loss = 2.564\n",
      "Epoch  17 Batch   25/35   train_loss = 2.531\n",
      "Epoch  18 Batch    0/35   train_loss = 2.507\n",
      "Epoch  18 Batch   10/35   train_loss = 2.464\n",
      "Epoch  18 Batch   20/35   train_loss = 2.359\n",
      "Epoch  18 Batch   30/35   train_loss = 2.363\n",
      "Epoch  19 Batch    5/35   train_loss = 2.323\n",
      "Epoch  19 Batch   15/35   train_loss = 2.334\n",
      "Epoch  19 Batch   25/35   train_loss = 2.319\n",
      "Epoch  20 Batch    0/35   train_loss = 2.268\n",
      "Epoch  20 Batch   10/35   train_loss = 2.220\n",
      "Epoch  20 Batch   20/35   train_loss = 2.139\n",
      "Epoch  20 Batch   30/35   train_loss = 2.132\n",
      "Epoch  21 Batch    5/35   train_loss = 2.110\n",
      "Epoch  21 Batch   15/35   train_loss = 2.092\n",
      "Epoch  21 Batch   25/35   train_loss = 2.107\n",
      "Epoch  22 Batch    0/35   train_loss = 2.049\n",
      "Epoch  22 Batch   10/35   train_loss = 1.997\n",
      "Epoch  22 Batch   20/35   train_loss = 1.924\n",
      "Epoch  22 Batch   30/35   train_loss = 1.932\n",
      "Epoch  23 Batch    5/35   train_loss = 1.889\n",
      "Epoch  23 Batch   15/35   train_loss = 1.890\n",
      "Epoch  23 Batch   25/35   train_loss = 1.910\n",
      "Epoch  24 Batch    0/35   train_loss = 1.826\n",
      "Epoch  24 Batch   10/35   train_loss = 1.801\n",
      "Epoch  24 Batch   20/35   train_loss = 1.728\n",
      "Epoch  24 Batch   30/35   train_loss = 1.759\n",
      "Epoch  25 Batch    5/35   train_loss = 1.676\n",
      "Epoch  25 Batch   15/35   train_loss = 1.697\n",
      "Epoch  25 Batch   25/35   train_loss = 1.730\n",
      "Epoch  26 Batch    0/35   train_loss = 1.664\n",
      "Epoch  26 Batch   10/35   train_loss = 1.604\n",
      "Epoch  26 Batch   20/35   train_loss = 1.566\n",
      "Epoch  26 Batch   30/35   train_loss = 1.582\n",
      "Epoch  27 Batch    5/35   train_loss = 1.540\n",
      "Epoch  27 Batch   15/35   train_loss = 1.502\n",
      "Epoch  27 Batch   25/35   train_loss = 1.557\n",
      "Epoch  28 Batch    0/35   train_loss = 1.480\n",
      "Epoch  28 Batch   10/35   train_loss = 1.414\n",
      "Epoch  28 Batch   20/35   train_loss = 1.356\n",
      "Epoch  28 Batch   30/35   train_loss = 1.410\n",
      "Epoch  29 Batch    5/35   train_loss = 1.339\n",
      "Epoch  29 Batch   15/35   train_loss = 1.347\n",
      "Epoch  29 Batch   25/35   train_loss = 1.368\n",
      "Epoch  30 Batch    0/35   train_loss = 1.338\n",
      "Epoch  30 Batch   10/35   train_loss = 1.271\n",
      "Epoch  30 Batch   20/35   train_loss = 1.217\n",
      "Epoch  30 Batch   30/35   train_loss = 1.270\n",
      "Epoch  31 Batch    5/35   train_loss = 1.199\n",
      "Epoch  31 Batch   15/35   train_loss = 1.215\n",
      "Epoch  31 Batch   25/35   train_loss = 1.223\n",
      "Epoch  32 Batch    0/35   train_loss = 1.209\n",
      "Epoch  32 Batch   10/35   train_loss = 1.131\n",
      "Epoch  32 Batch   20/35   train_loss = 1.083\n",
      "Epoch  32 Batch   30/35   train_loss = 1.159\n",
      "Epoch  33 Batch    5/35   train_loss = 1.083\n",
      "Epoch  33 Batch   15/35   train_loss = 1.090\n",
      "Epoch  33 Batch   25/35   train_loss = 1.107\n",
      "Epoch  34 Batch    0/35   train_loss = 1.108\n",
      "Epoch  34 Batch   10/35   train_loss = 1.028\n",
      "Epoch  34 Batch   20/35   train_loss = 0.992\n",
      "Epoch  34 Batch   30/35   train_loss = 1.036\n",
      "Epoch  35 Batch    5/35   train_loss = 0.979\n",
      "Epoch  35 Batch   15/35   train_loss = 0.976\n",
      "Epoch  35 Batch   25/35   train_loss = 0.997\n",
      "Epoch  36 Batch    0/35   train_loss = 0.970\n",
      "Epoch  36 Batch   10/35   train_loss = 0.900\n",
      "Epoch  36 Batch   20/35   train_loss = 0.874\n",
      "Epoch  36 Batch   30/35   train_loss = 0.915\n",
      "Epoch  37 Batch    5/35   train_loss = 0.871\n",
      "Epoch  37 Batch   15/35   train_loss = 0.865\n",
      "Epoch  37 Batch   25/35   train_loss = 0.881\n",
      "Epoch  38 Batch    0/35   train_loss = 0.866\n",
      "Epoch  38 Batch   10/35   train_loss = 0.840\n",
      "Epoch  38 Batch   20/35   train_loss = 0.777\n",
      "Epoch  38 Batch   30/35   train_loss = 0.832\n",
      "Epoch  39 Batch    5/35   train_loss = 0.786\n",
      "Epoch  39 Batch   15/35   train_loss = 0.793\n",
      "Epoch  39 Batch   25/35   train_loss = 0.772\n",
      "Epoch  40 Batch    0/35   train_loss = 0.801\n",
      "Epoch  40 Batch   10/35   train_loss = 0.742\n",
      "Epoch  40 Batch   20/35   train_loss = 0.690\n",
      "Epoch  40 Batch   30/35   train_loss = 0.747\n",
      "Epoch  41 Batch    5/35   train_loss = 0.701\n",
      "Epoch  41 Batch   15/35   train_loss = 0.706\n",
      "Epoch  41 Batch   25/35   train_loss = 0.703\n",
      "Epoch  42 Batch    0/35   train_loss = 0.713\n",
      "Epoch  42 Batch   10/35   train_loss = 0.662\n",
      "Epoch  42 Batch   20/35   train_loss = 0.620\n",
      "Epoch  42 Batch   30/35   train_loss = 0.671\n",
      "Epoch  43 Batch    5/35   train_loss = 0.622\n",
      "Epoch  43 Batch   15/35   train_loss = 0.634\n",
      "Epoch  43 Batch   25/35   train_loss = 0.620\n",
      "Epoch  44 Batch    0/35   train_loss = 0.636\n",
      "Epoch  44 Batch   10/35   train_loss = 0.594\n",
      "Epoch  44 Batch   20/35   train_loss = 0.556\n",
      "Epoch  44 Batch   30/35   train_loss = 0.600\n",
      "Epoch  45 Batch    5/35   train_loss = 0.563\n",
      "Epoch  45 Batch   15/35   train_loss = 0.565\n",
      "Epoch  45 Batch   25/35   train_loss = 0.555\n",
      "Epoch  46 Batch    0/35   train_loss = 0.580\n",
      "Epoch  46 Batch   10/35   train_loss = 0.546\n",
      "Epoch  46 Batch   20/35   train_loss = 0.496\n",
      "Epoch  46 Batch   30/35   train_loss = 0.540\n",
      "Epoch  47 Batch    5/35   train_loss = 0.513\n",
      "Epoch  47 Batch   15/35   train_loss = 0.512\n",
      "Epoch  47 Batch   25/35   train_loss = 0.498\n",
      "Epoch  48 Batch    0/35   train_loss = 0.522\n",
      "Epoch  48 Batch   10/35   train_loss = 0.494\n",
      "Epoch  48 Batch   20/35   train_loss = 0.454\n",
      "Epoch  48 Batch   30/35   train_loss = 0.500\n",
      "Epoch  49 Batch    5/35   train_loss = 0.464\n",
      "Epoch  49 Batch   15/35   train_loss = 0.472\n",
      "Epoch  49 Batch   25/35   train_loss = 0.454\n",
      "Epoch  50 Batch    0/35   train_loss = 0.480\n",
      "Epoch  50 Batch   10/35   train_loss = 0.453\n",
      "Epoch  50 Batch   20/35   train_loss = 0.411\n",
      "Epoch  50 Batch   30/35   train_loss = 0.449\n",
      "Epoch  51 Batch    5/35   train_loss = 0.427\n",
      "Epoch  51 Batch   15/35   train_loss = 0.439\n",
      "Epoch  51 Batch   25/35   train_loss = 0.414\n",
      "Epoch  52 Batch    0/35   train_loss = 0.443\n",
      "Epoch  52 Batch   10/35   train_loss = 0.420\n",
      "Epoch  52 Batch   20/35   train_loss = 0.388\n",
      "Epoch  52 Batch   30/35   train_loss = 0.421\n",
      "Epoch  53 Batch    5/35   train_loss = 0.403\n",
      "Epoch  53 Batch   15/35   train_loss = 0.418\n",
      "Epoch  53 Batch   25/35   train_loss = 0.390\n",
      "Epoch  54 Batch    0/35   train_loss = 0.426\n",
      "Epoch  54 Batch   10/35   train_loss = 0.391\n",
      "Epoch  54 Batch   20/35   train_loss = 0.360\n",
      "Epoch  54 Batch   30/35   train_loss = 0.392\n",
      "Epoch  55 Batch    5/35   train_loss = 0.377\n",
      "Epoch  55 Batch   15/35   train_loss = 0.378\n",
      "Epoch  55 Batch   25/35   train_loss = 0.351\n",
      "Epoch  56 Batch    0/35   train_loss = 0.391\n",
      "Epoch  56 Batch   10/35   train_loss = 0.361\n",
      "Epoch  56 Batch   20/35   train_loss = 0.326\n",
      "Epoch  56 Batch   30/35   train_loss = 0.354\n",
      "Epoch  57 Batch    5/35   train_loss = 0.349\n",
      "Epoch  57 Batch   15/35   train_loss = 0.360\n",
      "Epoch  57 Batch   25/35   train_loss = 0.326\n",
      "Epoch  58 Batch    0/35   train_loss = 0.356\n",
      "Epoch  58 Batch   10/35   train_loss = 0.333\n",
      "Epoch  58 Batch   20/35   train_loss = 0.308\n",
      "Epoch  58 Batch   30/35   train_loss = 0.330\n",
      "Epoch  59 Batch    5/35   train_loss = 0.327\n",
      "Epoch  59 Batch   15/35   train_loss = 0.336\n",
      "Epoch  59 Batch   25/35   train_loss = 0.307\n",
      "Epoch  60 Batch    0/35   train_loss = 0.338\n",
      "Epoch  60 Batch   10/35   train_loss = 0.316\n",
      "Epoch  60 Batch   20/35   train_loss = 0.292\n",
      "Epoch  60 Batch   30/35   train_loss = 0.312\n",
      "Epoch  61 Batch    5/35   train_loss = 0.315\n",
      "Epoch  61 Batch   15/35   train_loss = 0.319\n",
      "Epoch  61 Batch   25/35   train_loss = 0.295\n",
      "Epoch  62 Batch    0/35   train_loss = 0.316\n",
      "Epoch  62 Batch   10/35   train_loss = 0.303\n",
      "Epoch  62 Batch   20/35   train_loss = 0.278\n",
      "Epoch  62 Batch   30/35   train_loss = 0.300\n",
      "Epoch  63 Batch    5/35   train_loss = 0.299\n",
      "Epoch  63 Batch   15/35   train_loss = 0.304\n",
      "Epoch  63 Batch   25/35   train_loss = 0.279\n",
      "Epoch  64 Batch    0/35   train_loss = 0.304\n",
      "Epoch  64 Batch   10/35   train_loss = 0.289\n",
      "Epoch  64 Batch   20/35   train_loss = 0.267\n",
      "Epoch  64 Batch   30/35   train_loss = 0.285\n",
      "Epoch  65 Batch    5/35   train_loss = 0.287\n",
      "Epoch  65 Batch   15/35   train_loss = 0.290\n",
      "Epoch  65 Batch   25/35   train_loss = 0.272\n",
      "Epoch  66 Batch    0/35   train_loss = 0.293\n",
      "Epoch  66 Batch   10/35   train_loss = 0.283\n",
      "Epoch  66 Batch   20/35   train_loss = 0.256\n",
      "Epoch  66 Batch   30/35   train_loss = 0.279\n",
      "Epoch  67 Batch    5/35   train_loss = 0.279\n",
      "Epoch  67 Batch   15/35   train_loss = 0.283\n",
      "Epoch  67 Batch   25/35   train_loss = 0.262\n",
      "Epoch  68 Batch    0/35   train_loss = 0.281\n",
      "Epoch  68 Batch   10/35   train_loss = 0.273\n",
      "Epoch  68 Batch   20/35   train_loss = 0.248\n",
      "Epoch  68 Batch   30/35   train_loss = 0.267\n",
      "Epoch  69 Batch    5/35   train_loss = 0.268\n",
      "Epoch  69 Batch   15/35   train_loss = 0.275\n",
      "Epoch  69 Batch   25/35   train_loss = 0.253\n",
      "Model Trained and Saved\n"
     ]
    }
   ],
   "source": [
    "\"\"\"\n",
    "DON'T MODIFY ANYTHING IN THIS CELL\n",
    "\"\"\"\n",
    "batches = get_batches(int_text, batch_size, seq_length)\n",
    "\n",
    "with tf.Session(graph=train_graph) as sess:\n",
    "    sess.run(tf.global_variables_initializer())\n",
    "\n",
    "    for epoch_i in range(num_epochs):\n",
    "        state = sess.run(initial_state, {input_text: batches[0][0]})\n",
    "\n",
    "        for batch_i, (x, y) in enumerate(batches):\n",
    "            feed = {\n",
    "                input_text: x,\n",
    "                targets: y,\n",
    "                initial_state: state,\n",
    "                lr: learning_rate}\n",
    "            train_loss, state, _ = sess.run([cost, final_state, train_op], feed)\n",
    "\n",
    "            # Show every <show_every_n_batches> batches\n",
    "            if (epoch_i * len(batches) + batch_i) % show_every_n_batches == 0:\n",
    "                print('Epoch {:>3} Batch {:>4}/{}   train_loss = {:.3f}'.format(\n",
    "                    epoch_i,\n",
    "                    batch_i,\n",
    "                    len(batches),\n",
    "                    train_loss))\n",
    "\n",
    "    # Save Model\n",
    "    saver = tf.train.Saver()\n",
    "    saver.save(sess, save_dir)\n",
    "    print('Model Trained and Saved')"
   ]
  },
  {
   "cell_type": "markdown",
   "metadata": {
    "deletable": true,
    "editable": true
   },
   "source": [
    "## Save Parameters\n",
    "Save `seq_length` and `save_dir` for generating a new TV script."
   ]
  },
  {
   "cell_type": "code",
   "execution_count": 12,
   "metadata": {
    "collapsed": false,
    "deletable": true,
    "editable": true
   },
   "outputs": [],
   "source": [
    "\"\"\"\n",
    "DON'T MODIFY ANYTHING IN THIS CELL\n",
    "\"\"\"\n",
    "# Save parameters for checkpoint\n",
    "helper.save_params((seq_length, save_dir))"
   ]
  },
  {
   "cell_type": "markdown",
   "metadata": {
    "deletable": true,
    "editable": true
   },
   "source": [
    "# Checkpoint"
   ]
  },
  {
   "cell_type": "code",
   "execution_count": 13,
   "metadata": {
    "collapsed": false,
    "deletable": true,
    "editable": true
   },
   "outputs": [],
   "source": [
    "\"\"\"\n",
    "DON'T MODIFY ANYTHING IN THIS CELL\n",
    "\"\"\"\n",
    "import tensorflow as tf\n",
    "import numpy as np\n",
    "import helper\n",
    "import problem_unittests as tests\n",
    "\n",
    "_, vocab_to_int, int_to_vocab, token_dict = helper.load_preprocess()\n",
    "seq_length, load_dir = helper.load_params()"
   ]
  },
  {
   "cell_type": "markdown",
   "metadata": {
    "deletable": true,
    "editable": true
   },
   "source": [
    "## Implement Generate Functions\n",
    "### Get Tensors\n",
    "Get tensors from `loaded_graph` using the function [`get_tensor_by_name()`](https://www.tensorflow.org/api_docs/python/tf/Graph#get_tensor_by_name).  Get the tensors using the following names:\n",
    "- \"input:0\"\n",
    "- \"initial_state:0\"\n",
    "- \"final_state:0\"\n",
    "- \"probs:0\"\n",
    "\n",
    "Return the tensors in the following tuple `(InputTensor, InitialStateTensor, FinalStateTensor, ProbsTensor)` "
   ]
  },
  {
   "cell_type": "code",
   "execution_count": 14,
   "metadata": {
    "collapsed": false,
    "deletable": true,
    "editable": true
   },
   "outputs": [
    {
     "name": "stdout",
     "output_type": "stream",
     "text": [
      "Tests Passed\n"
     ]
    }
   ],
   "source": [
    "def get_tensors(loaded_graph):\n",
    "    \"\"\"\n",
    "    Get input, initial state, final state, and probabilities tensor from <loaded_graph>\n",
    "    :param loaded_graph: TensorFlow graph loaded from file\n",
    "    :return: Tuple (InputTensor, InitialStateTensor, FinalStateTensor, ProbsTensor)\n",
    "    \"\"\"\n",
    "    # TODO: Implement Function\n",
    "    InputTensor = loaded_graph.get_tensor_by_name(\"input:0\")\n",
    "    InitialStateTensor = loaded_graph.get_tensor_by_name(\"initial_state:0\")\n",
    "    FinalStateTensor = loaded_graph.get_tensor_by_name(\"final_state:0\")\n",
    "    ProbsTensor = loaded_graph.get_tensor_by_name(\"probs:0\")\n",
    "    return InputTensor, InitialStateTensor, FinalStateTensor, ProbsTensor\n",
    "\n",
    "\n",
    "\"\"\"\n",
    "DON'T MODIFY ANYTHING IN THIS CELL THAT IS BELOW THIS LINE\n",
    "\"\"\"\n",
    "tests.test_get_tensors(get_tensors)"
   ]
  },
  {
   "cell_type": "markdown",
   "metadata": {
    "deletable": true,
    "editable": true
   },
   "source": [
    "### Choose Word\n",
    "Implement the `pick_word()` function to select the next word using `probabilities`."
   ]
  },
  {
   "cell_type": "code",
   "execution_count": 15,
   "metadata": {
    "collapsed": false,
    "deletable": true,
    "editable": true
   },
   "outputs": [
    {
     "name": "stdout",
     "output_type": "stream",
     "text": [
      "Tests Passed\n"
     ]
    }
   ],
   "source": [
    "def pick_word(probabilities, int_to_vocab):\n",
    "    \"\"\"\n",
    "    Pick the next word in the generated text\n",
    "    :param probabilities: Probabilites of the next word\n",
    "    :param int_to_vocab: Dictionary of word ids as the keys and words as the values\n",
    "    :return: String of the predicted word\n",
    "    \"\"\"\n",
    "    # TODO: Implement Function\n",
    "    c = np.random.choice(len(int_to_vocab), 1, p=probabilities)[0]\n",
    "    return int_to_vocab[c]\n",
    "\n",
    "\n",
    "\"\"\"\n",
    "DON'T MODIFY ANYTHING IN THIS CELL THAT IS BELOW THIS LINE\n",
    "\"\"\"\n",
    "tests.test_pick_word(pick_word)"
   ]
  },
  {
   "cell_type": "markdown",
   "metadata": {
    "deletable": true,
    "editable": true
   },
   "source": [
    "## Generate TV Script\n",
    "This will generate the TV script for you.  Set `gen_length` to the length of TV script you want to generate."
   ]
  },
  {
   "cell_type": "code",
   "execution_count": 16,
   "metadata": {
    "collapsed": false,
    "deletable": true,
    "editable": true
   },
   "outputs": [
    {
     "name": "stdout",
     "output_type": "stream",
     "text": [
      "moe_szyslak: ah, business is slow. people today; drinking at springfield.\n",
      "moe's_thoughts:(to the camera) i made cheer up or that on the fire.\n",
      "kirk_van_houten: go ahead to your life is tom nine.\n",
      "homer_simpson:(nervous)\n",
      "homer_simpson: help me help me with you and me? i leave it alone i look in some kind of watching things. that can see the funny you doin' your house.\n",
      "homer_simpson: oh, now...\n",
      "marge_simpson: homer, i got the cash to kill you.\n",
      "moe_szyslak: you just can't make money to give a baby that.\n",
      "moe_szyslak:(to self) santeria, you're the most was a man should do with the mexicans.\n",
      "lenny_leonard: hey bar-boy, we all eat a test thorough.\n",
      "homer_simpson: i can't sell beer my friend / i love a woman.\n",
      "moe_szyslak:(worried. they brought us good for.\n",
      "barney_gumble: not one chocolate, homer.\n",
      "moe_szyslak: really? it's not over by our, uh, denver. uh, what kind of thinking. you\n"
     ]
    }
   ],
   "source": [
    "gen_length = 200\n",
    "# homer_simpson, moe_szyslak, or Barney_Gumble\n",
    "prime_word = 'moe_szyslak'\n",
    "\n",
    "\"\"\"\n",
    "DON'T MODIFY ANYTHING IN THIS CELL THAT IS BELOW THIS LINE\n",
    "\"\"\"\n",
    "loaded_graph = tf.Graph()\n",
    "with tf.Session(graph=loaded_graph) as sess:\n",
    "    # Load saved model\n",
    "    loader = tf.train.import_meta_graph(load_dir + '.meta')\n",
    "    loader.restore(sess, load_dir)\n",
    "\n",
    "    # Get Tensors from loaded model\n",
    "    input_text, initial_state, final_state, probs = get_tensors(loaded_graph)\n",
    "\n",
    "    # Sentences generation setup\n",
    "    gen_sentences = [prime_word + ':']\n",
    "    prev_state = sess.run(initial_state, {input_text: np.array([[1]])})\n",
    "\n",
    "    # Generate sentences\n",
    "    for n in range(gen_length):\n",
    "        # Dynamic Input\n",
    "        dyn_input = [[vocab_to_int[word] for word in gen_sentences[-seq_length:]]]\n",
    "        dyn_seq_length = len(dyn_input[0])\n",
    "\n",
    "        # Get Prediction\n",
    "        probabilities, prev_state = sess.run(\n",
    "            [probs, final_state],\n",
    "            {input_text: dyn_input, initial_state: prev_state})\n",
    "        \n",
    "        pred_word = pick_word(probabilities[dyn_seq_length-1], int_to_vocab)\n",
    "\n",
    "        gen_sentences.append(pred_word)\n",
    "    \n",
    "    # Remove tokens\n",
    "    tv_script = ' '.join(gen_sentences)\n",
    "    for key, token in token_dict.items():\n",
    "        ending = ' ' if key in ['\\n', '(', '\"'] else ''\n",
    "        tv_script = tv_script.replace(' ' + token.lower(), key)\n",
    "    tv_script = tv_script.replace('\\n ', '\\n')\n",
    "    tv_script = tv_script.replace('( ', '(')\n",
    "        \n",
    "    print(tv_script)"
   ]
  },
  {
   "cell_type": "markdown",
   "metadata": {
    "deletable": true,
    "editable": true
   },
   "source": [
    "# The TV Script is Nonsensical\n",
    "It's ok if the TV script doesn't make any sense.  We trained on less than a megabyte of text.  In order to get good results, you'll have to use a smaller vocabulary or get more data.  Luckly there's more data!  As we mentioned in the begging of this project, this is a subset of [another dataset](https://www.kaggle.com/wcukierski/the-simpsons-by-the-data).  We didn't have you train on all the data, because that would take too long.  However, you are free to train your neural network on all the data.  After you complete the project, of course.\n",
    "# Submitting This Project\n",
    "When submitting this project, make sure to run all the cells before saving the notebook. Save the notebook file as \"dlnd_tv_script_generation.ipynb\" and save it as a HTML file under \"File\" -> \"Download as\". Include the \"helper.py\" and \"problem_unittests.py\" files in your submission."
   ]
  }
 ],
 "metadata": {
  "anaconda-cloud": {},
  "kernelspec": {
   "display_name": "Python 3",
   "language": "python",
   "name": "python3"
  },
  "language_info": {
   "codemirror_mode": {
    "name": "ipython",
    "version": 3
   },
   "file_extension": ".py",
   "mimetype": "text/x-python",
   "name": "python",
   "nbconvert_exporter": "python",
   "pygments_lexer": "ipython3",
   "version": "3.5.2"
  },
  "widgets": {
   "state": {},
   "version": "1.1.2"
  }
 },
 "nbformat": 4,
 "nbformat_minor": 0
}
